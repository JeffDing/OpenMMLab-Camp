{
 "cells": [
  {
   "cell_type": "code",
   "execution_count": 6,
   "id": "9fb87b48-0c88-4bb4-b52c-0a9de78c820e",
   "metadata": {
    "tags": []
   },
   "outputs": [],
   "source": [
    "import os\n",
    "os.chdir('mmpose')"
   ]
  },
  {
   "cell_type": "code",
   "execution_count": 4,
   "id": "a1e753d7-7b01-4a45-bba6-a0bfe7bbfb74",
   "metadata": {
    "tags": []
   },
   "outputs": [],
   "source": [
    "import os\n",
    "\n",
    "# 创建 checkpoint 文件夹，用于存放预训练模型权重文件\n",
    "os.mkdir('checkpoint')\n",
    "\n",
    "# 创建 outputs 文件夹，用于存放预测结果\n",
    "os.mkdir('outputs')\n",
    "\n",
    "# 创建 data 文件夹，用于存放图片和视频素材\n",
    "os.mkdir('data')\n",
    "\n",
    "os.mkdir('data/test')"
   ]
  },
  {
   "cell_type": "code",
   "execution_count": 7,
   "id": "8e27f83c-8376-475e-a995-f243e52bcdd0",
   "metadata": {
    "tags": []
   },
   "outputs": [
    {
     "name": "stdout",
     "output_type": "stream",
     "text": [
      "--2023-06-03 02:56:50--  https://zihao-openmmlab.obs.cn-east-3.myhuaweicloud.com/20220610-mmpose/images/multi-person.jpeg\n",
      "Resolving zihao-openmmlab.obs.cn-east-3.myhuaweicloud.com (zihao-openmmlab.obs.cn-east-3.myhuaweicloud.com)... 121.36.235.132\n",
      "Connecting to zihao-openmmlab.obs.cn-east-3.myhuaweicloud.com (zihao-openmmlab.obs.cn-east-3.myhuaweicloud.com)|121.36.235.132|:443... connected.\n",
      "HTTP request sent, awaiting response... 200 OK\n",
      "Length: 604280 (590K) [image/jpeg]\n",
      "Saving to: ‘data/test/multi-person.jpeg’\n",
      "\n",
      "data/test/multi-per 100%[===================>] 590.12K  2.86MB/s    in 0.2s    \n",
      "\n",
      "2023-06-03 02:56:50 (2.86 MB/s) - ‘data/test/multi-person.jpeg’ saved [604280/604280]\n",
      "\n",
      "--2023-06-03 02:56:50--  https://zihao-openmmlab.obs.myhuaweicloud.com/20220610-mmpose/videos/cxk.mp4\n",
      "Resolving zihao-openmmlab.obs.myhuaweicloud.com (zihao-openmmlab.obs.myhuaweicloud.com)... 121.36.235.132\n",
      "Connecting to zihao-openmmlab.obs.myhuaweicloud.com (zihao-openmmlab.obs.myhuaweicloud.com)|121.36.235.132|:443... connected.\n",
      "HTTP request sent, awaiting response... 200 OK\n",
      "Length: 5535528 (5.3M) [video/mp4]\n",
      "Saving to: ‘data/test/cxk.mp4’\n",
      "\n",
      "cxk.mp4             100%[===================>]   5.28M  16.1MB/s    in 0.3s    \n",
      "\n",
      "2023-06-03 02:56:51 (16.1 MB/s) - ‘data/test/cxk.mp4’ saved [5535528/5535528]\n",
      "\n",
      "--2023-06-03 02:56:51--  https://zihao-openmmlab.obs.myhuaweicloud.com/20220610-mmpose/videos/mother_wx.mp4\n",
      "Resolving zihao-openmmlab.obs.myhuaweicloud.com (zihao-openmmlab.obs.myhuaweicloud.com)... 121.36.235.132\n",
      "Connecting to zihao-openmmlab.obs.myhuaweicloud.com (zihao-openmmlab.obs.myhuaweicloud.com)|121.36.235.132|:443... connected.\n",
      "HTTP request sent, awaiting response... 200 OK\n",
      "Length: 402665 (393K) [video/mp4]\n",
      "Saving to: ‘data/test/mother_wx.mp4’\n",
      "\n",
      "mother_wx.mp4       100%[===================>] 393.23K  2.09MB/s    in 0.2s    \n",
      "\n",
      "2023-06-03 02:56:51 (2.09 MB/s) - ‘data/test/mother_wx.mp4’ saved [402665/402665]\n",
      "\n",
      "--2023-06-03 02:56:52--  https://zihao-openmmlab.obs.cn-east-3.myhuaweicloud.com/20220610-mmpose/videos/two-girls.mp4\n",
      "Resolving zihao-openmmlab.obs.cn-east-3.myhuaweicloud.com (zihao-openmmlab.obs.cn-east-3.myhuaweicloud.com)... 121.36.235.132\n",
      "Connecting to zihao-openmmlab.obs.cn-east-3.myhuaweicloud.com (zihao-openmmlab.obs.cn-east-3.myhuaweicloud.com)|121.36.235.132|:443... connected.\n",
      "HTTP request sent, awaiting response... 200 OK\n",
      "Length: 44217475 (42M) [video/mp4]\n",
      "Saving to: ‘data/test/two-girls.mp4’\n",
      "\n",
      "data/test/two-girls 100%[===================>]  42.17M  5.84MB/s    in 5.1s    \n",
      "\n",
      "2023-06-03 02:56:57 (8.20 MB/s) - ‘data/test/two-girls.mp4’ saved [44217475/44217475]\n",
      "\n"
     ]
    }
   ],
   "source": [
    "# 多人图片，来源：https://www.pexels.com/zh-cn/photo/2168292/\n",
    "!wget https://zihao-openmmlab.obs.cn-east-3.myhuaweicloud.com/20220610-mmpose/images/multi-person.jpeg -O data/test/multi-person.jpeg\n",
    "\n",
    "# 单人视频-唱跳篮球 \n",
    "!wget https://zihao-openmmlab.obs.myhuaweicloud.com/20220610-mmpose/videos/cxk.mp4 -P data/test\n",
    "\n",
    "# 妈妈和女儿跳舞，经微信压缩\n",
    "!wget https://zihao-openmmlab.obs.myhuaweicloud.com/20220610-mmpose/videos/mother_wx.mp4 -P data/test\n",
    "\n",
    "# 两个女生跳舞视频，来源：https://mixkit.co/free-stock-video/two-girls-having-fun-in-a-retro-restaurant-42298/\n",
    "!wget https://zihao-openmmlab.obs.cn-east-3.myhuaweicloud.com/20220610-mmpose/videos/two-girls.mp4 -O data/test/two-girls.mp4"
   ]
  },
  {
   "cell_type": "code",
   "execution_count": 3,
   "id": "4bfab934-564c-43c3-9186-5cae499b37a9",
   "metadata": {
    "tags": []
   },
   "outputs": [],
   "source": [
    "import os\n",
    "os.chdir('../mmdetection')"
   ]
  },
  {
   "cell_type": "code",
   "execution_count": null,
   "id": "46b74c18-1cad-4c18-9232-2553ae11d20e",
   "metadata": {},
   "outputs": [],
   "source": []
  }
 ],
 "metadata": {
  "kernelspec": {
   "display_name": "Python 3 (ipykernel)",
   "language": "python",
   "name": "python3"
  },
  "language_info": {
   "codemirror_mode": {
    "name": "ipython",
    "version": 3
   },
   "file_extension": ".py",
   "mimetype": "text/x-python",
   "name": "python",
   "nbconvert_exporter": "python",
   "pygments_lexer": "ipython3",
   "version": "3.10.9"
  }
 },
 "nbformat": 4,
 "nbformat_minor": 5
}
