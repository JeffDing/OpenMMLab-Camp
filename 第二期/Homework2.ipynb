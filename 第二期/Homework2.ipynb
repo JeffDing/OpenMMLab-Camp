{
 "cells": [
  {
   "cell_type": "markdown",
   "id": "66ee7cba",
   "metadata": {},
   "source": [
    "### 划分训练集和验证集"
   ]
  },
  {
   "cell_type": "code",
   "execution_count": 2,
   "id": "3576f01d",
   "metadata": {},
   "outputs": [],
   "source": [
    "import os\n",
    " \n",
    "# 获取数据集文件夹路径\n",
    "CustomDatasetPath = r'mmpretrain/data/fruit/'\n",
    "# 获取数据集文件夹下的所有文件\n",
    "CustomDatasetFile = os.listdir(CustomDatasetPath)\n",
    "# 如果文件夹中不存在train、val、test文件夹，则创建\n",
    "dataset_type = ['train', 'val', 'test']\n",
    "for type in dataset_type:\n",
    "    if type not in CustomDatasetFile:\n",
    "        os.mkdir(os.path.join(CustomDatasetPath, type))\n",
    "    else:\n",
    "        # 清空文件夹\n",
    "        os.removedirs(os.path.join(CustomDatasetPath, type))\n",
    " \n",
    "# 遍历所有文件\n",
    "for fruit_name in CustomDatasetFile:\n",
    "    for type in dataset_type:\n",
    "        os.mkdir(os.path.join(CustomDatasetPath, type, fruit_name))\n",
    "    # 水果文件夹路径\n",
    "    fruit_path = os.path.join(CustomDatasetPath, fruit_name)\n",
    "    # 获取水果文件夹下的所有文件\n",
    "    fruit_file = os.listdir(fruit_path)\n",
    "    # 将水果文件夹下的所有文件分为训练集、验证集、测试集\n",
    "    train_file = fruit_file[:int(len(fruit_file)*0.8)]\n",
    "    val_file = fruit_file[int(len(fruit_file)*0.8):int(len(fruit_file)*0.9)]\n",
    "    test_file = fruit_file[int(len(fruit_file)*0.9):]\n",
    "    # 将训练集、验证集、测试集分别放入对应文件夹\n",
    "    for file in train_file:\n",
    "        os.rename(os.path.join(fruit_path, file), os.path.join(CustomDatasetPath, 'train', fruit_name, file))\n",
    "    for file in val_file:\n",
    "        os.rename(os.path.join(fruit_path, file), os.path.join(CustomDatasetPath, 'val', fruit_name, file))\n",
    "    for file in test_file:\n",
    "        os.rename(os.path.join(fruit_path, file), os.path.join(CustomDatasetPath, 'test', fruit_name, file))\n",
    "    # 删除空文件夹\n",
    "    os.removedirs(fruit_path)"
   ]
  },
  {
   "cell_type": "code",
   "execution_count": 2,
   "id": "6e22f276",
   "metadata": {},
   "outputs": [
    {
     "name": "stdout",
     "output_type": "stream",
     "text": [
      "mmpretrain/data/fruit/train/\n",
      "├── 哈密瓜 [120 entries exceeds filelimit, not opening dir]\n",
      "├── 圣女果 [122 entries exceeds filelimit, not opening dir]\n",
      "├── 山竹 [114 entries exceeds filelimit, not opening dir]\n",
      "├── 杨梅 [119 entries exceeds filelimit, not opening dir]\n",
      "├── 柚子 [118 entries exceeds filelimit, not opening dir]\n",
      "├── 柠檬 [95 entries exceeds filelimit, not opening dir]\n",
      "├── 桂圆 [122 entries exceeds filelimit, not opening dir]\n",
      "├── 梨 [120 entries exceeds filelimit, not opening dir]\n",
      "├── 椰子 [123 entries exceeds filelimit, not opening dir]\n",
      "├── 榴莲 [118 entries exceeds filelimit, not opening dir]\n",
      "├── 火龙果 [116 entries exceeds filelimit, not opening dir]\n",
      "├── 猕猴桃 [120 entries exceeds filelimit, not opening dir]\n",
      "├── 石榴 [120 entries exceeds filelimit, not opening dir]\n",
      "├── 砂糖橘 [113 entries exceeds filelimit, not opening dir]\n",
      "├── 胡萝卜 [116 entries exceeds filelimit, not opening dir]\n",
      "├── 脐橙 [120 entries exceeds filelimit, not opening dir]\n",
      "├── 芒果 [105 entries exceeds filelimit, not opening dir]\n",
      "├── 苦瓜 [115 entries exceeds filelimit, not opening dir]\n",
      "├── 苹果-红 [113 entries exceeds filelimit, not opening dir]\n",
      "├── 苹果-青 [120 entries exceeds filelimit, not opening dir]\n",
      "├── 草莓 [122 entries exceeds filelimit, not opening dir]\n",
      "├── 荔枝 [124 entries exceeds filelimit, not opening dir]\n",
      "├── 菠萝 [121 entries exceeds filelimit, not opening dir]\n",
      "├── 葡萄-白 [99 entries exceeds filelimit, not opening dir]\n",
      "├── 葡萄-红 [124 entries exceeds filelimit, not opening dir]\n",
      "├── 西瓜 [119 entries exceeds filelimit, not opening dir]\n",
      "├── 西红柿 [118 entries exceeds filelimit, not opening dir]\n",
      "├── 车厘子 [103 entries exceeds filelimit, not opening dir]\n",
      "├── 香蕉 [116 entries exceeds filelimit, not opening dir]\n",
      "└── 黄瓜 [112 entries exceeds filelimit, not opening dir]\n",
      "\n",
      "30 directories, 0 files\n"
     ]
    }
   ],
   "source": [
    "# 查看训练集内容\n",
    "\n",
    "!tree mmpretrain/data/fruit/train/ --filelimit=30"
   ]
  },
  {
   "cell_type": "markdown",
   "id": "7c9bfd91",
   "metadata": {},
   "source": [
    "### 使用 MMPreTrain 算法库，编写配置文件，正确加载预训练模型\n",
    "\n",
    "resnet50_fintune.py"
   ]
  },
  {
   "cell_type": "code",
   "execution_count": null,
   "id": "63764515",
   "metadata": {},
   "outputs": [],
   "source": [
    "model = dict(\n",
    "    type='ImageClassifier',\n",
    "    backbone=dict(\n",
    "        type='ResNet',\n",
    "        depth=50,\n",
    "        num_stages=4,\n",
    "        out_indices=(3, ),\n",
    "        style='pytorch'),\n",
    "    neck=dict(type='GlobalAveragePooling'),\n",
    "    head=dict(\n",
    "        type='LinearClsHead',\n",
    "        num_classes=30,\n",
    "        in_channels=2048,\n",
    "        loss=dict(type='CrossEntropyLoss', loss_weight=1.0),\n",
    "        topk=(1, 5)),\n",
    "    init_cfg=dict(\n",
    "        type='Pretrained',\n",
    "        checkpoint=\n",
    "        'https://download.openmmlab.com/mmclassification/v0/resnet/resnet50_8xb32_in1k_20210831-ea4938fc.pth'\n",
    "    ))\n",
    "dataset_type = 'CustomDataset'\n",
    "data_preprocessor = dict(\n",
    "    num_classes=30,\n",
    "    mean=[123.675, 116.28, 103.53],\n",
    "    std=[58.395, 57.12, 57.375],\n",
    "    to_rgb=True)\n",
    "train_pipeline = [\n",
    "    dict(type='LoadImageFromFile'),\n",
    "    dict(type='RandomResizedCrop', scale=224),\n",
    "    dict(type='RandomFlip', prob=0.5, direction='horizontal'),\n",
    "    dict(type='PackInputs')\n",
    "]\n",
    "test_pipeline = [\n",
    "    dict(type='LoadImageFromFile'),\n",
    "    dict(type='ResizeEdge', scale=256, edge='short'),\n",
    "    dict(type='CenterCrop', crop_size=224),\n",
    "    dict(type='PackInputs')\n",
    "]\n",
    "train_dataloader = dict(\n",
    "    pin_memory=True,\n",
    "    persistent_workers=True,\n",
    "    collate_fn=dict(type='default_collate'),\n",
    "    batch_size=32,\n",
    "    num_workers=12,\n",
    "    dataset=dict(\n",
    "        type='CustomDataset',\n",
    "        data_root='data/fruit/train',\n",
    "        pipeline=[\n",
    "            dict(type='LoadImageFromFile'),\n",
    "            dict(type='RandomResizedCrop', scale=224),\n",
    "            dict(type='RandomFlip', prob=0.5, direction='horizontal'),\n",
    "            dict(type='PackInputs')\n",
    "        ]),\n",
    "    sampler=dict(type='DefaultSampler', shuffle=True))\n",
    "val_dataloader = dict(\n",
    "    pin_memory=True,\n",
    "    persistent_workers=True,\n",
    "    collate_fn=dict(type='default_collate'),\n",
    "    batch_size=64,\n",
    "    num_workers=12,\n",
    "    dataset=dict(\n",
    "        type='CustomDataset',\n",
    "        data_root='data/fruit/val',\n",
    "        pipeline=[\n",
    "            dict(type='LoadImageFromFile'),\n",
    "            dict(type='ResizeEdge', scale=256, edge='short'),\n",
    "            dict(type='CenterCrop', crop_size=224),\n",
    "            dict(type='PackInputs')\n",
    "        ]),\n",
    "    sampler=dict(type='DefaultSampler', shuffle=False))\n",
    "val_evaluator = dict(type='Accuracy', topk=(1, 5))\n",
    "test_dataloader = dict(\n",
    "    pin_memory=True,\n",
    "    persistent_workers=True,\n",
    "    collate_fn=dict(type='default_collate'),\n",
    "    batch_size=64,\n",
    "    num_workers=12,\n",
    "    dataset=dict(\n",
    "        type='CustomDataset',\n",
    "        data_root='data/fruit/test',\n",
    "        pipeline=[\n",
    "            dict(type='LoadImageFromFile'),\n",
    "            dict(type='ResizeEdge', scale=256, edge='short'),\n",
    "            dict(type='CenterCrop', crop_size=224),\n",
    "            dict(type='PackInputs')\n",
    "        ]),\n",
    "    sampler=dict(type='DefaultSampler', shuffle=False))\n",
    "test_evaluator = dict(type='Accuracy', topk=(1, 5))\n",
    "optim_wrapper = dict(\n",
    "    optimizer=dict(type='SGD', lr=0.01, momentum=0.9, weight_decay=0.0001))\n",
    "param_scheduler = dict(\n",
    "    type='MultiStepLR', by_epoch=True, milestones=[3, 6, 9], gamma=0.1)\n",
    "train_cfg = dict(by_epoch=True, max_epochs=10, val_interval=2)\n",
    "val_cfg = dict()\n",
    "test_cfg = dict()\n",
    "auto_scale_lr = dict(base_batch_size=256)\n",
    "default_scope = 'mmpretrain'\n",
    "default_hooks = dict(\n",
    "    timer=dict(type='IterTimerHook'),\n",
    "    logger=dict(type='LoggerHook', interval=100),\n",
    "    param_scheduler=dict(type='ParamSchedulerHook'),\n",
    "    checkpoint=dict(\n",
    "        type='CheckpointHook', interval=1, max_keep_ckpts=2, save_best='auto'),\n",
    "    sampler_seed=dict(type='DistSamplerSeedHook'),\n",
    "    visualization=dict(type='VisualizationHook', enable=False))\n",
    "env_cfg = dict(\n",
    "    cudnn_benchmark=False,\n",
    "    mp_cfg=dict(mp_start_method='fork', opencv_num_threads=0),\n",
    "    dist_cfg=dict(backend='nccl'))\n",
    "vis_backends = [dict(type='LocalVisBackend')]\n",
    "visualizer = dict(\n",
    "    type='UniversalVisualizer', vis_backends=[dict(type='LocalVisBackend')])\n",
    "log_level = 'INFO'\n",
    "load_from = None\n",
    "resume = False\n",
    "randomness = dict(seed=23, deterministic=False)\n",
    "launcher = 'none'\n",
    "work_dir = './exp3_resnet50'"
   ]
  },
  {
   "cell_type": "code",
   "execution_count": null,
   "id": "59569686",
   "metadata": {},
   "outputs": [],
   "source": [
    "# 训练(建议使用命令行进入mmpretrain文件夹执行)  \n",
    "!python tools/train.py data/resnet50_fintune.py"
   ]
  },
  {
   "cell_type": "markdown",
   "id": "a26c6382",
   "metadata": {},
   "source": [
    "## val结果"
   ]
  },
  {
   "cell_type": "markdown",
   "id": "a18a262d",
   "metadata": {},
   "source": [
    "![result](pic/fruit_result_epoch10.png)"
   ]
  },
  {
   "cell_type": "markdown",
   "id": "a866fd9f",
   "metadata": {},
   "source": [
    "### 使用 MMPreTrain 的 ImageClassificationInferencer 接口，对网络水果图像，或自己拍摄的水果图像，使用训练好的模型进行分类"
   ]
  },
  {
   "cell_type": "code",
   "execution_count": 9,
   "id": "b4c94234",
   "metadata": {},
   "outputs": [
    {
     "name": "stdout",
     "output_type": "stream",
     "text": [
      "Loads checkpoint by local backend from path: mmpretrain/exp3_resnet50/best_accuracy_top1_epoch_6.pth\n"
     ]
    },
    {
     "data": {
      "text/html": [
       "<pre style=\"white-space:pre;overflow-x:auto;line-height:normal;font-family:Menlo,'DejaVu Sans Mono',consolas,'Courier New',monospace\">/opt/conda/lib/python3.7/site-packages/rich/live.py:231: UserWarning: install \"ipywidgets\" for Jupyter support\n",
       "  warnings.warn('install \"ipywidgets\" for Jupyter support')\n",
       "</pre>\n"
      ],
      "text/plain": [
       "/opt/conda/lib/python3.7/site-packages/rich/live.py:231: UserWarning: install \"ipywidgets\" for Jupyter support\n",
       "  warnings.warn('install \"ipywidgets\" for Jupyter support')\n"
      ]
     },
     "metadata": {},
     "output_type": "display_data"
    },
    {
     "data": {
      "text/html": [
       "<pre style=\"white-space:pre;overflow-x:auto;line-height:normal;font-family:Menlo,'DejaVu Sans Mono',consolas,'Courier New',monospace\"></pre>\n"
      ],
      "text/plain": []
     },
     "metadata": {},
     "output_type": "display_data"
    },
    {
     "name": "stdout",
     "output_type": "stream",
     "text": [
      "file name: mmpretrain/data/apple.jpg\n",
      "18\n",
      "苹果-红\n",
      "\n",
      "file name: mmpretrain/data/banana.jpg\n",
      "28\n",
      "香蕉\n",
      "\n",
      "file name: mmpretrain/data/grapes.jpg\n",
      "24\n",
      "葡萄-红\n",
      "\n"
     ]
    }
   ],
   "source": [
    "from mmpretrain import ImageClassificationInferencer\n",
    " \n",
    "inferencer = ImageClassificationInferencer('mmpretrain/data/resnet50_fintune.py',\n",
    "                                           pretrained='mmpretrain/exp3_resnet50/best_accuracy_top1_epoch_6.pth')\n",
    " \n",
    "image_list = ['mmpretrain/data/apple.jpg', 'mmpretrain/data/banana.jpg' , 'mmpretrain/data/grapes.jpg']\n",
    " \n",
    "# # 单独对每张图片预测\n",
    "# for i in range(len(image_list)):\n",
    "#     # result0 = inferencer(image_list[i], show=True)\n",
    "#     result0 = inferencer(image_list[i])\n",
    "#     print(f\"file name: {image_list[i]}\")\n",
    "#     print(result0[0][list(result0[0].keys())[1]])\n",
    "#     print(result0[0][list(result0[0].keys())[3]])\n",
    "#     print()\n",
    " \n",
    "# 批量预测\n",
    "results = inferencer(image_list, batch_size=4)\n",
    "print_keys = list(results[0].keys())\n",
    "for i in range(len(image_list)):\n",
    "    print(f\"file name: {image_list[i]}\")\n",
    "    print(results[i][print_keys[1]])\n",
    "    print(results[i][print_keys[3]])\n",
    "    print()"
   ]
  }
 ],
 "metadata": {
  "kernelspec": {
   "display_name": "Python 3 (ipykernel)",
   "language": "python",
   "name": "python3"
  },
  "language_info": {
   "codemirror_mode": {
    "name": "ipython",
    "version": 3
   },
   "file_extension": ".py",
   "mimetype": "text/x-python",
   "name": "python",
   "nbconvert_exporter": "python",
   "pygments_lexer": "ipython3",
   "version": "3.7.10"
  }
 },
 "nbformat": 4,
 "nbformat_minor": 5
}
