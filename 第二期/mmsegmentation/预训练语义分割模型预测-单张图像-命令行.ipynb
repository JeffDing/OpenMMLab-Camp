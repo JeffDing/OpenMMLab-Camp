{
 "cells": [
  {
   "cell_type": "markdown",
   "id": "fa0d1915",
   "metadata": {},
   "source": [
    "# 预训练语义分割模型预测-单张图像-命令行"
   ]
  },
  {
   "cell_type": "markdown",
   "id": "7a345682",
   "metadata": {},
   "source": [
    "## 下载数据集"
   ]
  },
  {
   "cell_type": "code",
   "execution_count": null,
   "id": "d8c5d6c7",
   "metadata": {},
   "outputs": [],
   "source": [
    "# 伦敦街景图片\n",
    "!wget https://zihao-openmmlab.obs.cn-east-3.myhuaweicloud.com/20220713-mmdetection/images/street_uk.jpeg -P data\n",
    "\n",
    "# 上海驾车街景视频，视频来源：https://www.youtube.com/watch?v=ll8TgCZ0plk\n",
    "!wget https://zihao-download.obs.cn-east-3.myhuaweicloud.com/detectron2/traffic.mp4 -P data\n",
    "\n",
    "# 街拍视频，2022年3月30日\n",
    "!wget https://zihao-openmmlab.obs.cn-east-3.myhuaweicloud.com/20220713-mmdetection/images/street_20220330_174028.mp4 -P data\n"
   ]
  },
  {
   "cell_type": "markdown",
   "id": "3548dcbc",
   "metadata": {},
   "source": [
    "## 进入 mmsegmentation 主目录"
   ]
  },
  {
   "cell_type": "code",
   "execution_count": null,
   "id": "d353f4f8",
   "metadata": {},
   "outputs": [],
   "source": [
    "import os\n",
    "os.chdir('mmsegmentation')"
   ]
  },
  {
   "cell_type": "markdown",
   "id": "95916055",
   "metadata": {},
   "source": [
    "## 载入测试图像"
   ]
  },
  {
   "cell_type": "code",
   "execution_count": null,
   "id": "aaae31fa",
   "metadata": {},
   "outputs": [],
   "source": [
    "from PIL import Image"
   ]
  },
  {
   "cell_type": "code",
   "execution_count": null,
   "id": "e523fb48",
   "metadata": {},
   "outputs": [],
   "source": [
    "# Image.open('data/street_uk.jpeg')"
   ]
  },
  {
   "cell_type": "markdown",
   "id": "d9c04741",
   "metadata": {},
   "source": [
    "## MMSegmentation模型库\n",
    "\n",
    "Model Zoo：https://github.com/open-mmlab/mmsegmentation/blob/master/docs/en/model_zoo.md"
   ]
  },
  {
   "cell_type": "markdown",
   "id": "6bac5d28",
   "metadata": {},
   "source": [
    "## 常用config和checkpoint文件\n",
    "\n",
    "configs/pspnet/pspnet_r50-d8_4xb2-40k_cityscapes-512x1024.py\n",
    "\n",
    "https://download.openmmlab.com/mmsegmentation/v0.5/pspnet/pspnet_r50-d8_512x1024_40k_cityscapes/pspnet_r50-d8_512x1024_40k_cityscapes_20200605_003338-2966598c.pth\n",
    "\n",
    "configs/segformer/segformer_mit-b5_8xb1-160k_cityscapes-1024x1024.py\n",
    "\n",
    "https://download.openmmlab.com/mmsegmentation/v0.5/segformer/segformer_mit-b5_8x1_1024x1024_160k_cityscapes/segformer_mit-b5_8x1_1024x1024_160k_cityscapes_20211206_072934-87a052ec.pth\n",
    "\n",
    "configs/mask2former/mask2former_swin-l-in22k-384x384-pre_8xb2-90k_cityscapes-512x1024.py\n",
    "\n",
    "https://download.openmmlab.com/mmsegmentation/v0.5/mask2former/mask2former_swin-l-in22k-384x384-pre_8xb2-90k_cityscapes-512x1024/mask2former_swin-l-in22k-384x384-pre_8xb2-90k_cityscapes-512x1024_20221202_141901-28ad20f1.pth"
   ]
  },
  {
   "cell_type": "markdown",
   "id": "e6fe0577",
   "metadata": {},
   "source": [
    "## PSPNet"
   ]
  },
  {
   "cell_type": "markdown",
   "id": "381048f3",
   "metadata": {},
   "source": [
    "PSPNet语义分割算法"
   ]
  },
  {
   "cell_type": "code",
   "execution_count": null,
   "id": "fc06a898",
   "metadata": {},
   "outputs": [],
   "source": [
    "!python demo/image_demo.py \\\n",
    "        data/street_uk.jpeg \\\n",
    "        configs/pspnet/pspnet_r50-d8_4xb2-40k_cityscapes-512x1024.py \\\n",
    "        https://download.openmmlab.com/mmsegmentation/v0.5/pspnet/pspnet_r50-d8_512x1024_40k_cityscapes/pspnet_r50-d8_512x1024_40k_cityscapes_20200605_003338-2966598c.pth \\\n",
    "        --out-file outputs/B1_uk_pspnet.jpg \\\n",
    "        --device cuda:0 \\\n",
    "        --opacity 0.5"
   ]
  },
  {
   "cell_type": "code",
   "execution_count": null,
   "id": "1a90e7dd",
   "metadata": {},
   "outputs": [],
   "source": [
    "Image.open('outputs/B1_uk_pspnet.jpg')"
   ]
  },
  {
   "cell_type": "markdown",
   "id": "243373c7",
   "metadata": {},
   "source": [
    "## SegFormer"
   ]
  },
  {
   "cell_type": "code",
   "execution_count": null,
   "id": "8d80d308",
   "metadata": {},
   "outputs": [],
   "source": [
    "!python demo/image_demo.py \\\n",
    "        data/street_uk.jpeg \\\n",
    "        configs/segformer/segformer_mit-b5_8xb1-160k_cityscapes-1024x1024.py \\\n",
    "        https://download.openmmlab.com/mmsegmentation/v0.5/segformer/segformer_mit-b5_8x1_1024x1024_160k_cityscapes/segformer_mit-b5_8x1_1024x1024_160k_cityscapes_20211206_072934-87a052ec.pth \\\n",
    "        --out-file outputs/B1_uk_segformer.jpg \\\n",
    "        --device cuda:0 \\\n",
    "        --opacity 0.5"
   ]
  },
  {
   "cell_type": "code",
   "execution_count": null,
   "id": "1920f1ab",
   "metadata": {},
   "outputs": [],
   "source": [
    "Image.open('outputs/B1_uk_segformer.jpg')"
   ]
  },
  {
   "cell_type": "markdown",
   "id": "ea8918ba",
   "metadata": {},
   "source": [
    "## Mask2Former"
   ]
  },
  {
   "cell_type": "code",
   "execution_count": null,
   "id": "2dc24c85",
   "metadata": {},
   "outputs": [],
   "source": [
    "!python demo/image_demo.py \\\n",
    "        data/street_uk.jpeg \\\n",
    "        configs/mask2former/mask2former_swin-l-in22k-384x384-pre_8xb2-90k_cityscapes-512x1024.py \\\n",
    "        https://download.openmmlab.com/mmsegmentation/v0.5/mask2former/mask2former_swin-l-in22k-384x384-pre_8xb2-90k_cityscapes-512x1024/mask2former_swin-l-in22k-384x384-pre_8xb2-90k_cityscapes-512x1024_20221202_141901-28ad20f1.pth \\\n",
    "        --out-file outputs/B1_uk_Mask2Former.jpg \\\n",
    "        --device cuda:0 \\\n",
    "        --opacity 0.5"
   ]
  },
  {
   "cell_type": "code",
   "execution_count": null,
   "id": "b68ad4eb",
   "metadata": {},
   "outputs": [],
   "source": [
    "# Image.open('outputs/B1_uk_Mask2Former.jpg')"
   ]
  },
  {
   "cell_type": "markdown",
   "id": "507ff1e2",
   "metadata": {},
   "source": [
    "## ADE20K语义分割数据集\n",
    "\n",
    "`mmsegmentation/mmseg/datasets/ade.py`\n",
    "\n",
    "关于ADE20K的故事：https://www.zhihu.com/question/390783647/answer/1226097849"
   ]
  },
  {
   "cell_type": "code",
   "execution_count": null,
   "id": "4a8fa4ec",
   "metadata": {},
   "outputs": [],
   "source": [
    "!python demo/image_demo.py \\\n",
    "        data/street_uk.jpeg \\\n",
    "        configs/segformer/segformer_mit-b5_8xb2-160k_ade20k-640x640.py \\\n",
    "        https://download.openmmlab.com/mmsegmentation/v0.5/segformer/segformer_mit-b5_640x640_160k_ade20k/segformer_mit-b5_640x640_160k_ade20k_20220617_203542-940a6bd8.pth \\\n",
    "        --out-file outputs/B1_Segformer_ade20k.jpg \\\n",
    "        --device cuda:0 \\\n",
    "        --opacity 0.5"
   ]
  },
  {
   "cell_type": "code",
   "execution_count": null,
   "id": "1f9f0261",
   "metadata": {},
   "outputs": [],
   "source": [
    "Image.open('outputs/B1_Segformer_ade20k.jpg')"
   ]
  }
 ],
 "metadata": {
  "kernelspec": {
   "display_name": "Python 3 (ipykernel)",
   "language": "python",
   "name": "python3"
  },
  "language_info": {
   "codemirror_mode": {
    "name": "ipython",
    "version": 3
   },
   "file_extension": ".py",
   "mimetype": "text/x-python",
   "name": "python",
   "nbconvert_exporter": "python",
   "pygments_lexer": "ipython3",
   "version": "3.7.10"
  }
 },
 "nbformat": 4,
 "nbformat_minor": 5
}
