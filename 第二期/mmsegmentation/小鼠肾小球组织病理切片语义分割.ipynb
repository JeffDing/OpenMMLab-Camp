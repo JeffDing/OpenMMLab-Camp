{
 "cells": [
  {
   "cell_type": "markdown",
   "id": "e922b575",
   "metadata": {},
   "source": [
    "## 下载数据集"
   ]
  },
  {
   "cell_type": "code",
   "execution_count": null,
   "id": "cae90a78",
   "metadata": {},
   "outputs": [],
   "source": [
    "!rm -rf Glomeruli-dataset.zip Glomeruli-dataset\n",
    "!wget https://zihao-openmmlab.obs.cn-east-3.myhuaweicloud.com/20230130-mmseg/dataset/Glomeruli-dataset.zip\n",
    "!unzip Glomeruli-dataset.zip -d data # 解压\n",
    "!rm -rf Glomeruli-dataset.zip # 删除压缩包"
   ]
  },
  {
   "cell_type": "markdown",
   "id": "3d23f253",
   "metadata": {},
   "source": [
    "## 导入工具包"
   ]
  },
  {
   "cell_type": "code",
   "execution_count": null,
   "id": "db7be7e7",
   "metadata": {},
   "outputs": [],
   "source": [
    "import os\n",
    "\n",
    "import cv2\n",
    "import numpy as np\n",
    "from PIL import Image\n",
    "from tqdm import tqdm\n",
    "\n",
    "import matplotlib.pyplot as plt\n",
    "%matplotlib inline\n",
    "\n",
    "import os.path as osp\n",
    "from tqdm import tqdm\n",
    "\n",
    "import mmcv\n",
    "import mmengine\n",
    "from mmseg.apis import init_model, inference_model, show_result_pyplot"
   ]
  },
  {
   "cell_type": "markdown",
   "id": "eaf8e1b6",
   "metadata": {},
   "source": [
    "## 指定图像和标注文件夹路径"
   ]
  },
  {
   "cell_type": "code",
   "execution_count": null,
   "id": "69193164",
   "metadata": {},
   "outputs": [],
   "source": [
    "PATH_IMAGE = 'data/Glomeruli-dataset/images'\n",
    "PATH_MASKS = 'data/Glomeruli-dataset/masks'"
   ]
  },
  {
   "cell_type": "code",
   "execution_count": null,
   "id": "65f21336",
   "metadata": {},
   "outputs": [],
   "source": [
    "print('图像个数', len(os.listdir(PATH_IMAGE)))\n",
    "print('标注个数', len(os.listdir(PATH_MASKS)))"
   ]
  },
  {
   "cell_type": "markdown",
   "id": "36888e0e",
   "metadata": {},
   "source": [
    "## 查看单张图像及其语义分割标注"
   ]
  },
  {
   "cell_type": "code",
   "execution_count": null,
   "id": "e1dfea5c",
   "metadata": {},
   "outputs": [],
   "source": [
    "# 指定图像文件名\n",
    "file_name = 'SAS_21883_001_10.png'"
   ]
  },
  {
   "cell_type": "code",
   "execution_count": null,
   "id": "136bb055",
   "metadata": {},
   "outputs": [],
   "source": [
    "img_path = os.path.join(PATH_IMAGE, file_name)\n",
    "mask_path = os.path.join(PATH_MASKS, file_name)\n",
    "\n",
    "print('图像路径', img_path)\n",
    "print('标注路径', mask_path)"
   ]
  },
  {
   "cell_type": "code",
   "execution_count": null,
   "id": "e54f2c03",
   "metadata": {},
   "outputs": [],
   "source": [
    "img = cv2.imread(img_path)\n",
    "mask = cv2.imread(mask_path)"
   ]
  },
  {
   "cell_type": "code",
   "execution_count": null,
   "id": "c6cae3a7",
   "metadata": {},
   "outputs": [],
   "source": [
    "img.shape"
   ]
  },
  {
   "cell_type": "code",
   "execution_count": null,
   "id": "26bcfef8",
   "metadata": {},
   "outputs": [],
   "source": [
    "# 可视化图像\n",
    "plt.imshow(img)\n",
    "plt.show()"
   ]
  },
  {
   "cell_type": "code",
   "execution_count": null,
   "id": "26406a3b",
   "metadata": {},
   "outputs": [],
   "source": [
    "mask.shape"
   ]
  },
  {
   "cell_type": "code",
   "execution_count": null,
   "id": "df3a0671",
   "metadata": {},
   "outputs": [],
   "source": [
    "# mask 语义分割标注，与原图大小相同，0 为 背景， 1 为 肾小球\n",
    "np.unique(mask)"
   ]
  },
  {
   "cell_type": "markdown",
   "id": "36f59c06",
   "metadata": {},
   "source": [
    "在本数据集中，只有一部分图像有肾小球语义分割标注（即mask中值为1的像素），其余图像mask的值均为0"
   ]
  },
  {
   "cell_type": "code",
   "execution_count": null,
   "id": "5afb2942",
   "metadata": {},
   "outputs": [],
   "source": [
    "# 可视化语义分割标注\n",
    "plt.imshow(mask[:,:,0])\n",
    "plt.show()"
   ]
  },
  {
   "cell_type": "code",
   "execution_count": null,
   "id": "57c84003",
   "metadata": {},
   "outputs": [],
   "source": [
    "# 可视化语义分割标注\n",
    "plt.imshow(mask*255)\n",
    "plt.show()"
   ]
  },
  {
   "cell_type": "markdown",
   "id": "027ac345",
   "metadata": {},
   "source": [
    "## 可视化单张图像及其语义分割标注-代码模板"
   ]
  },
  {
   "cell_type": "code",
   "execution_count": null,
   "id": "0bbe9c6c",
   "metadata": {},
   "outputs": [],
   "source": [
    "plt.imshow(img)\n",
    "plt.imshow(mask*255, alpha=0.5) # alpha 高亮区域透明度，越小越接近原图\n",
    "plt.title(file_name)\n",
    "plt.axis('off')\n",
    "plt.show()"
   ]
  },
  {
   "cell_type": "markdown",
   "id": "2f4af3fb",
   "metadata": {},
   "source": [
    "## 可视化模板-有前景标注"
   ]
  },
  {
   "cell_type": "code",
   "execution_count": null,
   "id": "27546f71",
   "metadata": {},
   "outputs": [],
   "source": [
    "# n行n列可视化\n",
    "n = 7\n",
    "\n",
    "# 标注区域透明度\n",
    "opacity = 0.5\n",
    "\n",
    "fig, axes = plt.subplots(nrows=n, ncols=n, sharex=True, figsize=(12,12))\n",
    "\n",
    "i = 0\n",
    "\n",
    "for file_name in os.listdir(PATH_IMAGE):\n",
    "    \n",
    "    # 载入图像和标注\n",
    "    img_path = os.path.join(PATH_IMAGE, file_name)\n",
    "    mask_path = os.path.join(PATH_MASKS, file_name)\n",
    "    img = cv2.imread(img_path)\n",
    "    mask = cv2.imread(mask_path)\n",
    "    \n",
    "    if 1 in mask:\n",
    "        axes[i//n, i%n].imshow(img)\n",
    "        axes[i//n, i%n].imshow(mask*255, alpha=opacity)\n",
    "        axes[i//n, i%n].axis('off') # 关闭坐标轴显示\n",
    "        i += 1\n",
    "    if i > n**2-1:\n",
    "        break\n",
    "fig.suptitle('Image and Semantic Label', fontsize=30)\n",
    "plt.tight_layout()\n",
    "plt.show()"
   ]
  },
  {
   "cell_type": "markdown",
   "id": "7a656ba5",
   "metadata": {},
   "source": [
    "## 可视化模板-无论前景是否有标注"
   ]
  },
  {
   "cell_type": "code",
   "execution_count": null,
   "id": "6448257c",
   "metadata": {},
   "outputs": [],
   "source": [
    "# n行n列可视化\n",
    "n = 10\n",
    "\n",
    "# 标注区域透明度\n",
    "opacity = 0.5\n",
    "\n",
    "fig, axes = plt.subplots(nrows=n, ncols=n, sharex=True, figsize=(12,12))\n",
    "\n",
    "for i, file_name in enumerate(os.listdir(PATH_IMAGE)[:n**2]):\n",
    "    \n",
    "    # 载入图像和标注\n",
    "    img_path = os.path.join(PATH_IMAGE, file_name)\n",
    "    mask_path = os.path.join(PATH_MASKS, file_name)\n",
    "    img = cv2.imread(img_path)\n",
    "    mask = cv2.imread(mask_path)\n",
    "    \n",
    "    # 可视化\n",
    "    axes[i//n, i%n].imshow(img)\n",
    "    axes[i//n, i%n].imshow(mask*255, alpha=opacity)\n",
    "    axes[i//n, i%n].axis('off') # 关闭坐标轴显示\n",
    "fig.suptitle('Image and Semantic Label', fontsize=30)\n",
    "plt.tight_layout()\n",
    "plt.show()"
   ]
  },
  {
   "cell_type": "markdown",
   "id": "42539b27",
   "metadata": {},
   "source": [
    "## 获取全部数据文件名列表"
   ]
  },
  {
   "cell_type": "code",
   "execution_count": null,
   "id": "26f52973",
   "metadata": {},
   "outputs": [],
   "source": [
    "import random\n",
    "PATH_IMAGE = 'data/Glomeruli-dataset/images'"
   ]
  },
  {
   "cell_type": "code",
   "execution_count": null,
   "id": "3f1c8e6d",
   "metadata": {},
   "outputs": [],
   "source": [
    "all_file_list = os.listdir(PATH_IMAGE)\n",
    "all_file_num = len(all_file_list)\n",
    "random.shuffle(all_file_list) # 随机打乱全部数据文件名列表"
   ]
  },
  {
   "cell_type": "markdown",
   "id": "cf21bc8f",
   "metadata": {},
   "source": [
    "## 指定训练集和测试集比例"
   ]
  },
  {
   "cell_type": "code",
   "execution_count": null,
   "id": "6634fb8f",
   "metadata": {},
   "outputs": [],
   "source": [
    "train_ratio = 0.8\n",
    "test_ratio = 1 - train_ratio"
   ]
  },
  {
   "cell_type": "code",
   "execution_count": null,
   "id": "00062ae2",
   "metadata": {},
   "outputs": [],
   "source": [
    "train_file_list = all_file_list[:int(all_file_num*train_ratio)]\n",
    "test_file_list = all_file_list[int(all_file_num*train_ratio):]"
   ]
  },
  {
   "cell_type": "code",
   "execution_count": null,
   "id": "999c9e8b",
   "metadata": {},
   "outputs": [],
   "source": [
    "print('数据集图像总数', all_file_num)\n",
    "print('训练集划分比例', train_ratio)\n",
    "print('训练集图像个数', len(train_file_list))\n",
    "print('测试集图像个数', len(test_file_list))"
   ]
  },
  {
   "cell_type": "code",
   "execution_count": null,
   "id": "94098327",
   "metadata": {},
   "outputs": [],
   "source": [
    "train_file_list[:5]"
   ]
  },
  {
   "cell_type": "code",
   "execution_count": null,
   "id": "2d659b17",
   "metadata": {},
   "outputs": [],
   "source": [
    "test_file_list[:5]"
   ]
  },
  {
   "cell_type": "markdown",
   "id": "40977b68",
   "metadata": {},
   "source": [
    "## 生成两个txt划分文件"
   ]
  },
  {
   "cell_type": "code",
   "execution_count": null,
   "id": "77a4db1b",
   "metadata": {},
   "outputs": [],
   "source": [
    "os.mkdir('data/Glomeruli-dataset/splits')"
   ]
  },
  {
   "cell_type": "code",
   "execution_count": null,
   "id": "4e586ef1",
   "metadata": {},
   "outputs": [],
   "source": [
    "with open('data/Glomeruli-dataset/splits/train.txt', 'w') as f:\n",
    "    f.writelines(line.split('.')[0] + '\\n' for line in train_file_list)\n",
    "with open('data/Glomeruli-dataset/splits/val.txt', 'w') as f:\n",
    "    f.writelines(line.split('.')[0] + '\\n' for line in test_file_list)"
   ]
  },
  {
   "cell_type": "markdown",
   "id": "7e7a5fcf",
   "metadata": {
    "colab": {
     "base_uri": "https://localhost:8080/"
    },
    "id": "mAE_h7XhPT7d",
    "outputId": "83bf0f8e-fc69-40b1-f9fe-0025724a217c"
   },
   "source": [
    "## MMSegmentation训练语义分割模型"
   ]
  },
  {
   "cell_type": "code",
   "execution_count": null,
   "id": "baf5218c",
   "metadata": {},
   "outputs": [],
   "source": [
    "# 数据集图片和标注路径\n",
    "data_root = 'data/Glomeruli-dataset'\n",
    "img_dir = 'images'\n",
    "ann_dir = 'masks'\n",
    "\n",
    "# 类别和对应的颜色\n",
    "classes = ('background', 'glomeruili')\n",
    "palette = [[128, 128, 128], [151, 189, 8]]"
   ]
  },
  {
   "cell_type": "markdown",
   "id": "52f970d3",
   "metadata": {
    "id": "yUVtmn3Iq3WA"
   },
   "source": [
    "## 修改config配置文件"
   ]
  },
  {
   "cell_type": "code",
   "execution_count": null,
   "id": "56400919",
   "metadata": {},
   "outputs": [],
   "source": [
    "# 下载 config 文件 和 预训练模型checkpoint权重文件\n",
    "!mim download mmsegmentation --config pspnet_r50-d8_4xb2-40k_cityscapes-512x1024 --dest configs/pspnet/"
   ]
  },
  {
   "cell_type": "code",
   "execution_count": null,
   "id": "9d085119",
   "metadata": {
    "id": "Wwnj9tRzqX_A"
   },
   "outputs": [],
   "source": [
    "from mmengine import Config\n",
    "cfg = Config.fromfile('configs/pspnet/pspnet_r50-d8_4xb2-40k_cityscapes-512x1024.py')"
   ]
  },
  {
   "cell_type": "code",
   "execution_count": null,
   "id": "a86599a9",
   "metadata": {
    "colab": {
     "base_uri": "https://localhost:8080/"
    },
    "id": "eyKnYC1Z7iCV",
    "outputId": "6195217b-187f-4675-994b-ba90d8bb3078"
   },
   "outputs": [],
   "source": [
    "cfg.norm_cfg = dict(type='BN', requires_grad=True) # 只使用GPU时，BN取代SyncBN\n",
    "cfg.crop_size = (256, 256)\n",
    "cfg.model.data_preprocessor.size = cfg.crop_size\n",
    "cfg.model.backbone.norm_cfg = cfg.norm_cfg\n",
    "cfg.model.decode_head.norm_cfg = cfg.norm_cfg\n",
    "cfg.model.auxiliary_head.norm_cfg = cfg.norm_cfg\n",
    "# modify num classes of the model in decode/auxiliary head\n",
    "cfg.model.decode_head.num_classes = 2\n",
    "cfg.model.auxiliary_head.num_classes = 2\n",
    "\n",
    "# 修改数据集的 type 和 root\n",
    "cfg.dataset_type = 'StanfordBackgroundDataset'\n",
    "cfg.data_root = data_root\n",
    "\n",
    "cfg.train_dataloader.batch_size = 8\n",
    "\n",
    "cfg.train_pipeline = [\n",
    "    dict(type='LoadImageFromFile'),\n",
    "    dict(type='LoadAnnotations'),\n",
    "    dict(type='RandomResize', scale=(320, 240), ratio_range=(0.5, 2.0), keep_ratio=True),\n",
    "    dict(type='RandomCrop', crop_size=cfg.crop_size, cat_max_ratio=0.75),\n",
    "    dict(type='RandomFlip', prob=0.5),\n",
    "    dict(type='PackSegInputs')\n",
    "]\n",
    "\n",
    "cfg.test_pipeline = [\n",
    "    dict(type='LoadImageFromFile'),\n",
    "    dict(type='Resize', scale=(320, 240), keep_ratio=True),\n",
    "    # add loading annotation after ``Resize`` because ground truth\n",
    "    # does not need to do resize data transform\n",
    "    dict(type='LoadAnnotations'),\n",
    "    dict(type='PackSegInputs')\n",
    "]\n",
    "\n",
    "\n",
    "cfg.train_dataloader.dataset.type = cfg.dataset_type\n",
    "cfg.train_dataloader.dataset.data_root = cfg.data_root\n",
    "cfg.train_dataloader.dataset.data_prefix = dict(img_path=img_dir, seg_map_path=ann_dir)\n",
    "cfg.train_dataloader.dataset.pipeline = cfg.train_pipeline\n",
    "cfg.train_dataloader.dataset.ann_file = 'splits/train.txt'\n",
    "\n",
    "cfg.val_dataloader.dataset.type = cfg.dataset_type\n",
    "cfg.val_dataloader.dataset.data_root = cfg.data_root\n",
    "cfg.val_dataloader.dataset.data_prefix = dict(img_path=img_dir, seg_map_path=ann_dir)\n",
    "cfg.val_dataloader.dataset.pipeline = cfg.test_pipeline\n",
    "cfg.val_dataloader.dataset.ann_file = 'splits/val.txt'\n",
    "\n",
    "cfg.test_dataloader = cfg.val_dataloader\n",
    "\n",
    "\n",
    "# 载入预训练模型权重\n",
    "cfg.load_from = 'configs/pspnet/pspnet_r50-d8_512x1024_40k_cityscapes_20200605_003338-2966598c.pth'\n",
    "\n",
    "# 工作目录\n",
    "cfg.work_dir = './work_dirs/tutorial'\n",
    "\n",
    "# 训练迭代次数\n",
    "cfg.train_cfg.max_iters = 800\n",
    "# 评估模型间隔\n",
    "cfg.train_cfg.val_interval = 400\n",
    "# 日志记录间隔\n",
    "cfg.default_hooks.logger.interval = 100\n",
    "# 模型权重保存间隔\n",
    "cfg.default_hooks.checkpoint.interval = 400\n",
    "\n",
    "# 随机数种子\n",
    "cfg['randomness'] = dict(seed=0)"
   ]
  },
  {
   "cell_type": "markdown",
   "id": "bc3d0069",
   "metadata": {},
   "source": [
    "## 查看完整config配置文件"
   ]
  },
  {
   "cell_type": "code",
   "execution_count": null,
   "id": "2c36d234",
   "metadata": {},
   "outputs": [],
   "source": [
    "print(cfg.pretty_text)"
   ]
  },
  {
   "cell_type": "markdown",
   "id": "095c86cf",
   "metadata": {},
   "source": [
    "## 保存config配置文件"
   ]
  },
  {
   "cell_type": "code",
   "execution_count": null,
   "id": "b520f33b",
   "metadata": {},
   "outputs": [],
   "source": [
    "cfg.dump('configs/pspnet/mouse_new_cfg.py')"
   ]
  },
  {
   "cell_type": "markdown",
   "id": "6ad4d212",
   "metadata": {},
   "source": [
    "## 读取config"
   ]
  },
  {
   "cell_type": "code",
   "execution_count": null,
   "id": "2ee54b70",
   "metadata": {},
   "outputs": [],
   "source": [
    "from mmengine import Config\n",
    "cfg = Config.fromfile('configs/pspnet/mouse_new_cfg.py')"
   ]
  },
  {
   "cell_type": "markdown",
   "id": "75cc3502",
   "metadata": {
    "id": "QWuH14LYF2gQ"
   },
   "source": [
    "## 准备训练"
   ]
  },
  {
   "cell_type": "code",
   "execution_count": null,
   "id": "73229623",
   "metadata": {
    "colab": {
     "base_uri": "https://localhost:8080/"
    },
    "id": "jYKoSfdMF12B",
    "outputId": "422219ca-d7a5-4890-f09f-88c959942e64",
    "tags": []
   },
   "outputs": [],
   "source": [
    "from mmengine.runner import Runner\n",
    "from mmseg.utils import register_all_modules\n",
    "\n",
    "# register all modules in mmseg into the registries\n",
    "# do not init the default scope here because it will be init in the runner\n",
    "register_all_modules(init_default_scope=False)\n",
    "runner = Runner.from_cfg(cfg)"
   ]
  },
  {
   "cell_type": "markdown",
   "id": "52c21868",
   "metadata": {},
   "source": [
    "## 开始训练\n",
    "\n",
    "如果遇到报错`CUDA out of memeory`，重启实例或使用显存更高的实例即可。"
   ]
  },
  {
   "cell_type": "code",
   "execution_count": null,
   "id": "e9a92238",
   "metadata": {},
   "outputs": [],
   "source": [
    "runner.train()"
   ]
  },
  {
   "cell_type": "markdown",
   "id": "19cd0c1c",
   "metadata": {},
   "source": [
    "## 载入模型"
   ]
  },
  {
   "cell_type": "code",
   "execution_count": null,
   "id": "40f1f534",
   "metadata": {
    "tags": []
   },
   "outputs": [],
   "source": [
    "# 载入 config 配置文件\n",
    "from mmengine import Config\n",
    "cfg = Config.fromfile('configs/pspnet/mouse_new_cfg.py')"
   ]
  },
  {
   "cell_type": "code",
   "execution_count": null,
   "id": "d85f18f0",
   "metadata": {},
   "outputs": [],
   "source": [
    "from mmengine.runner import Runner\n",
    "from mmseg.utils import register_all_modules\n",
    "\n",
    "# register all modules in mmseg into the registries\n",
    "# do not init the default scope here because it will be init in the runner\n",
    "\n",
    "register_all_modules(init_default_scope=False)\n",
    "runner = Runner.from_cfg(cfg)"
   ]
  },
  {
   "cell_type": "code",
   "execution_count": null,
   "id": "28603bbb",
   "metadata": {},
   "outputs": [],
   "source": [
    "# 初始化模型\n",
    "checkpoint_path = './work_dirs/tutorial/iter_800.pth'\n",
    "model = init_model(cfg, checkpoint_path, 'cuda:0')"
   ]
  },
  {
   "cell_type": "markdown",
   "id": "14f27c59",
   "metadata": {},
   "source": [
    "## 载入测试集图像，或新图像"
   ]
  },
  {
   "cell_type": "code",
   "execution_count": null,
   "id": "e283bf99",
   "metadata": {},
   "outputs": [],
   "source": [
    "img = mmcv.imread('data/Glomeruli-dataset/images/VUHSK_1702_39.png')"
   ]
  },
  {
   "cell_type": "markdown",
   "id": "f9c58d4f",
   "metadata": {},
   "source": [
    "## 语义分割预测"
   ]
  },
  {
   "cell_type": "code",
   "execution_count": null,
   "id": "24444d17",
   "metadata": {},
   "outputs": [],
   "source": [
    "result = inference_model(model, img)"
   ]
  },
  {
   "cell_type": "code",
   "execution_count": null,
   "id": "378628c5",
   "metadata": {},
   "outputs": [],
   "source": [
    "result.keys()"
   ]
  },
  {
   "cell_type": "code",
   "execution_count": null,
   "id": "b96b12f2",
   "metadata": {},
   "outputs": [],
   "source": [
    "pred_mask = result.pred_sem_seg.data[0].cpu().numpy()"
   ]
  },
  {
   "cell_type": "code",
   "execution_count": null,
   "id": "e393728f",
   "metadata": {},
   "outputs": [],
   "source": [
    "pred_mask.shape"
   ]
  },
  {
   "cell_type": "code",
   "execution_count": null,
   "id": "1070ea2a",
   "metadata": {},
   "outputs": [],
   "source": [
    "np.unique(pred_mask)"
   ]
  },
  {
   "cell_type": "markdown",
   "id": "05fbd57c",
   "metadata": {},
   "source": [
    "## 可视化语义分割预测结果"
   ]
  },
  {
   "cell_type": "code",
   "execution_count": null,
   "id": "d6765f25",
   "metadata": {},
   "outputs": [],
   "source": [
    "plt.imshow(pred_mask)\n",
    "plt.show()"
   ]
  },
  {
   "cell_type": "code",
   "execution_count": null,
   "id": "0b5f1d40",
   "metadata": {},
   "outputs": [],
   "source": [
    "# 可视化预测结果\n",
    "visualization = show_result_pyplot(model, img, result, opacity=0.7, out_file='pred.jpg')\n",
    "plt.imshow(mmcv.bgr2rgb(visualization))\n",
    "plt.show()"
   ]
  },
  {
   "cell_type": "markdown",
   "id": "c8925377",
   "metadata": {},
   "source": [
    "## 语义分割预测结果-连通域分析"
   ]
  },
  {
   "cell_type": "code",
   "execution_count": null,
   "id": "5a0e0870",
   "metadata": {},
   "outputs": [],
   "source": [
    "plt.imshow(np.uint8(pred_mask))\n",
    "plt.show()"
   ]
  },
  {
   "cell_type": "code",
   "execution_count": null,
   "id": "f8c84f20",
   "metadata": {},
   "outputs": [],
   "source": [
    "connected = cv2.connectedComponentsWithStats(np.uint8(pred_mask), connectivity=4)"
   ]
  },
  {
   "cell_type": "code",
   "execution_count": null,
   "id": "1e6c790b",
   "metadata": {},
   "outputs": [],
   "source": [
    "# 连通域个数（第一个有可能是全图，可以忽略）\n",
    "connected[0]"
   ]
  },
  {
   "cell_type": "code",
   "execution_count": null,
   "id": "a63508fe",
   "metadata": {},
   "outputs": [],
   "source": [
    "# 用整数表示每个连通域区域\n",
    "connected[1].shape"
   ]
  },
  {
   "cell_type": "code",
   "execution_count": null,
   "id": "a2cb9f2d",
   "metadata": {},
   "outputs": [],
   "source": [
    "np.unique(connected[1])"
   ]
  },
  {
   "cell_type": "code",
   "execution_count": null,
   "id": "3cf7c78a",
   "metadata": {},
   "outputs": [],
   "source": [
    "plt.imshow(connected[1])\n",
    "plt.show()"
   ]
  },
  {
   "cell_type": "code",
   "execution_count": null,
   "id": "8f3876a2",
   "metadata": {},
   "outputs": [],
   "source": [
    "# 每个连通域外接矩形的左上角X、左上角Y、宽度、高度、面积\n",
    "connected[2]"
   ]
  },
  {
   "cell_type": "code",
   "execution_count": null,
   "id": "930a2b06",
   "metadata": {},
   "outputs": [],
   "source": [
    "# 每个连通域的质心坐标\n",
    "connected[3]"
   ]
  },
  {
   "cell_type": "markdown",
   "id": "62609e55",
   "metadata": {},
   "source": [
    "## 获取测试集标注"
   ]
  },
  {
   "cell_type": "code",
   "execution_count": null,
   "id": "2e6fee90",
   "metadata": {},
   "outputs": [],
   "source": [
    "label = mmcv.imread('data/Glomeruli-dataset/masks/VUHSK_1702_39.png')"
   ]
  },
  {
   "cell_type": "code",
   "execution_count": null,
   "id": "14a0f602",
   "metadata": {},
   "outputs": [],
   "source": [
    "label_mask = label[:,:,0]"
   ]
  },
  {
   "cell_type": "code",
   "execution_count": null,
   "id": "8933f65b",
   "metadata": {},
   "outputs": [],
   "source": [
    "label_mask.shape"
   ]
  },
  {
   "cell_type": "code",
   "execution_count": null,
   "id": "39ee2534",
   "metadata": {},
   "outputs": [],
   "source": [
    "np.unique(label_mask)"
   ]
  },
  {
   "cell_type": "code",
   "execution_count": null,
   "id": "5964c465",
   "metadata": {},
   "outputs": [],
   "source": [
    "plt.imshow(label_mask)\n",
    "plt.show()"
   ]
  },
  {
   "cell_type": "markdown",
   "id": "71802c7d",
   "metadata": {},
   "source": [
    "## 对比测试集标注和语义分割预测结果"
   ]
  },
  {
   "cell_type": "code",
   "execution_count": null,
   "id": "0fd0cdca",
   "metadata": {},
   "outputs": [],
   "source": [
    "# 测试集标注\n",
    "label_mask.shape"
   ]
  },
  {
   "cell_type": "code",
   "execution_count": null,
   "id": "02adf96c",
   "metadata": {},
   "outputs": [],
   "source": [
    "# 语义分割预测结果\n",
    "pred_mask.shape"
   ]
  },
  {
   "cell_type": "code",
   "execution_count": null,
   "id": "665971c4",
   "metadata": {},
   "outputs": [],
   "source": [
    "# 真实为前景，预测为前景\n",
    "TP = (label_mask == 1) & (pred_mask==1)"
   ]
  },
  {
   "cell_type": "code",
   "execution_count": null,
   "id": "3e12ebd1",
   "metadata": {},
   "outputs": [],
   "source": [
    "# 真实为背景，预测为背景\n",
    "TN = (label_mask == 0) & (pred_mask==0)"
   ]
  },
  {
   "cell_type": "code",
   "execution_count": null,
   "id": "19e49b32",
   "metadata": {},
   "outputs": [],
   "source": [
    "# 真实为前景，预测为背景\n",
    "FN = (label_mask == 1) & (pred_mask==0)"
   ]
  },
  {
   "cell_type": "code",
   "execution_count": null,
   "id": "9ae6a24e",
   "metadata": {},
   "outputs": [],
   "source": [
    "# 真实为背景，预测为前景\n",
    "FP = (label_mask == 0) & (pred_mask==1)"
   ]
  },
  {
   "cell_type": "code",
   "execution_count": null,
   "id": "3ccdcaf8",
   "metadata": {},
   "outputs": [],
   "source": [
    "plt.imshow(TP)\n",
    "plt.show()"
   ]
  },
  {
   "cell_type": "code",
   "execution_count": null,
   "id": "78661c89",
   "metadata": {},
   "outputs": [],
   "source": [
    "confusion_map = TP * 255 + FP * 150 + FN * 80 + TN * 10"
   ]
  },
  {
   "cell_type": "code",
   "execution_count": null,
   "id": "8c577b50",
   "metadata": {},
   "outputs": [],
   "source": [
    "plt.imshow(confusion_map)\n",
    "plt.show()"
   ]
  },
  {
   "cell_type": "markdown",
   "id": "4e3278c5",
   "metadata": {},
   "source": [
    "## 混淆矩阵"
   ]
  },
  {
   "cell_type": "code",
   "execution_count": null,
   "id": "d0d7fbf7",
   "metadata": {},
   "outputs": [],
   "source": [
    "from sklearn.metrics import confusion_matrix"
   ]
  },
  {
   "cell_type": "code",
   "execution_count": null,
   "id": "b6a23bf2",
   "metadata": {},
   "outputs": [],
   "source": [
    "confusion_matrix_model = confusion_matrix(label_mask.flatten(), pred_mask.flatten())"
   ]
  },
  {
   "cell_type": "code",
   "execution_count": null,
   "id": "fa938faa",
   "metadata": {},
   "outputs": [],
   "source": [
    "import itertools\n",
    "def cnf_matrix_plotter(cm, classes, cmap=plt.cm.Blues):\n",
    "    \"\"\"\n",
    "    传入混淆矩阵和标签名称列表，绘制混淆矩阵\n",
    "    \"\"\"\n",
    "    plt.figure(figsize=(10, 10))\n",
    "    \n",
    "    plt.imshow(cm, interpolation='nearest', cmap=cmap)\n",
    "    # plt.colorbar() # 色条\n",
    "    tick_marks = np.arange(len(classes))\n",
    "    \n",
    "    plt.title('Confusion Matrix', fontsize=30)\n",
    "    plt.xlabel('Pred', fontsize=25, c='r')\n",
    "    plt.ylabel('True', fontsize=25, c='r')\n",
    "    plt.tick_params(labelsize=16) # 设置类别文字大小\n",
    "    plt.xticks(tick_marks, classes, rotation=90) # 横轴文字旋转\n",
    "    plt.yticks(tick_marks, classes)\n",
    "    \n",
    "    # 写数字\n",
    "    threshold = cm.max() / 2.\n",
    "    for i, j in itertools.product(range(cm.shape[0]), range(cm.shape[1])):\n",
    "        plt.text(j, i, cm[i, j],\n",
    "                 horizontalalignment=\"center\",\n",
    "                 color=\"white\" if cm[i, j] > threshold else \"black\",\n",
    "                 fontsize=12)\n",
    "\n",
    "    plt.tight_layout()\n",
    "\n",
    "    plt.savefig('混淆矩阵.pdf', dpi=300) # 保存图像\n",
    "    plt.show()"
   ]
  },
  {
   "cell_type": "code",
   "execution_count": null,
   "id": "f901186e",
   "metadata": {},
   "outputs": [],
   "source": [
    "classes = ('background', 'glomeruili')"
   ]
  },
  {
   "cell_type": "code",
   "execution_count": null,
   "id": "de0dd48f",
   "metadata": {},
   "outputs": [],
   "source": [
    "cnf_matrix_plotter(confusion_matrix_model, classes, cmap='Blues')"
   ]
  },
  {
   "cell_type": "markdown",
   "id": "353608c0",
   "metadata": {},
   "source": [
    "## 添加数据集类"
   ]
  },
  {
   "cell_type": "code",
   "execution_count": null,
   "id": "6750e616",
   "metadata": {},
   "outputs": [],
   "source": [
    "# 数据集配置文件\n",
    "!wget https://zihao-openmmlab.obs.cn-east-3.myhuaweicloud.com/20230130-mmseg/dataset/StanfordBackgroundDataset.py -O mmseg/datasets/StanfordBackgroundDataset.py"
   ]
  },
  {
   "cell_type": "code",
   "execution_count": null,
   "id": "b7f39904",
   "metadata": {},
   "outputs": [],
   "source": [
    "# 修改 ../mmsegmentation/mmseg/datasets/__init__.py，添加数据集\n",
    "!wget https://zihao-openmmlab.obs.cn-east-3.myhuaweicloud.com/20230130-mmseg/dataset/__init__.py -O mmseg/datasets/__init__.py"
   ]
  },
  {
   "cell_type": "markdown",
   "id": "69734fb4",
   "metadata": {},
   "source": [
    "## 测试集精度指标"
   ]
  },
  {
   "cell_type": "code",
   "execution_count": null,
   "id": "bfe98d76",
   "metadata": {},
   "outputs": [],
   "source": [
    "!python tools/test.py configs/pspnet/mouse_new_cfg.py ./work_dirs/tutorial/iter_800.pth"
   ]
  },
  {
   "cell_type": "markdown",
   "id": "ab1b8c64",
   "metadata": {},
   "source": [
    "## 速度指标-FPS"
   ]
  },
  {
   "cell_type": "code",
   "execution_count": null,
   "id": "907530d7",
   "metadata": {},
   "outputs": [],
   "source": [
    "!python tools/analysis_tools/benchmark.py configs/pspnet/mouse_new_cfg.py ./work_dirs/tutorial/iter_800.pth"
   ]
  },
  {
   "cell_type": "code",
   "execution_count": null,
   "id": "9ca608ca",
   "metadata": {},
   "outputs": [],
   "source": []
  }
 ],
 "metadata": {
  "kernelspec": {
   "display_name": "Python 3 (ipykernel)",
   "language": "python",
   "name": "python3"
  },
  "language_info": {
   "codemirror_mode": {
    "name": "ipython",
    "version": 3
   },
   "file_extension": ".py",
   "mimetype": "text/x-python",
   "name": "python",
   "nbconvert_exporter": "python",
   "pygments_lexer": "ipython3",
   "version": "3.7.10"
  }
 },
 "nbformat": 4,
 "nbformat_minor": 5
}
