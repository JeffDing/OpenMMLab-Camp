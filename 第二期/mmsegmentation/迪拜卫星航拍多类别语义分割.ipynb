{
 "cells": [
  {
   "cell_type": "markdown",
   "id": "ab7dabd4",
   "metadata": {},
   "source": [
    "# 下载数据集"
   ]
  },
  {
   "cell_type": "code",
   "execution_count": null,
   "id": "91bfcdf1",
   "metadata": {},
   "outputs": [],
   "source": [
    "!wget https://zihao-openmmlab.obs.cn-east-3.myhuaweicloud.com/20230130-mmseg/dataset/Dubai-dataset.zip\n",
    "!unzip Dubai-dataset.zip -d data"
   ]
  },
  {
   "cell_type": "markdown",
   "id": "318fb985",
   "metadata": {},
   "source": [
    "# 可视化探索数据集"
   ]
  },
  {
   "cell_type": "markdown",
   "id": "0e1f60b2",
   "metadata": {},
   "source": [
    "## 导入工具包"
   ]
  },
  {
   "cell_type": "code",
   "execution_count": null,
   "id": "9b417406",
   "metadata": {},
   "outputs": [],
   "source": [
    "import os\n",
    "\n",
    "import cv2\n",
    "import numpy as np\n",
    "import pandas as pd\n",
    "from PIL import Image\n",
    "from tqdm import tqdm\n",
    "\n",
    "import mmcv\n",
    "import mmengine\n",
    "from mmseg.apis import init_model, inference_model, show_result_pyplot\n",
    "\n",
    "import matplotlib.pyplot as plt\n",
    "%matplotlib inline"
   ]
  },
  {
   "cell_type": "markdown",
   "id": "e75b285a",
   "metadata": {},
   "source": [
    "## 查看单张图像及其语义分割标注"
   ]
  },
  {
   "cell_type": "code",
   "execution_count": null,
   "id": "f9183dbf",
   "metadata": {},
   "outputs": [],
   "source": [
    "# 指定单张图像路径\n",
    "img_path = 'data/Dubai-dataset/img_dir/train/14.jpg'\n",
    "mask_path = 'data/Dubai-dataset/ann_dir/train/14.png'"
   ]
  },
  {
   "cell_type": "code",
   "execution_count": null,
   "id": "2ab63b8b",
   "metadata": {},
   "outputs": [],
   "source": [
    "Image.open(img_path)"
   ]
  },
  {
   "cell_type": "code",
   "execution_count": null,
   "id": "facb3088",
   "metadata": {},
   "outputs": [],
   "source": [
    "Image.open(mask_path)"
   ]
  },
  {
   "cell_type": "code",
   "execution_count": null,
   "id": "20a991dc",
   "metadata": {},
   "outputs": [],
   "source": [
    "img = cv2.imread(img_path)\n",
    "mask = cv2.imread(mask_path)"
   ]
  },
  {
   "cell_type": "code",
   "execution_count": null,
   "id": "c68ee9ea",
   "metadata": {},
   "outputs": [],
   "source": [
    "img.shape"
   ]
  },
  {
   "cell_type": "code",
   "execution_count": null,
   "id": "0b2d1970",
   "metadata": {},
   "outputs": [],
   "source": [
    "mask.shape"
   ]
  },
  {
   "cell_type": "markdown",
   "id": "598194f7",
   "metadata": {},
   "source": [
    "## mask灰度图标注含义"
   ]
  },
  {
   "cell_type": "code",
   "execution_count": null,
   "id": "b72f2cf1",
   "metadata": {},
   "outputs": [],
   "source": [
    "# mask 语义分割标注，与原图大小相同\n",
    "np.unique(mask)"
   ]
  },
  {
   "cell_type": "markdown",
   "id": "88ddaf7b",
   "metadata": {},
   "source": [
    "| 类别编号 | 类别名称   |\n",
    "| -------- | ---------- |\n",
    "| 0        | Land       |\n",
    "| 1        | Road       |\n",
    "| 2        | Building   |\n",
    "| 3        | Vegetation |\n",
    "| 4        | Water      |\n",
    "| 5        | Unlabeled  |"
   ]
  },
  {
   "cell_type": "code",
   "execution_count": null,
   "id": "f24c7746",
   "metadata": {},
   "outputs": [],
   "source": [
    "# 可视化语义分割标注\n",
    "plt.imshow(mask[:,:,0])\n",
    "plt.show()"
   ]
  },
  {
   "cell_type": "markdown",
   "id": "027f1c67",
   "metadata": {},
   "source": [
    "## 叠加在原图上显示"
   ]
  },
  {
   "cell_type": "code",
   "execution_count": null,
   "id": "7dadbe38",
   "metadata": {},
   "outputs": [],
   "source": [
    "plt.imshow(img[:,:,::-1])\n",
    "plt.imshow(mask[:,:,0], alpha=0.4) # alpha 高亮区域透明度，越小越接近原图\n",
    "plt.axis('off')\n",
    "plt.show()"
   ]
  },
  {
   "cell_type": "markdown",
   "id": "688d6ad5",
   "metadata": {},
   "source": [
    "## 批量可视化图像和标注"
   ]
  },
  {
   "cell_type": "code",
   "execution_count": null,
   "id": "02ac9c8d",
   "metadata": {},
   "outputs": [],
   "source": [
    "# 指定图像和标注路径\n",
    "PATH_IMAGE = 'data/Dubai-dataset/img_dir/train'\n",
    "PATH_MASKS = 'data/Dubai-dataset/ann_dir/train'"
   ]
  },
  {
   "cell_type": "code",
   "execution_count": null,
   "id": "66e1213c",
   "metadata": {},
   "outputs": [],
   "source": [
    "# n行n列可视化\n",
    "n = 5\n",
    "\n",
    "# 标注区域透明度\n",
    "opacity = 0.5\n",
    "\n",
    "fig, axes = plt.subplots(nrows=n, ncols=n, sharex=True, figsize=(12,12))\n",
    "\n",
    "for i, file_name in enumerate(os.listdir(PATH_IMAGE)[:n**2]):\n",
    "    \n",
    "    # 载入图像和标注\n",
    "    img_path = os.path.join(PATH_IMAGE, file_name)\n",
    "    mask_path = os.path.join(PATH_MASKS, file_name.split('.')[0]+'.png')\n",
    "    img = cv2.imread(img_path)\n",
    "    mask = cv2.imread(mask_path)\n",
    "    \n",
    "    # 可视化\n",
    "    axes[i//n, i%n].imshow(img)\n",
    "    axes[i//n, i%n].imshow(mask[:,:,0], alpha=opacity)\n",
    "    axes[i//n, i%n].axis('off') # 关闭坐标轴显示\n",
    "fig.suptitle('Image and Semantic Label', fontsize=30)\n",
    "plt.tight_layout()\n",
    "plt.show()"
   ]
  },
  {
   "cell_type": "markdown",
   "id": "187754a9",
   "metadata": {},
   "source": [
    "## 定义数据集类"
   ]
  },
  {
   "cell_type": "code",
   "execution_count": null,
   "id": "e3865155",
   "metadata": {},
   "outputs": [],
   "source": [
    "!wget https://zihao-openmmlab.obs.cn-east-3.myhuaweicloud.com/20230130-mmseg/Dubai/DubaiDataset.py -P mmseg/datasets"
   ]
  },
  {
   "cell_type": "markdown",
   "id": "853abe12",
   "metadata": {},
   "source": [
    "## 注册数据集类"
   ]
  },
  {
   "cell_type": "code",
   "execution_count": null,
   "id": "d3a761ee",
   "metadata": {},
   "outputs": [],
   "source": [
    "!rm -rf mmseg/datasets/__init__.py\n",
    "!wget https://zihao-openmmlab.obs.cn-east-3.myhuaweicloud.com/20230130-mmseg/Dubai/__init__.py -P mmseg/datasets"
   ]
  },
  {
   "cell_type": "markdown",
   "id": "c030c57c",
   "metadata": {},
   "source": [
    "## 定义训练及测试pipeline`"
   ]
  },
  {
   "cell_type": "code",
   "execution_count": null,
   "id": "3e85cd6f",
   "metadata": {},
   "outputs": [],
   "source": [
    "!wget https://zihao-openmmlab.obs.cn-east-3.myhuaweicloud.com/20230130-mmseg/Dubai/DubaiDataset_pipeline.py -P configs/_base_/datasets"
   ]
  },
  {
   "cell_type": "markdown",
   "id": "013d01c7",
   "metadata": {},
   "source": [
    "## 下载config"
   ]
  },
  {
   "cell_type": "code",
   "execution_count": null,
   "id": "3ce46246",
   "metadata": {},
   "outputs": [],
   "source": [
    "!wget https://zihao-openmmlab.obs.cn-east-3.myhuaweicloud.com/20230130-mmseg/Dubai/pspnet_r50-d8_4xb2-40k_DubaiDataset.py -P configs/pspnet "
   ]
  },
  {
   "cell_type": "markdown",
   "id": "53fa221f",
   "metadata": {},
   "source": [
    "## 载入Config"
   ]
  },
  {
   "cell_type": "code",
   "execution_count": null,
   "id": "2afd4ce6",
   "metadata": {},
   "outputs": [],
   "source": [
    "from mmengine import Config\n",
    "cfg = Config.fromfile('./configs/pspnet/pspnet_r50-d8_4xb2-40k_DubaiDataset.py')"
   ]
  },
  {
   "cell_type": "markdown",
   "id": "52f72d65",
   "metadata": {},
   "source": [
    "## 修改config配置文件"
   ]
  },
  {
   "cell_type": "code",
   "execution_count": null,
   "id": "b316dcce",
   "metadata": {
    "colab": {
     "base_uri": "https://localhost:8080/"
    },
    "id": "eyKnYC1Z7iCV",
    "outputId": "6195217b-187f-4675-994b-ba90d8bb3078"
   },
   "outputs": [],
   "source": [
    "cfg.norm_cfg = dict(type='BN', requires_grad=True) # 只使用GPU时，BN取代SyncBN\n",
    "cfg.crop_size = (256, 256)\n",
    "cfg.model.data_preprocessor.size = cfg.crop_size\n",
    "cfg.model.backbone.norm_cfg = cfg.norm_cfg\n",
    "cfg.model.decode_head.norm_cfg = cfg.norm_cfg\n",
    "cfg.model.auxiliary_head.norm_cfg = cfg.norm_cfg\n",
    "# modify num classes of the model in decode/auxiliary head\n",
    "\n",
    "# 模型 decode/auxiliary 输出头，指定为类别个数\n",
    "cfg.model.decode_head.num_classes = 6\n",
    "cfg.model.auxiliary_head.num_classes = 6\n",
    "\n",
    "cfg.train_dataloader.batch_size = 8\n",
    "\n",
    "cfg.test_dataloader = cfg.val_dataloader\n",
    "\n",
    "# 结果保存目录\n",
    "cfg.work_dir = './work_dirs/DubaiDataset'\n",
    "\n",
    "# 训练迭代次数\n",
    "cfg.train_cfg.max_iters = 3000\n",
    "# 评估模型间隔\n",
    "cfg.train_cfg.val_interval = 400\n",
    "# 日志记录间隔\n",
    "cfg.default_hooks.logger.interval = 100\n",
    "# 模型权重保存间隔\n",
    "cfg.default_hooks.checkpoint.interval = 1500\n",
    "\n",
    "# 随机数种子\n",
    "cfg['randomness'] = dict(seed=0)"
   ]
  },
  {
   "cell_type": "markdown",
   "id": "8b2f6c76",
   "metadata": {},
   "source": [
    "## 查看完整config配置文件"
   ]
  },
  {
   "cell_type": "code",
   "execution_count": null,
   "id": "48b3dd4d",
   "metadata": {},
   "outputs": [],
   "source": [
    "# print(cfg.pretty_text)"
   ]
  },
  {
   "cell_type": "markdown",
   "id": "4a8a81ef",
   "metadata": {},
   "source": [
    "## 保存config配置文件"
   ]
  },
  {
   "cell_type": "code",
   "execution_count": null,
   "id": "478e1258",
   "metadata": {},
   "outputs": [],
   "source": [
    "cfg.dump('configs/pspnet/pspnet-DubaiDataset_20230612.py')"
   ]
  },
  {
   "cell_type": "markdown",
   "id": "bd192c81",
   "metadata": {},
   "source": [
    "## 载入训练配置文件`"
   ]
  },
  {
   "cell_type": "code",
   "execution_count": null,
   "id": "39ec3286",
   "metadata": {
    "id": "Wwnj9tRzqX_A"
   },
   "outputs": [],
   "source": [
    "from mmengine import Config\n",
    "cfg = Config.fromfile('configs/pspnet/pspnet-DubaiDataset_20230612.py')"
   ]
  },
  {
   "cell_type": "markdown",
   "id": "709b6a25",
   "metadata": {
    "id": "QWuH14LYF2gQ"
   },
   "source": [
    "## 准备训练"
   ]
  },
  {
   "cell_type": "code",
   "execution_count": null,
   "id": "1aa09c36",
   "metadata": {
    "colab": {
     "base_uri": "https://localhost:8080/"
    },
    "id": "jYKoSfdMF12B",
    "outputId": "422219ca-d7a5-4890-f09f-88c959942e64",
    "tags": []
   },
   "outputs": [],
   "source": [
    "from mmengine.runner import Runner\n",
    "from mmseg.utils import register_all_modules\n",
    "\n",
    "# register all modules in mmseg into the registries\n",
    "# do not init the default scope here because it will be init in the runner\n",
    "register_all_modules(init_default_scope=False)\n",
    "runner = Runner.from_cfg(cfg)"
   ]
  },
  {
   "cell_type": "markdown",
   "id": "02ab04b1",
   "metadata": {},
   "source": [
    "## 开始训练\n",
    "\n",
    "如果遇到报错`CUDA out of memeory`，可尝试以下步骤：\n",
    "\n",
    "1. 调小 batch size\n",
    "\n",
    "2. 左上角`内核-关闭所有内核`\n",
    "\n",
    "3. 重启实例，或者使用显存更高的实例即可。"
   ]
  },
  {
   "cell_type": "code",
   "execution_count": null,
   "id": "7a883be1",
   "metadata": {},
   "outputs": [],
   "source": [
    "runner.train()"
   ]
  },
  {
   "cell_type": "markdown",
   "id": "bb03f3d0",
   "metadata": {},
   "source": [
    "## 查看python目录"
   ]
  },
  {
   "cell_type": "code",
   "execution_count": null,
   "id": "7560f556",
   "metadata": {},
   "outputs": [],
   "source": [
    "import sys\n",
    "print(sys.path)"
   ]
  },
  {
   "cell_type": "markdown",
   "id": "f43b27b1",
   "metadata": {},
   "source": [
    "## 设置Matplotlib中文字体"
   ]
  },
  {
   "cell_type": "code",
   "execution_count": null,
   "id": "3215e46e",
   "metadata": {},
   "outputs": [],
   "source": [
    "!wget https://zihao-openmmlab.obs.cn-east-3.myhuaweicloud.com/20220716-mmclassification/dataset/SimHei.ttf -O /opt/conda/lib/python3.7/site-packages/matplotlib/mpl-data/fonts/ttf/SimHei.ttf\n",
    "!rm -rf /root/.cache/matplotlib\n",
    "\n",
    "import matplotlib \n",
    "import matplotlib.pyplot as plt\n",
    "matplotlib.rc(\"font\",family='SimHei') # 中文字体"
   ]
  },
  {
   "cell_type": "code",
   "execution_count": null,
   "id": "0c32d4b0",
   "metadata": {},
   "outputs": [],
   "source": [
    "plt.plot([1,2,3], [100,500,300])\n",
    "plt.title('matplotlib中文字体测试', fontsize=25)\n",
    "plt.xlabel('X轴', fontsize=15)\n",
    "plt.ylabel('Y轴', fontsize=15)\n",
    "plt.show()"
   ]
  },
  {
   "cell_type": "markdown",
   "id": "75cecdca",
   "metadata": {},
   "source": [
    "## 载入训练日志"
   ]
  },
  {
   "cell_type": "code",
   "execution_count": null,
   "id": "b86da46b",
   "metadata": {},
   "outputs": [],
   "source": [
    "# 日志文件路径\n",
    "log_path = 'work_dirs/DubaiDataset/20230617_101209/vis_data/scalars.json' #需要更改为实际路径"
   ]
  },
  {
   "cell_type": "code",
   "execution_count": null,
   "id": "908c7f38",
   "metadata": {},
   "outputs": [],
   "source": [
    "with open(log_path, \"r\") as f:\n",
    "    json_list = f.readlines()"
   ]
  },
  {
   "cell_type": "code",
   "execution_count": null,
   "id": "7f010865",
   "metadata": {},
   "outputs": [],
   "source": [
    "len(json_list)"
   ]
  },
  {
   "cell_type": "code",
   "execution_count": null,
   "id": "81fae792",
   "metadata": {},
   "outputs": [],
   "source": [
    "eval(json_list[4])"
   ]
  },
  {
   "cell_type": "code",
   "execution_count": null,
   "id": "696deffe",
   "metadata": {},
   "outputs": [],
   "source": [
    "df_train = pd.DataFrame()\n",
    "df_test = pd.DataFrame()\n",
    "for each in json_list[:-1]:\n",
    "    if 'aAcc' in each:\n",
    "        df_test = df_test.append(eval(each), ignore_index=True)\n",
    "    else:\n",
    "        df_train = df_train.append(eval(each), ignore_index=True)"
   ]
  },
  {
   "cell_type": "code",
   "execution_count": null,
   "id": "95ec58f1",
   "metadata": {},
   "outputs": [],
   "source": [
    "df_train"
   ]
  },
  {
   "cell_type": "code",
   "execution_count": null,
   "id": "ca4d2051",
   "metadata": {},
   "outputs": [],
   "source": [
    "df_test"
   ]
  },
  {
   "cell_type": "markdown",
   "id": "380c84e5",
   "metadata": {},
   "source": [
    "## 导出训练日志表格"
   ]
  },
  {
   "cell_type": "code",
   "execution_count": null,
   "id": "a8d32421",
   "metadata": {},
   "outputs": [],
   "source": [
    "df_train.to_csv('训练日志-训练集.csv', index=False)\n",
    "df_test.to_csv('训练日志-测试集.csv', index=False)"
   ]
  },
  {
   "cell_type": "markdown",
   "id": "e4a75ffd",
   "metadata": {},
   "source": [
    "## 可视化辅助函数"
   ]
  },
  {
   "cell_type": "code",
   "execution_count": null,
   "id": "005b07c5",
   "metadata": {},
   "outputs": [],
   "source": [
    "from matplotlib import colors as mcolors\n",
    "import random\n",
    "random.seed(124)\n",
    "colors = ['b', 'g', 'r', 'c', 'm', 'y', 'k', 'tab:blue', 'tab:orange', 'tab:green', 'tab:red', 'tab:purple', 'tab:brown', 'tab:pink', 'tab:gray', 'tab:olive', 'tab:cyan', 'black', 'indianred', 'brown', 'firebrick', 'maroon', 'darkred', 'red', 'sienna', 'chocolate', 'yellow', 'olivedrab', 'yellowgreen', 'darkolivegreen', 'forestgreen', 'limegreen', 'darkgreen', 'green', 'lime', 'seagreen', 'mediumseagreen', 'darkslategray', 'darkslategrey', 'teal', 'darkcyan', 'dodgerblue', 'navy', 'darkblue', 'mediumblue', 'blue', 'slateblue', 'darkslateblue', 'mediumslateblue', 'mediumpurple', 'rebeccapurple', 'blueviolet', 'indigo', 'darkorchid', 'darkviolet', 'mediumorchid', 'purple', 'darkmagenta', 'fuchsia', 'magenta', 'orchid', 'mediumvioletred', 'deeppink', 'hotpink']\n",
    "markers = [\".\",\",\",\"o\",\"v\",\"^\",\"<\",\">\",\"1\",\"2\",\"3\",\"4\",\"8\",\"s\",\"p\",\"P\",\"*\",\"h\",\"H\",\"+\",\"x\",\"X\",\"D\",\"d\",\"|\",\"_\",0,1,2,3,4,5,6,7,8,9,10,11]\n",
    "linestyle = ['--', '-.', '-']\n",
    "\n",
    "def get_line_arg():\n",
    "    '''\n",
    "    随机产生一种绘图线型\n",
    "    '''\n",
    "    line_arg = {}\n",
    "    line_arg['color'] = random.choice(colors)\n",
    "    # line_arg['marker'] = random.choice(markers)\n",
    "    line_arg['linestyle'] = random.choice(linestyle)\n",
    "    line_arg['linewidth'] = random.randint(1, 4)\n",
    "    # line_arg['markersize'] = random.randint(3, 5)\n",
    "    return line_arg"
   ]
  },
  {
   "cell_type": "markdown",
   "id": "b9f78a2d",
   "metadata": {},
   "source": [
    "## 训练集损失函数"
   ]
  },
  {
   "cell_type": "code",
   "execution_count": null,
   "id": "1a4821a8",
   "metadata": {},
   "outputs": [],
   "source": [
    "metrics = ['loss', 'decode.loss_ce', 'aux.loss_ce']"
   ]
  },
  {
   "cell_type": "code",
   "execution_count": null,
   "id": "1276ea51",
   "metadata": {},
   "outputs": [],
   "source": [
    "plt.figure(figsize=(16, 8))\n",
    "\n",
    "x = df_train['step']\n",
    "for y in metrics:\n",
    "    plt.plot(x, df_train[y], label=y, **get_line_arg())\n",
    "\n",
    "plt.tick_params(labelsize=20)\n",
    "plt.xlabel('step', fontsize=20)\n",
    "plt.ylabel('loss', fontsize=20)\n",
    "plt.title('训练集损失函数', fontsize=25)\n",
    "plt.savefig('训练集损失函数.pdf', dpi=120, bbox_inches='tight')\n",
    "\n",
    "plt.legend(fontsize=20)\n",
    "\n",
    "plt.show()"
   ]
  },
  {
   "cell_type": "markdown",
   "id": "1f1f610f",
   "metadata": {},
   "source": [
    "## 训练集准确率"
   ]
  },
  {
   "cell_type": "code",
   "execution_count": null,
   "id": "b8fcd860",
   "metadata": {},
   "outputs": [],
   "source": [
    "df_train.columns"
   ]
  },
  {
   "cell_type": "code",
   "execution_count": null,
   "id": "d77bfd4a",
   "metadata": {},
   "outputs": [],
   "source": [
    "metrics = ['decode.acc_seg', 'aux.acc_seg']"
   ]
  },
  {
   "cell_type": "code",
   "execution_count": null,
   "id": "133511dc",
   "metadata": {},
   "outputs": [],
   "source": [
    "plt.figure(figsize=(16, 8))\n",
    "\n",
    "x = df_train['step']\n",
    "for y in metrics:\n",
    "    plt.plot(x, df_train[y], label=y, **get_line_arg())\n",
    "\n",
    "plt.tick_params(labelsize=20)\n",
    "plt.xlabel('step', fontsize=20)\n",
    "plt.ylabel('loss', fontsize=20)\n",
    "plt.title('训练集准确率', fontsize=25)\n",
    "plt.savefig('训练集准确率.pdf', dpi=120, bbox_inches='tight')\n",
    "\n",
    "plt.legend(fontsize=20)\n",
    "\n",
    "plt.show()"
   ]
  },
  {
   "cell_type": "markdown",
   "id": "2beb97e8",
   "metadata": {},
   "source": [
    "## 测试集评估指标"
   ]
  },
  {
   "cell_type": "code",
   "execution_count": null,
   "id": "b68f022c",
   "metadata": {},
   "outputs": [],
   "source": [
    "df_test.columns"
   ]
  },
  {
   "cell_type": "code",
   "execution_count": null,
   "id": "fadfbcab",
   "metadata": {},
   "outputs": [],
   "source": [
    "metrics = ['aAcc', 'mIoU', 'mAcc']"
   ]
  },
  {
   "cell_type": "code",
   "execution_count": null,
   "id": "1678f6b6",
   "metadata": {},
   "outputs": [],
   "source": [
    "plt.figure(figsize=(16, 8))\n",
    "\n",
    "x = df_test['step']\n",
    "for y in metrics:\n",
    "    plt.plot(x, df_test[y], label=y, **get_line_arg())\n",
    "\n",
    "plt.tick_params(labelsize=20)\n",
    "plt.ylim([0, 100])\n",
    "plt.xlabel('step', fontsize=20)\n",
    "plt.ylabel(y, fontsize=20)\n",
    "plt.title('测试集评估指标', fontsize=25)\n",
    "plt.savefig('测试集分类评估指标.pdf', dpi=120, bbox_inches='tight')\n",
    "\n",
    "plt.legend(fontsize=20)\n",
    "\n",
    "plt.show()"
   ]
  },
  {
   "cell_type": "markdown",
   "id": "657a5c89",
   "metadata": {},
   "source": [
    "## 载入配置文件"
   ]
  },
  {
   "cell_type": "code",
   "execution_count": null,
   "id": "656c725a",
   "metadata": {
    "tags": []
   },
   "outputs": [],
   "source": [
    "# 载入 config 配置文件\n",
    "from mmengine import Config\n",
    "cfg = Config.fromfile('configs/pspnet/pspnet-DubaiDataset_20230612.py')"
   ]
  },
  {
   "cell_type": "code",
   "execution_count": null,
   "id": "80173907",
   "metadata": {},
   "outputs": [],
   "source": [
    "from mmengine.runner import Runner\n",
    "from mmseg.utils import register_all_modules\n",
    "\n",
    "# register all modules in mmseg into the registries\n",
    "# do not init the default scope here because it will be init in the runner\n",
    "\n",
    "register_all_modules(init_default_scope=False)\n",
    "runner = Runner.from_cfg(cfg)"
   ]
  },
  {
   "cell_type": "markdown",
   "id": "04b684c9",
   "metadata": {},
   "source": [
    "## 载入模型"
   ]
  },
  {
   "cell_type": "code",
   "execution_count": null,
   "id": "c0b0d09e",
   "metadata": {},
   "outputs": [],
   "source": [
    "checkpoint_path = './work_dirs/DubaiDataset/iter_3000.pth'\n",
    "model = init_model(cfg, checkpoint_path, 'cuda:0')"
   ]
  },
  {
   "cell_type": "markdown",
   "id": "e7d529b6",
   "metadata": {},
   "source": [
    "## 载入测试集图像，或新图像"
   ]
  },
  {
   "cell_type": "code",
   "execution_count": null,
   "id": "47608da9",
   "metadata": {},
   "outputs": [],
   "source": [
    "img = mmcv.imread('data/Dubai-dataset/img_dir/val/71.jpg')"
   ]
  },
  {
   "cell_type": "markdown",
   "id": "c0847cf4",
   "metadata": {},
   "source": [
    "## 语义分割预测"
   ]
  },
  {
   "cell_type": "code",
   "execution_count": null,
   "id": "f8c9fae4",
   "metadata": {},
   "outputs": [],
   "source": [
    "result = inference_model(model, img)"
   ]
  },
  {
   "cell_type": "code",
   "execution_count": null,
   "id": "d847c06c",
   "metadata": {},
   "outputs": [],
   "source": [
    "result.keys()"
   ]
  },
  {
   "cell_type": "code",
   "execution_count": null,
   "id": "08dd9cdd",
   "metadata": {},
   "outputs": [],
   "source": [
    "pred_mask = result.pred_sem_seg.data[0].cpu().numpy()"
   ]
  },
  {
   "cell_type": "code",
   "execution_count": null,
   "id": "1ab831b8",
   "metadata": {},
   "outputs": [],
   "source": [
    "pred_mask.shape"
   ]
  },
  {
   "cell_type": "code",
   "execution_count": null,
   "id": "e6d5515e",
   "metadata": {},
   "outputs": [],
   "source": [
    "np.unique(pred_mask)"
   ]
  },
  {
   "cell_type": "markdown",
   "id": "9ca1a199",
   "metadata": {},
   "source": [
    "## 可视化语义分割预测结果"
   ]
  },
  {
   "cell_type": "code",
   "execution_count": null,
   "id": "88c4888d",
   "metadata": {},
   "outputs": [],
   "source": [
    "plt.imshow(pred_mask)\n",
    "plt.show()"
   ]
  },
  {
   "cell_type": "code",
   "execution_count": null,
   "id": "45b3616f",
   "metadata": {},
   "outputs": [],
   "source": [
    "# 可视化预测结果\n",
    "visualization = show_result_pyplot(model, img, result, opacity=0.7, out_file='pred.jpg')\n",
    "plt.imshow(mmcv.bgr2rgb(visualization))\n",
    "plt.show()"
   ]
  },
  {
   "cell_type": "markdown",
   "id": "68a270ec",
   "metadata": {},
   "source": [
    "## 获取测试集标注"
   ]
  },
  {
   "cell_type": "code",
   "execution_count": null,
   "id": "fb3cdfb2",
   "metadata": {},
   "outputs": [],
   "source": [
    "label = mmcv.imread('data/Dubai-dataset/ann_dir/val/71.png')"
   ]
  },
  {
   "cell_type": "code",
   "execution_count": null,
   "id": "d5b20dc7",
   "metadata": {},
   "outputs": [],
   "source": [
    "label.shape"
   ]
  },
  {
   "cell_type": "markdown",
   "id": "630d7c39",
   "metadata": {},
   "source": [
    "三个通道全部一样，只取一个通道作为标注即可。"
   ]
  },
  {
   "cell_type": "code",
   "execution_count": null,
   "id": "15775991",
   "metadata": {},
   "outputs": [],
   "source": [
    "label_mask = label[:,:,0]"
   ]
  },
  {
   "cell_type": "code",
   "execution_count": null,
   "id": "33ae251e",
   "metadata": {},
   "outputs": [],
   "source": [
    "label_mask.shape"
   ]
  },
  {
   "cell_type": "code",
   "execution_count": null,
   "id": "461624ed",
   "metadata": {},
   "outputs": [],
   "source": [
    "np.unique(label_mask)"
   ]
  },
  {
   "cell_type": "code",
   "execution_count": null,
   "id": "6acb0e98",
   "metadata": {},
   "outputs": [],
   "source": [
    "plt.imshow(label_mask)\n",
    "plt.show()"
   ]
  },
  {
   "cell_type": "markdown",
   "id": "4bf177c3",
   "metadata": {},
   "source": [
    "## 对比测试集标注和语义分割预测结果"
   ]
  },
  {
   "cell_type": "code",
   "execution_count": null,
   "id": "04788fd3",
   "metadata": {},
   "outputs": [],
   "source": [
    "# 测试集标注\n",
    "label_mask.shape"
   ]
  },
  {
   "cell_type": "code",
   "execution_count": null,
   "id": "78b48d6b",
   "metadata": {},
   "outputs": [],
   "source": [
    "# 语义分割预测结果\n",
    "pred_mask.shape"
   ]
  },
  {
   "cell_type": "code",
   "execution_count": null,
   "id": "3ef4c0a7",
   "metadata": {},
   "outputs": [],
   "source": [
    "# 真实为前景，预测为前景\n",
    "TP = (label_mask == 1) & (pred_mask==1)"
   ]
  },
  {
   "cell_type": "code",
   "execution_count": null,
   "id": "0de1079f",
   "metadata": {},
   "outputs": [],
   "source": [
    "# 真实为背景，预测为背景\n",
    "TN = (label_mask == 0) & (pred_mask==0)"
   ]
  },
  {
   "cell_type": "code",
   "execution_count": null,
   "id": "ed57d4d0",
   "metadata": {},
   "outputs": [],
   "source": [
    "# 真实为前景，预测为背景\n",
    "FN = (label_mask == 1) & (pred_mask==0)"
   ]
  },
  {
   "cell_type": "code",
   "execution_count": null,
   "id": "5adf6c10",
   "metadata": {},
   "outputs": [],
   "source": [
    "# 真实为背景，预测为前景\n",
    "FP = (label_mask == 0) & (pred_mask==1)"
   ]
  },
  {
   "cell_type": "code",
   "execution_count": null,
   "id": "c5ab8f22",
   "metadata": {},
   "outputs": [],
   "source": [
    "plt.imshow(TP)\n",
    "plt.show()"
   ]
  },
  {
   "cell_type": "code",
   "execution_count": null,
   "id": "5b903318",
   "metadata": {},
   "outputs": [],
   "source": [
    "confusion_map = TP * 255 + FP * 150 + FN * 80 + TN * 30"
   ]
  },
  {
   "cell_type": "code",
   "execution_count": null,
   "id": "471dc6e9",
   "metadata": {},
   "outputs": [],
   "source": [
    "plt.imshow(confusion_map)\n",
    "plt.show()"
   ]
  },
  {
   "cell_type": "markdown",
   "id": "173c4ef1",
   "metadata": {},
   "source": [
    "## 混淆矩阵"
   ]
  },
  {
   "cell_type": "code",
   "execution_count": null,
   "id": "f444c1d6",
   "metadata": {},
   "outputs": [],
   "source": [
    "from sklearn.metrics import confusion_matrix"
   ]
  },
  {
   "cell_type": "code",
   "execution_count": null,
   "id": "bd6e2a75",
   "metadata": {},
   "outputs": [],
   "source": [
    "confusion_matrix_model = confusion_matrix(label_mask.flatten(), pred_mask.flatten())"
   ]
  },
  {
   "cell_type": "code",
   "execution_count": null,
   "id": "cf36fdd8",
   "metadata": {},
   "outputs": [],
   "source": [
    "confusion_matrix_model"
   ]
  },
  {
   "cell_type": "code",
   "execution_count": null,
   "id": "b0355f9b",
   "metadata": {},
   "outputs": [],
   "source": [
    "import itertools\n",
    "def cnf_matrix_plotter(cm, classes, cmap=plt.cm.Blues):\n",
    "    \"\"\"\n",
    "    传入混淆矩阵和标签名称列表，绘制混淆矩阵\n",
    "    \"\"\"\n",
    "    plt.figure(figsize=(10, 10))\n",
    "    \n",
    "    plt.imshow(cm, interpolation='nearest', cmap=cmap)\n",
    "    # plt.colorbar() # 色条\n",
    "    tick_marks = np.arange(len(classes))\n",
    "    \n",
    "    plt.title('Confusion Matrix', fontsize=30)\n",
    "    plt.xlabel('Pred', fontsize=25, c='r')\n",
    "    plt.ylabel('True', fontsize=25, c='r')\n",
    "    plt.tick_params(labelsize=16) # 设置类别文字大小\n",
    "    plt.xticks(tick_marks, classes, rotation=90) # 横轴文字旋转\n",
    "    plt.yticks(tick_marks, classes)\n",
    "    \n",
    "    # 写数字\n",
    "    threshold = cm.max() / 2.\n",
    "    for i, j in itertools.product(range(cm.shape[0]), range(cm.shape[1])):\n",
    "        plt.text(j, i, cm[i, j],\n",
    "                 horizontalalignment=\"center\",\n",
    "                 color=\"white\" if cm[i, j] > threshold else \"black\",\n",
    "                 fontsize=12)\n",
    "\n",
    "    plt.tight_layout()\n",
    "\n",
    "    plt.savefig('混淆矩阵.pdf', dpi=300) # 保存图像\n",
    "    plt.show()"
   ]
  },
  {
   "cell_type": "code",
   "execution_count": null,
   "id": "5ece528f",
   "metadata": {},
   "outputs": [],
   "source": [
    "classes = ['Land', 'Road', 'Building', 'Vegetation', 'Water', 'Unlabeled']"
   ]
  },
  {
   "cell_type": "code",
   "execution_count": null,
   "id": "a3d18177",
   "metadata": {},
   "outputs": [],
   "source": [
    "cnf_matrix_plotter(confusion_matrix_model, classes, cmap='Blues')"
   ]
  },
  {
   "cell_type": "markdown",
   "id": "d74b7339",
   "metadata": {},
   "source": [
    "Unlabeled类别，既无预测结果，也无标签，因此混淆矩阵中不显示。"
   ]
  },
  {
   "cell_type": "markdown",
   "id": "73a0e40e",
   "metadata": {},
   "source": [
    "## 测试集精度指标"
   ]
  },
  {
   "cell_type": "code",
   "execution_count": null,
   "id": "223d47ac",
   "metadata": {},
   "outputs": [],
   "source": [
    "!python tools/test.py pspnet-DubaiDataset_20230612.py work_dirs/DubaiDataset/iter_3000.pth"
   ]
  },
  {
   "cell_type": "markdown",
   "id": "f2244062",
   "metadata": {},
   "source": [
    "## 速度指标-FPS"
   ]
  },
  {
   "cell_type": "code",
   "execution_count": null,
   "id": "2a88ba20",
   "metadata": {},
   "outputs": [],
   "source": [
    "!python tools/analysis_tools/benchmark.py pspnet-DubaiDataset_20230612.py work_dirs/DubaiDataset/iter_3000.pth"
   ]
  }
 ],
 "metadata": {
  "kernelspec": {
   "display_name": "Python 3 (ipykernel)",
   "language": "python",
   "name": "python3"
  },
  "language_info": {
   "codemirror_mode": {
    "name": "ipython",
    "version": 3
   },
   "file_extension": ".py",
   "mimetype": "text/x-python",
   "name": "python",
   "nbconvert_exporter": "python",
   "pygments_lexer": "ipython3",
   "version": "3.7.10"
  }
 },
 "nbformat": 4,
 "nbformat_minor": 5
}
