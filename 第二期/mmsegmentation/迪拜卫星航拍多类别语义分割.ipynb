{
 "cells": [
  {
   "cell_type": "markdown",
   "id": "c381d47a",
   "metadata": {},
   "source": [
    "# 下载数据集"
   ]
  },
  {
   "cell_type": "code",
   "execution_count": null,
   "id": "5c602674",
   "metadata": {},
   "outputs": [],
   "source": [
    "!wget https://zihao-openmmlab.obs.cn-east-3.myhuaweicloud.com/20230130-mmseg/dataset/Dubai-dataset.zip\n",
    "!unzip Dubai-dataset.zip -d data"
   ]
  },
  {
   "cell_type": "markdown",
   "id": "e33658f1",
   "metadata": {},
   "source": [
    "# 可视化探索数据集"
   ]
  },
  {
   "cell_type": "markdown",
   "id": "aecf0f62",
   "metadata": {},
   "source": [
    "## 导入工具包"
   ]
  },
  {
   "cell_type": "code",
   "execution_count": null,
   "id": "03dddcc3",
   "metadata": {},
   "outputs": [],
   "source": [
    "import os\n",
    "\n",
    "import cv2\n",
    "import numpy as np\n",
    "import pandas as pd\n",
    "from PIL import Image\n",
    "from tqdm import tqdm\n",
    "\n",
    "import mmcv\n",
    "import mmengine\n",
    "from mmseg.apis import init_model, inference_model, show_result_pyplot\n",
    "\n",
    "import matplotlib.pyplot as plt\n",
    "%matplotlib inline"
   ]
  },
  {
   "cell_type": "markdown",
   "id": "685ce0d0",
   "metadata": {},
   "source": [
    "## 查看单张图像及其语义分割标注"
   ]
  },
  {
   "cell_type": "code",
   "execution_count": null,
   "id": "a342df32",
   "metadata": {},
   "outputs": [],
   "source": [
    "# 指定单张图像路径\n",
    "img_path = 'data/Dubai-dataset/img_dir/train/14.jpg'\n",
    "mask_path = 'data/Dubai-dataset/ann_dir/train/14.png'"
   ]
  },
  {
   "cell_type": "code",
   "execution_count": null,
   "id": "98ff4b61",
   "metadata": {},
   "outputs": [],
   "source": [
    "Image.open(img_path)"
   ]
  },
  {
   "cell_type": "code",
   "execution_count": null,
   "id": "7d8db962",
   "metadata": {},
   "outputs": [],
   "source": [
    "Image.open(mask_path)"
   ]
  },
  {
   "cell_type": "code",
   "execution_count": null,
   "id": "722e72b3",
   "metadata": {},
   "outputs": [],
   "source": [
    "img = cv2.imread(img_path)\n",
    "mask = cv2.imread(mask_path)"
   ]
  },
  {
   "cell_type": "code",
   "execution_count": null,
   "id": "2342c020",
   "metadata": {},
   "outputs": [],
   "source": [
    "img.shape"
   ]
  },
  {
   "cell_type": "code",
   "execution_count": null,
   "id": "d1a708b8",
   "metadata": {},
   "outputs": [],
   "source": [
    "mask.shape"
   ]
  },
  {
   "cell_type": "markdown",
   "id": "8e3058d0",
   "metadata": {},
   "source": [
    "## mask灰度图标注含义"
   ]
  },
  {
   "cell_type": "code",
   "execution_count": null,
   "id": "4c16cb95",
   "metadata": {},
   "outputs": [],
   "source": [
    "# mask 语义分割标注，与原图大小相同\n",
    "np.unique(mask)"
   ]
  },
  {
   "cell_type": "markdown",
   "id": "d1ecef63",
   "metadata": {},
   "source": [
    "| 类别编号 | 类别名称   |\n",
    "| -------- | ---------- |\n",
    "| 0        | Land       |\n",
    "| 1        | Road       |\n",
    "| 2        | Building   |\n",
    "| 3        | Vegetation |\n",
    "| 4        | Water      |\n",
    "| 5        | Unlabeled  |"
   ]
  },
  {
   "cell_type": "code",
   "execution_count": null,
   "id": "c83abbfe",
   "metadata": {},
   "outputs": [],
   "source": [
    "# 可视化语义分割标注\n",
    "plt.imshow(mask[:,:,0])\n",
    "plt.show()"
   ]
  },
  {
   "cell_type": "markdown",
   "id": "756a6ae3",
   "metadata": {},
   "source": [
    "## 叠加在原图上显示"
   ]
  },
  {
   "cell_type": "code",
   "execution_count": null,
   "id": "f4fd8278",
   "metadata": {},
   "outputs": [],
   "source": [
    "plt.imshow(img[:,:,::-1])\n",
    "plt.imshow(mask[:,:,0], alpha=0.4) # alpha 高亮区域透明度，越小越接近原图\n",
    "plt.axis('off')\n",
    "plt.show()"
   ]
  },
  {
   "cell_type": "markdown",
   "id": "84a4450c",
   "metadata": {},
   "source": [
    "## 批量可视化图像和标注"
   ]
  },
  {
   "cell_type": "code",
   "execution_count": null,
   "id": "5f7e9cdd",
   "metadata": {},
   "outputs": [],
   "source": [
    "# 指定图像和标注路径\n",
    "PATH_IMAGE = 'data/Dubai-dataset/img_dir/train'\n",
    "PATH_MASKS = 'data/Dubai-dataset/ann_dir/train'"
   ]
  },
  {
   "cell_type": "code",
   "execution_count": null,
   "id": "6ec7d187",
   "metadata": {},
   "outputs": [],
   "source": [
    "# n行n列可视化\n",
    "n = 5\n",
    "\n",
    "# 标注区域透明度\n",
    "opacity = 0.5\n",
    "\n",
    "fig, axes = plt.subplots(nrows=n, ncols=n, sharex=True, figsize=(12,12))\n",
    "\n",
    "for i, file_name in enumerate(os.listdir(PATH_IMAGE)[:n**2]):\n",
    "    \n",
    "    # 载入图像和标注\n",
    "    img_path = os.path.join(PATH_IMAGE, file_name)\n",
    "    mask_path = os.path.join(PATH_MASKS, file_name.split('.')[0]+'.png')\n",
    "    img = cv2.imread(img_path)\n",
    "    mask = cv2.imread(mask_path)\n",
    "    \n",
    "    # 可视化\n",
    "    axes[i//n, i%n].imshow(img)\n",
    "    axes[i//n, i%n].imshow(mask[:,:,0], alpha=opacity)\n",
    "    axes[i//n, i%n].axis('off') # 关闭坐标轴显示\n",
    "fig.suptitle('Image and Semantic Label', fontsize=30)\n",
    "plt.tight_layout()\n",
    "plt.show()"
   ]
  },
  {
   "cell_type": "markdown",
   "id": "413e5c32",
   "metadata": {},
   "source": [
    "## 定义数据集类"
   ]
  },
  {
   "cell_type": "code",
   "execution_count": null,
   "id": "5355e8c5",
   "metadata": {},
   "outputs": [],
   "source": [
    "!wget https://zihao-openmmlab.obs.cn-east-3.myhuaweicloud.com/20230130-mmseg/Dubai/DubaiDataset.py -P mmseg/datasets"
   ]
  },
  {
   "cell_type": "markdown",
   "id": "49978fe4",
   "metadata": {},
   "source": [
    "## 注册数据集类"
   ]
  },
  {
   "cell_type": "code",
   "execution_count": null,
   "id": "43d4f905",
   "metadata": {},
   "outputs": [],
   "source": [
    "!rm -rf mmseg/datasets/__init__.py\n",
    "!wget https://zihao-openmmlab.obs.cn-east-3.myhuaweicloud.com/20230130-mmseg/Dubai/__init__.py -P mmseg/datasets"
   ]
  },
  {
   "cell_type": "markdown",
   "id": "9bcc3d60",
   "metadata": {},
   "source": [
    "## 定义训练及测试pipeline`"
   ]
  },
  {
   "cell_type": "code",
   "execution_count": null,
   "id": "04958f6a",
   "metadata": {},
   "outputs": [],
   "source": [
    "!wget https://zihao-openmmlab.obs.cn-east-3.myhuaweicloud.com/20230130-mmseg/Dubai/DubaiDataset_pipeline.py -P configs/_base_/datasets"
   ]
  },
  {
   "cell_type": "markdown",
   "id": "7c6b3640",
   "metadata": {},
   "source": [
    "## 下载config"
   ]
  },
  {
   "cell_type": "code",
   "execution_count": null,
   "id": "dc8e4be8",
   "metadata": {},
   "outputs": [],
   "source": [
    "!wget https://zihao-openmmlab.obs.cn-east-3.myhuaweicloud.com/20230130-mmseg/Dubai/pspnet_r50-d8_4xb2-40k_DubaiDataset.py -P configs/pspnet "
   ]
  },
  {
   "cell_type": "markdown",
   "id": "5f1c1e0e",
   "metadata": {},
   "source": [
    "## 载入Config"
   ]
  },
  {
   "cell_type": "code",
   "execution_count": null,
   "id": "629b14ca",
   "metadata": {},
   "outputs": [],
   "source": [
    "from mmengine import Config\n",
    "cfg = Config.fromfile('./configs/pspnet/pspnet_r50-d8_4xb2-40k_DubaiDataset.py')"
   ]
  },
  {
   "cell_type": "markdown",
   "id": "34db25e7",
   "metadata": {},
   "source": [
    "## 修改config配置文件"
   ]
  },
  {
   "cell_type": "code",
   "execution_count": null,
   "id": "1aa9360c",
   "metadata": {
    "colab": {
     "base_uri": "https://localhost:8080/"
    },
    "id": "eyKnYC1Z7iCV",
    "outputId": "6195217b-187f-4675-994b-ba90d8bb3078"
   },
   "outputs": [],
   "source": [
    "cfg.norm_cfg = dict(type='BN', requires_grad=True) # 只使用GPU时，BN取代SyncBN\n",
    "cfg.crop_size = (256, 256)\n",
    "cfg.model.data_preprocessor.size = cfg.crop_size\n",
    "cfg.model.backbone.norm_cfg = cfg.norm_cfg\n",
    "cfg.model.decode_head.norm_cfg = cfg.norm_cfg\n",
    "cfg.model.auxiliary_head.norm_cfg = cfg.norm_cfg\n",
    "# modify num classes of the model in decode/auxiliary head\n",
    "\n",
    "# 模型 decode/auxiliary 输出头，指定为类别个数\n",
    "cfg.model.decode_head.num_classes = 6\n",
    "cfg.model.auxiliary_head.num_classes = 6\n",
    "\n",
    "cfg.train_dataloader.batch_size = 8\n",
    "\n",
    "cfg.test_dataloader = cfg.val_dataloader\n",
    "\n",
    "# 结果保存目录\n",
    "cfg.work_dir = './work_dirs/DubaiDataset'\n",
    "\n",
    "# 训练迭代次数\n",
    "cfg.train_cfg.max_iters = 3000\n",
    "# 评估模型间隔\n",
    "cfg.train_cfg.val_interval = 400\n",
    "# 日志记录间隔\n",
    "cfg.default_hooks.logger.interval = 100\n",
    "# 模型权重保存间隔\n",
    "cfg.default_hooks.checkpoint.interval = 1500\n",
    "\n",
    "# 随机数种子\n",
    "cfg['randomness'] = dict(seed=0)"
   ]
  },
  {
   "cell_type": "markdown",
   "id": "7d894cfc",
   "metadata": {},
   "source": [
    "## 查看完整config配置文件"
   ]
  },
  {
   "cell_type": "code",
   "execution_count": null,
   "id": "6878a201",
   "metadata": {},
   "outputs": [],
   "source": [
    "# print(cfg.pretty_text)"
   ]
  },
  {
   "cell_type": "markdown",
   "id": "32c60cc8",
   "metadata": {},
   "source": [
    "## 保存config配置文件"
   ]
  },
  {
   "cell_type": "code",
   "execution_count": null,
   "id": "e3ad7bd8",
   "metadata": {},
   "outputs": [],
   "source": [
    "cfg.dump('configs/pspnet/pspnet-DubaiDataset_20230612.py')"
   ]
  },
  {
   "cell_type": "markdown",
   "id": "bd5bdca4",
   "metadata": {},
   "source": [
    "## 载入训练配置文件`"
   ]
  },
  {
   "cell_type": "code",
   "execution_count": 2,
   "id": "eecc1dfc",
   "metadata": {
    "id": "Wwnj9tRzqX_A"
   },
   "outputs": [],
   "source": [
    "from mmengine import Config\n",
    "cfg = Config.fromfile('configs/pspnet/pspnet-DubaiDataset_20230612.py')"
   ]
  },
  {
   "cell_type": "markdown",
   "id": "794da698",
   "metadata": {
    "id": "QWuH14LYF2gQ"
   },
   "source": [
    "## 准备训练"
   ]
  },
  {
   "cell_type": "code",
   "execution_count": 3,
   "id": "eb312f65",
   "metadata": {
    "colab": {
     "base_uri": "https://localhost:8080/"
    },
    "id": "jYKoSfdMF12B",
    "outputId": "422219ca-d7a5-4890-f09f-88c959942e64",
    "tags": []
   },
   "outputs": [
    {
     "name": "stdout",
     "output_type": "stream",
     "text": [
      "06/17 12:55:47 - mmengine - INFO - \n",
      "------------------------------------------------------------\n",
      "System environment:\n",
      "    sys.platform: linux\n",
      "    Python: 3.7.10 (default, Feb 26 2021, 18:47:35) [GCC 7.3.0]\n",
      "    CUDA available: True\n",
      "    numpy_random_seed: 0\n",
      "    GPU 0: Tesla T4\n",
      "    CUDA_HOME: /usr/local/cuda\n",
      "    NVCC: Cuda compilation tools, release 10.2, V10.2.8\n",
      "    GCC: gcc (Ubuntu 7.5.0-3ubuntu1~18.04) 7.5.0\n",
      "    PyTorch: 1.13.1+cu117\n",
      "    PyTorch compiling details: PyTorch built with:\n",
      "  - GCC 9.3\n",
      "  - C++ Version: 201402\n",
      "  - Intel(R) oneAPI Math Kernel Library Version 2021.2-Product Build 20210312 for Intel(R) 64 architecture applications\n",
      "  - Intel(R) MKL-DNN v2.6.0 (Git Hash 52b5f107dd9cf10910aaa19cb47f3abf9b349815)\n",
      "  - OpenMP 201511 (a.k.a. OpenMP 4.5)\n",
      "  - LAPACK is enabled (usually provided by MKL)\n",
      "  - NNPACK is enabled\n",
      "  - CPU capability usage: AVX2\n",
      "  - CUDA Runtime 11.7\n",
      "  - NVCC architecture flags: -gencode;arch=compute_37,code=sm_37;-gencode;arch=compute_50,code=sm_50;-gencode;arch=compute_60,code=sm_60;-gencode;arch=compute_70,code=sm_70;-gencode;arch=compute_75,code=sm_75;-gencode;arch=compute_80,code=sm_80;-gencode;arch=compute_86,code=sm_86\n",
      "  - CuDNN 8.5\n",
      "  - Magma 2.6.1\n",
      "  - Build settings: BLAS_INFO=mkl, BUILD_TYPE=Release, CUDA_VERSION=11.7, CUDNN_VERSION=8.5.0, CXX_COMPILER=/opt/rh/devtoolset-9/root/usr/bin/c++, CXX_FLAGS= -fabi-version=11 -Wno-deprecated -fvisibility-inlines-hidden -DUSE_PTHREADPOOL -fopenmp -DNDEBUG -DUSE_KINETO -DUSE_FBGEMM -DUSE_QNNPACK -DUSE_PYTORCH_QNNPACK -DUSE_XNNPACK -DSYMBOLICATE_MOBILE_DEBUG_HANDLE -DEDGE_PROFILER_USE_KINETO -O2 -fPIC -Wno-narrowing -Wall -Wextra -Werror=return-type -Werror=non-virtual-dtor -Wno-missing-field-initializers -Wno-type-limits -Wno-array-bounds -Wno-unknown-pragmas -Wunused-local-typedefs -Wno-unused-parameter -Wno-unused-function -Wno-unused-result -Wno-strict-overflow -Wno-strict-aliasing -Wno-error=deprecated-declarations -Wno-stringop-overflow -Wno-psabi -Wno-error=pedantic -Wno-error=redundant-decls -Wno-error=old-style-cast -fdiagnostics-color=always -faligned-new -Wno-unused-but-set-variable -Wno-maybe-uninitialized -fno-math-errno -fno-trapping-math -Werror=format -Werror=cast-function-type -Wno-stringop-overflow, LAPACK_INFO=mkl, PERF_WITH_AVX=1, PERF_WITH_AVX2=1, PERF_WITH_AVX512=1, TORCH_VERSION=1.13.1, USE_CUDA=ON, USE_CUDNN=ON, USE_EXCEPTION_PTR=1, USE_GFLAGS=OFF, USE_GLOG=OFF, USE_MKL=ON, USE_MKLDNN=ON, USE_MPI=OFF, USE_NCCL=ON, USE_NNPACK=ON, USE_OPENMP=ON, USE_ROCM=OFF, \n",
      "\n",
      "    TorchVision: 0.10.0\n",
      "    OpenCV: 4.7.0\n",
      "    MMEngine: 0.7.3\n",
      "\n",
      "Runtime environment:\n",
      "    cudnn_benchmark: True\n",
      "    mp_cfg: {'mp_start_method': 'fork', 'opencv_num_threads': 0}\n",
      "    dist_cfg: {'backend': 'nccl'}\n",
      "    seed: 0\n",
      "    Distributed launcher: none\n",
      "    Distributed training: False\n",
      "    GPU number: 1\n",
      "------------------------------------------------------------\n",
      "\n",
      "06/17 12:55:47 - mmengine - INFO - Config:\n",
      "norm_cfg = dict(type='BN', requires_grad=True)\n",
      "data_preprocessor = dict(\n",
      "    type='SegDataPreProcessor',\n",
      "    mean=[123.675, 116.28, 103.53],\n",
      "    std=[58.395, 57.12, 57.375],\n",
      "    bgr_to_rgb=True,\n",
      "    pad_val=0,\n",
      "    seg_pad_val=255,\n",
      "    size=(64, 64))\n",
      "model = dict(\n",
      "    type='EncoderDecoder',\n",
      "    data_preprocessor=dict(\n",
      "        type='SegDataPreProcessor',\n",
      "        mean=[123.675, 116.28, 103.53],\n",
      "        std=[58.395, 57.12, 57.375],\n",
      "        bgr_to_rgb=True,\n",
      "        pad_val=0,\n",
      "        seg_pad_val=255,\n",
      "        size=(256, 256)),\n",
      "    pretrained='open-mmlab://resnet50_v1c',\n",
      "    backbone=dict(\n",
      "        type='ResNetV1c',\n",
      "        depth=50,\n",
      "        num_stages=4,\n",
      "        out_indices=(0, 1, 2, 3),\n",
      "        dilations=(1, 1, 2, 4),\n",
      "        strides=(1, 2, 1, 1),\n",
      "        norm_cfg=dict(type='BN', requires_grad=True),\n",
      "        norm_eval=False,\n",
      "        style='pytorch',\n",
      "        contract_dilation=True),\n",
      "    decode_head=dict(\n",
      "        type='PSPHead',\n",
      "        in_channels=2048,\n",
      "        in_index=3,\n",
      "        channels=512,\n",
      "        pool_scales=(1, 2, 3, 6),\n",
      "        dropout_ratio=0.1,\n",
      "        num_classes=6,\n",
      "        norm_cfg=dict(type='BN', requires_grad=True),\n",
      "        align_corners=False,\n",
      "        loss_decode=dict(\n",
      "            type='CrossEntropyLoss', use_sigmoid=False, loss_weight=1.0)),\n",
      "    auxiliary_head=dict(\n",
      "        type='FCNHead',\n",
      "        in_channels=1024,\n",
      "        in_index=2,\n",
      "        channels=256,\n",
      "        num_convs=1,\n",
      "        concat_input=False,\n",
      "        dropout_ratio=0.1,\n",
      "        num_classes=6,\n",
      "        norm_cfg=dict(type='BN', requires_grad=True),\n",
      "        align_corners=False,\n",
      "        loss_decode=dict(\n",
      "            type='CrossEntropyLoss', use_sigmoid=False, loss_weight=0.4)),\n",
      "    train_cfg=dict(),\n",
      "    test_cfg=dict(mode='whole'))\n",
      "dataset_type = 'DubaiDataset'\n",
      "data_root = 'data/Dubai-dataset/'\n",
      "crop_size = (256, 256)\n",
      "train_pipeline = [\n",
      "    dict(type='LoadImageFromFile'),\n",
      "    dict(type='LoadAnnotations'),\n",
      "    dict(\n",
      "        type='RandomResize',\n",
      "        scale=(2048, 1024),\n",
      "        ratio_range=(0.5, 2.0),\n",
      "        keep_ratio=True),\n",
      "    dict(type='RandomCrop', crop_size=(64, 64), cat_max_ratio=0.75),\n",
      "    dict(type='RandomFlip', prob=0.5),\n",
      "    dict(type='PhotoMetricDistortion'),\n",
      "    dict(type='PackSegInputs')\n",
      "]\n",
      "test_pipeline = [\n",
      "    dict(type='LoadImageFromFile'),\n",
      "    dict(type='Resize', scale=(2048, 1024), keep_ratio=True),\n",
      "    dict(type='LoadAnnotations'),\n",
      "    dict(type='PackSegInputs')\n",
      "]\n",
      "img_ratios = [0.5, 0.75, 1.0, 1.25, 1.5, 1.75]\n",
      "tta_pipeline = [\n",
      "    dict(type='LoadImageFromFile', file_client_args=dict(backend='disk')),\n",
      "    dict(\n",
      "        type='TestTimeAug',\n",
      "        transforms=[[{\n",
      "            'type': 'Resize',\n",
      "            'scale_factor': 0.5,\n",
      "            'keep_ratio': True\n",
      "        }, {\n",
      "            'type': 'Resize',\n",
      "            'scale_factor': 0.75,\n",
      "            'keep_ratio': True\n",
      "        }, {\n",
      "            'type': 'Resize',\n",
      "            'scale_factor': 1.0,\n",
      "            'keep_ratio': True\n",
      "        }, {\n",
      "            'type': 'Resize',\n",
      "            'scale_factor': 1.25,\n",
      "            'keep_ratio': True\n",
      "        }, {\n",
      "            'type': 'Resize',\n",
      "            'scale_factor': 1.5,\n",
      "            'keep_ratio': True\n",
      "        }, {\n",
      "            'type': 'Resize',\n",
      "            'scale_factor': 1.75,\n",
      "            'keep_ratio': True\n",
      "        }],\n",
      "                    [{\n",
      "                        'type': 'RandomFlip',\n",
      "                        'prob': 0.0,\n",
      "                        'direction': 'horizontal'\n",
      "                    }, {\n",
      "                        'type': 'RandomFlip',\n",
      "                        'prob': 1.0,\n",
      "                        'direction': 'horizontal'\n",
      "                    }], [{\n",
      "                        'type': 'LoadAnnotations'\n",
      "                    }], [{\n",
      "                        'type': 'PackSegInputs'\n",
      "                    }]])\n",
      "]\n",
      "train_dataloader = dict(\n",
      "    batch_size=8,\n",
      "    num_workers=2,\n",
      "    persistent_workers=True,\n",
      "    sampler=dict(type='InfiniteSampler', shuffle=True),\n",
      "    dataset=dict(\n",
      "        type='DubaiDataset',\n",
      "        data_root='data/Dubai-dataset/',\n",
      "        data_prefix=dict(\n",
      "            img_path='img_dir/train', seg_map_path='ann_dir/train'),\n",
      "        pipeline=[\n",
      "            dict(type='LoadImageFromFile'),\n",
      "            dict(type='LoadAnnotations'),\n",
      "            dict(\n",
      "                type='RandomResize',\n",
      "                scale=(2048, 1024),\n",
      "                ratio_range=(0.5, 2.0),\n",
      "                keep_ratio=True),\n",
      "            dict(type='RandomCrop', crop_size=(64, 64), cat_max_ratio=0.75),\n",
      "            dict(type='RandomFlip', prob=0.5),\n",
      "            dict(type='PhotoMetricDistortion'),\n",
      "            dict(type='PackSegInputs')\n",
      "        ]))\n",
      "val_dataloader = dict(\n",
      "    batch_size=1,\n",
      "    num_workers=4,\n",
      "    persistent_workers=True,\n",
      "    sampler=dict(type='DefaultSampler', shuffle=False),\n",
      "    dataset=dict(\n",
      "        type='DubaiDataset',\n",
      "        data_root='data/Dubai-dataset/',\n",
      "        data_prefix=dict(img_path='img_dir/val', seg_map_path='ann_dir/val'),\n",
      "        pipeline=[\n",
      "            dict(type='LoadImageFromFile'),\n",
      "            dict(type='Resize', scale=(2048, 1024), keep_ratio=True),\n",
      "            dict(type='LoadAnnotations'),\n",
      "            dict(type='PackSegInputs')\n",
      "        ]))\n",
      "test_dataloader = dict(\n",
      "    batch_size=1,\n",
      "    num_workers=4,\n",
      "    persistent_workers=True,\n",
      "    sampler=dict(type='DefaultSampler', shuffle=False),\n",
      "    dataset=dict(\n",
      "        type='DubaiDataset',\n",
      "        data_root='data/Dubai-dataset/',\n",
      "        data_prefix=dict(img_path='img_dir/val', seg_map_path='ann_dir/val'),\n",
      "        pipeline=[\n",
      "            dict(type='LoadImageFromFile'),\n",
      "            dict(type='Resize', scale=(2048, 1024), keep_ratio=True),\n",
      "            dict(type='LoadAnnotations'),\n",
      "            dict(type='PackSegInputs')\n",
      "        ]))\n",
      "val_evaluator = dict(type='IoUMetric', iou_metrics=['mIoU'])\n",
      "test_evaluator = dict(type='IoUMetric', iou_metrics=['mIoU'])\n",
      "default_scope = 'mmseg'\n",
      "env_cfg = dict(\n",
      "    cudnn_benchmark=True,\n",
      "    mp_cfg=dict(mp_start_method='fork', opencv_num_threads=0),\n",
      "    dist_cfg=dict(backend='nccl'))\n",
      "vis_backends = [dict(type='LocalVisBackend')]\n",
      "visualizer = dict(\n",
      "    type='SegLocalVisualizer',\n",
      "    vis_backends=[dict(type='LocalVisBackend')],\n",
      "    name='visualizer')\n",
      "log_processor = dict(by_epoch=False)\n",
      "log_level = 'INFO'\n",
      "load_from = None\n",
      "resume = False\n",
      "tta_model = dict(type='SegTTAModel')\n",
      "optimizer = dict(type='SGD', lr=0.01, momentum=0.9, weight_decay=0.0005)\n",
      "optim_wrapper = dict(\n",
      "    type='OptimWrapper',\n",
      "    optimizer=dict(type='SGD', lr=0.01, momentum=0.9, weight_decay=0.0005),\n",
      "    clip_grad=None)\n",
      "param_scheduler = [\n",
      "    dict(\n",
      "        type='PolyLR',\n",
      "        eta_min=0.0001,\n",
      "        power=0.9,\n",
      "        begin=0,\n",
      "        end=40000,\n",
      "        by_epoch=False)\n",
      "]\n",
      "train_cfg = dict(type='IterBasedTrainLoop', max_iters=3000, val_interval=400)\n",
      "val_cfg = dict(type='ValLoop')\n",
      "test_cfg = dict(type='TestLoop')\n",
      "default_hooks = dict(\n",
      "    timer=dict(type='IterTimerHook'),\n",
      "    logger=dict(type='LoggerHook', interval=100, log_metric_by_epoch=False),\n",
      "    param_scheduler=dict(type='ParamSchedulerHook'),\n",
      "    checkpoint=dict(type='CheckpointHook', by_epoch=False, interval=1500),\n",
      "    sampler_seed=dict(type='DistSamplerSeedHook'),\n",
      "    visualization=dict(type='SegVisualizationHook'))\n",
      "work_dir = './work_dirs/DubaiDataset'\n",
      "randomness = dict(seed=0)\n",
      "\n"
     ]
    },
    {
     "name": "stderr",
     "output_type": "stream",
     "text": [
      "/code/temp/mmsegmentation/mmseg/models/backbones/resnet.py:431: UserWarning: DeprecationWarning: pretrained is a deprecated, please use \"init_cfg\" instead\n",
      "  warnings.warn('DeprecationWarning: pretrained is a deprecated, '\n",
      "/code/temp/mmsegmentation/mmseg/models/builder.py:36: UserWarning: ``build_loss`` would be deprecated soon, please use ``mmseg.registry.MODELS.build()`` \n",
      "  warnings.warn('``build_loss`` would be deprecated soon, please use '\n",
      "/code/temp/mmsegmentation/mmseg/models/losses/cross_entropy_loss.py:236: UserWarning: Default ``avg_non_ignore`` is False, if you would like to ignore the certain label and average loss over non-ignore labels, which is the same with PyTorch official cross_entropy, set ``avg_non_ignore=True``.\n",
      "  'Default ``avg_non_ignore`` is False, if you would like to '\n"
     ]
    },
    {
     "name": "stdout",
     "output_type": "stream",
     "text": [
      "06/17 12:55:50 - mmengine - INFO - Distributed training is not used, all SyncBatchNorm (SyncBN) layers in the model will be automatically reverted to BatchNormXd layers if they are used.\n",
      "06/17 12:55:50 - mmengine - INFO - Hooks will be executed in the following order:\n",
      "before_run:\n",
      "(VERY_HIGH   ) RuntimeInfoHook                    \n",
      "(BELOW_NORMAL) LoggerHook                         \n",
      " -------------------- \n",
      "before_train:\n",
      "(VERY_HIGH   ) RuntimeInfoHook                    \n",
      "(NORMAL      ) IterTimerHook                      \n",
      "(VERY_LOW    ) CheckpointHook                     \n",
      " -------------------- \n",
      "before_train_epoch:\n",
      "(VERY_HIGH   ) RuntimeInfoHook                    \n",
      "(NORMAL      ) IterTimerHook                      \n",
      "(NORMAL      ) DistSamplerSeedHook                \n",
      " -------------------- \n",
      "before_train_iter:\n",
      "(VERY_HIGH   ) RuntimeInfoHook                    \n",
      "(NORMAL      ) IterTimerHook                      \n",
      " -------------------- \n",
      "after_train_iter:\n",
      "(VERY_HIGH   ) RuntimeInfoHook                    \n",
      "(NORMAL      ) IterTimerHook                      \n",
      "(NORMAL      ) SegVisualizationHook               \n",
      "(BELOW_NORMAL) LoggerHook                         \n",
      "(LOW         ) ParamSchedulerHook                 \n",
      "(VERY_LOW    ) CheckpointHook                     \n",
      " -------------------- \n",
      "after_train_epoch:\n",
      "(NORMAL      ) IterTimerHook                      \n",
      "(LOW         ) ParamSchedulerHook                 \n",
      "(VERY_LOW    ) CheckpointHook                     \n",
      " -------------------- \n",
      "before_val_epoch:\n",
      "(NORMAL      ) IterTimerHook                      \n",
      " -------------------- \n",
      "before_val_iter:\n",
      "(NORMAL      ) IterTimerHook                      \n",
      " -------------------- \n",
      "after_val_iter:\n",
      "(NORMAL      ) IterTimerHook                      \n",
      "(NORMAL      ) SegVisualizationHook               \n",
      "(BELOW_NORMAL) LoggerHook                         \n",
      " -------------------- \n",
      "after_val_epoch:\n",
      "(VERY_HIGH   ) RuntimeInfoHook                    \n",
      "(NORMAL      ) IterTimerHook                      \n",
      "(BELOW_NORMAL) LoggerHook                         \n",
      "(LOW         ) ParamSchedulerHook                 \n",
      "(VERY_LOW    ) CheckpointHook                     \n",
      " -------------------- \n",
      "after_train:\n",
      "(VERY_LOW    ) CheckpointHook                     \n",
      " -------------------- \n",
      "before_test_epoch:\n",
      "(NORMAL      ) IterTimerHook                      \n",
      " -------------------- \n",
      "before_test_iter:\n",
      "(NORMAL      ) IterTimerHook                      \n",
      " -------------------- \n",
      "after_test_iter:\n",
      "(NORMAL      ) IterTimerHook                      \n",
      "(NORMAL      ) SegVisualizationHook               \n",
      "(BELOW_NORMAL) LoggerHook                         \n",
      " -------------------- \n",
      "after_test_epoch:\n",
      "(VERY_HIGH   ) RuntimeInfoHook                    \n",
      "(NORMAL      ) IterTimerHook                      \n",
      "(BELOW_NORMAL) LoggerHook                         \n",
      " -------------------- \n",
      "after_run:\n",
      "(BELOW_NORMAL) LoggerHook                         \n",
      " -------------------- \n"
     ]
    },
    {
     "name": "stderr",
     "output_type": "stream",
     "text": [
      "/code/temp/mmsegmentation/mmseg/engine/hooks/visualization_hook.py:61: UserWarning: The draw is False, it means that the hook for visualization will not take effect. The results will NOT be visualized or stored.\n",
      "  warnings.warn('The draw is False, it means that the '\n"
     ]
    }
   ],
   "source": [
    "from mmengine.runner import Runner\n",
    "from mmseg.utils import register_all_modules\n",
    "\n",
    "# register all modules in mmseg into the registries\n",
    "# do not init the default scope here because it will be init in the runner\n",
    "register_all_modules(init_default_scope=False)\n",
    "runner = Runner.from_cfg(cfg)"
   ]
  },
  {
   "cell_type": "markdown",
   "id": "c7f3453a",
   "metadata": {},
   "source": [
    "## 开始训练\n",
    "\n",
    "如果遇到报错`CUDA out of memeory`，可尝试以下步骤：\n",
    "\n",
    "1. 调小 batch size\n",
    "\n",
    "2. 左上角`内核-关闭所有内核`\n",
    "\n",
    "3. 重启实例，或者使用显存更高的实例即可。"
   ]
  },
  {
   "cell_type": "code",
   "execution_count": null,
   "id": "1c0c2df3",
   "metadata": {},
   "outputs": [
    {
     "name": "stdout",
     "output_type": "stream",
     "text": [
      "06/17 12:56:58 - mmengine - WARNING - The prefix is not set in metric class IoUMetric.\n",
      "06/17 12:56:59 - mmengine - INFO - load model from: open-mmlab://resnet50_v1c\n",
      "06/17 12:56:59 - mmengine - INFO - Loads checkpoint by openmmlab backend from path: open-mmlab://resnet50_v1c\n",
      "06/17 12:56:59 - mmengine - WARNING - The model and loaded state dict do not match exactly\n",
      "\n",
      "unexpected key in source state_dict: fc.weight, fc.bias\n",
      "\n",
      "06/17 12:56:59 - mmengine - WARNING - \"FileClient\" will be deprecated in future. Please use io functions in https://mmengine.readthedocs.io/en/latest/api/fileio.html#file-io\n",
      "06/17 12:56:59 - mmengine - WARNING - \"HardDiskBackend\" is the alias of \"LocalBackend\" and the former will be deprecated in future.\n",
      "06/17 12:56:59 - mmengine - INFO - Checkpoints will be saved to /code/temp/mmsegmentation/work_dirs/DubaiDataset.\n",
      "06/17 12:57:08 - mmengine - INFO - Exp name: pspnet-DubaiDataset_20230612_20230617_125546\n",
      "06/17 12:57:08 - mmengine - INFO - Iter(train) [   8/3000]  lr: 9.9984e-03  eta: 0:57:10  time: 1.1467  data_time: 0.0074  memory: 5948  loss: 0.1519  decode.loss_ce: 0.1068  decode.acc_seg: 43.4875  aux.loss_ce: 0.0451  aux.acc_seg: 34.3964\n"
     ]
    }
   ],
   "source": [
    "runner.train()"
   ]
  },
  {
   "cell_type": "markdown",
   "id": "a64e804e",
   "metadata": {},
   "source": [
    "## 查看python目录"
   ]
  },
  {
   "cell_type": "code",
   "execution_count": null,
   "id": "513cb023",
   "metadata": {},
   "outputs": [],
   "source": [
    "import sys\n",
    "print(sys.path)"
   ]
  },
  {
   "cell_type": "markdown",
   "id": "3920c56d",
   "metadata": {},
   "source": [
    "## 设置Matplotlib中文字体"
   ]
  },
  {
   "cell_type": "code",
   "execution_count": null,
   "id": "cde31af5",
   "metadata": {},
   "outputs": [],
   "source": [
    "!wget https://zihao-openmmlab.obs.cn-east-3.myhuaweicloud.com/20220716-mmclassification/dataset/SimHei.ttf -O /opt/conda/lib/python3.7/site-packages/matplotlib/mpl-data/fonts/ttf/SimHei.ttf\n",
    "!rm -rf /root/.cache/matplotlib\n",
    "\n",
    "import matplotlib \n",
    "import matplotlib.pyplot as plt\n",
    "matplotlib.rc(\"font\",family='SimHei') # 中文字体"
   ]
  },
  {
   "cell_type": "code",
   "execution_count": null,
   "id": "9776ed40",
   "metadata": {},
   "outputs": [],
   "source": [
    "plt.plot([1,2,3], [100,500,300])\n",
    "plt.title('matplotlib中文字体测试', fontsize=25)\n",
    "plt.xlabel('X轴', fontsize=15)\n",
    "plt.ylabel('Y轴', fontsize=15)\n",
    "plt.show()"
   ]
  },
  {
   "cell_type": "markdown",
   "id": "92791f9f",
   "metadata": {},
   "source": [
    "## 载入训练日志"
   ]
  },
  {
   "cell_type": "code",
   "execution_count": null,
   "id": "93c8774b",
   "metadata": {},
   "outputs": [],
   "source": [
    "# 日志文件路径\n",
    "log_path = 'work_dirs/DubaiDataset/20230617_101209/vis_data/scalars.json' #需要更改为实际路径"
   ]
  },
  {
   "cell_type": "code",
   "execution_count": null,
   "id": "063ec91f",
   "metadata": {},
   "outputs": [],
   "source": [
    "with open(log_path, \"r\") as f:\n",
    "    json_list = f.readlines()"
   ]
  },
  {
   "cell_type": "code",
   "execution_count": null,
   "id": "ec1cff21",
   "metadata": {},
   "outputs": [],
   "source": [
    "len(json_list)"
   ]
  },
  {
   "cell_type": "code",
   "execution_count": null,
   "id": "a5cff40c",
   "metadata": {},
   "outputs": [],
   "source": [
    "eval(json_list[4])"
   ]
  },
  {
   "cell_type": "code",
   "execution_count": null,
   "id": "f685b089",
   "metadata": {},
   "outputs": [],
   "source": [
    "df_train = pd.DataFrame()\n",
    "df_test = pd.DataFrame()\n",
    "for each in json_list[:-1]:\n",
    "    if 'aAcc' in each:\n",
    "        df_test = df_test.append(eval(each), ignore_index=True)\n",
    "    else:\n",
    "        df_train = df_train.append(eval(each), ignore_index=True)"
   ]
  },
  {
   "cell_type": "code",
   "execution_count": null,
   "id": "b1c2c48c",
   "metadata": {},
   "outputs": [],
   "source": [
    "df_train"
   ]
  },
  {
   "cell_type": "code",
   "execution_count": null,
   "id": "e6c3549d",
   "metadata": {},
   "outputs": [],
   "source": [
    "df_test"
   ]
  },
  {
   "cell_type": "markdown",
   "id": "fdf2918f",
   "metadata": {},
   "source": [
    "## 导出训练日志表格"
   ]
  },
  {
   "cell_type": "code",
   "execution_count": null,
   "id": "9a751202",
   "metadata": {},
   "outputs": [],
   "source": [
    "df_train.to_csv('训练日志-训练集.csv', index=False)\n",
    "df_test.to_csv('训练日志-测试集.csv', index=False)"
   ]
  },
  {
   "cell_type": "markdown",
   "id": "392091ce",
   "metadata": {},
   "source": [
    "## 可视化辅助函数"
   ]
  },
  {
   "cell_type": "code",
   "execution_count": null,
   "id": "89141c84",
   "metadata": {},
   "outputs": [],
   "source": [
    "from matplotlib import colors as mcolors\n",
    "import random\n",
    "random.seed(124)\n",
    "colors = ['b', 'g', 'r', 'c', 'm', 'y', 'k', 'tab:blue', 'tab:orange', 'tab:green', 'tab:red', 'tab:purple', 'tab:brown', 'tab:pink', 'tab:gray', 'tab:olive', 'tab:cyan', 'black', 'indianred', 'brown', 'firebrick', 'maroon', 'darkred', 'red', 'sienna', 'chocolate', 'yellow', 'olivedrab', 'yellowgreen', 'darkolivegreen', 'forestgreen', 'limegreen', 'darkgreen', 'green', 'lime', 'seagreen', 'mediumseagreen', 'darkslategray', 'darkslategrey', 'teal', 'darkcyan', 'dodgerblue', 'navy', 'darkblue', 'mediumblue', 'blue', 'slateblue', 'darkslateblue', 'mediumslateblue', 'mediumpurple', 'rebeccapurple', 'blueviolet', 'indigo', 'darkorchid', 'darkviolet', 'mediumorchid', 'purple', 'darkmagenta', 'fuchsia', 'magenta', 'orchid', 'mediumvioletred', 'deeppink', 'hotpink']\n",
    "markers = [\".\",\",\",\"o\",\"v\",\"^\",\"<\",\">\",\"1\",\"2\",\"3\",\"4\",\"8\",\"s\",\"p\",\"P\",\"*\",\"h\",\"H\",\"+\",\"x\",\"X\",\"D\",\"d\",\"|\",\"_\",0,1,2,3,4,5,6,7,8,9,10,11]\n",
    "linestyle = ['--', '-.', '-']\n",
    "\n",
    "def get_line_arg():\n",
    "    '''\n",
    "    随机产生一种绘图线型\n",
    "    '''\n",
    "    line_arg = {}\n",
    "    line_arg['color'] = random.choice(colors)\n",
    "    # line_arg['marker'] = random.choice(markers)\n",
    "    line_arg['linestyle'] = random.choice(linestyle)\n",
    "    line_arg['linewidth'] = random.randint(1, 4)\n",
    "    # line_arg['markersize'] = random.randint(3, 5)\n",
    "    return line_arg"
   ]
  },
  {
   "cell_type": "markdown",
   "id": "c9a4d5cf",
   "metadata": {},
   "source": [
    "## 训练集损失函数"
   ]
  },
  {
   "cell_type": "code",
   "execution_count": null,
   "id": "f642d363",
   "metadata": {},
   "outputs": [],
   "source": [
    "metrics = ['loss', 'decode.loss_ce', 'aux.loss_ce']"
   ]
  },
  {
   "cell_type": "code",
   "execution_count": null,
   "id": "eabf6f27",
   "metadata": {},
   "outputs": [],
   "source": [
    "plt.figure(figsize=(16, 8))\n",
    "\n",
    "x = df_train['step']\n",
    "for y in metrics:\n",
    "    plt.plot(x, df_train[y], label=y, **get_line_arg())\n",
    "\n",
    "plt.tick_params(labelsize=20)\n",
    "plt.xlabel('step', fontsize=20)\n",
    "plt.ylabel('loss', fontsize=20)\n",
    "plt.title('训练集损失函数', fontsize=25)\n",
    "plt.savefig('训练集损失函数.pdf', dpi=120, bbox_inches='tight')\n",
    "\n",
    "plt.legend(fontsize=20)\n",
    "\n",
    "plt.show()"
   ]
  },
  {
   "cell_type": "markdown",
   "id": "2a3eb6ed",
   "metadata": {},
   "source": [
    "## 训练集准确率"
   ]
  },
  {
   "cell_type": "code",
   "execution_count": null,
   "id": "a507948f",
   "metadata": {},
   "outputs": [],
   "source": [
    "df_train.columns"
   ]
  },
  {
   "cell_type": "code",
   "execution_count": null,
   "id": "366625d1",
   "metadata": {},
   "outputs": [],
   "source": [
    "metrics = ['decode.acc_seg', 'aux.acc_seg']"
   ]
  },
  {
   "cell_type": "code",
   "execution_count": null,
   "id": "3733f6fc",
   "metadata": {},
   "outputs": [],
   "source": [
    "plt.figure(figsize=(16, 8))\n",
    "\n",
    "x = df_train['step']\n",
    "for y in metrics:\n",
    "    plt.plot(x, df_train[y], label=y, **get_line_arg())\n",
    "\n",
    "plt.tick_params(labelsize=20)\n",
    "plt.xlabel('step', fontsize=20)\n",
    "plt.ylabel('loss', fontsize=20)\n",
    "plt.title('训练集准确率', fontsize=25)\n",
    "plt.savefig('训练集准确率.pdf', dpi=120, bbox_inches='tight')\n",
    "\n",
    "plt.legend(fontsize=20)\n",
    "\n",
    "plt.show()"
   ]
  },
  {
   "cell_type": "markdown",
   "id": "a9ddd207",
   "metadata": {},
   "source": [
    "## 测试集评估指标"
   ]
  },
  {
   "cell_type": "code",
   "execution_count": null,
   "id": "1e104b93",
   "metadata": {},
   "outputs": [],
   "source": [
    "df_test.columns"
   ]
  },
  {
   "cell_type": "code",
   "execution_count": null,
   "id": "817226ff",
   "metadata": {},
   "outputs": [],
   "source": [
    "metrics = ['aAcc', 'mIoU', 'mAcc']"
   ]
  },
  {
   "cell_type": "code",
   "execution_count": null,
   "id": "2aec3786",
   "metadata": {},
   "outputs": [],
   "source": [
    "plt.figure(figsize=(16, 8))\n",
    "\n",
    "x = df_test['step']\n",
    "for y in metrics:\n",
    "    plt.plot(x, df_test[y], label=y, **get_line_arg())\n",
    "\n",
    "plt.tick_params(labelsize=20)\n",
    "plt.ylim([0, 100])\n",
    "plt.xlabel('step', fontsize=20)\n",
    "plt.ylabel(y, fontsize=20)\n",
    "plt.title('测试集评估指标', fontsize=25)\n",
    "plt.savefig('测试集分类评估指标.pdf', dpi=120, bbox_inches='tight')\n",
    "\n",
    "plt.legend(fontsize=20)\n",
    "\n",
    "plt.show()"
   ]
  },
  {
   "cell_type": "markdown",
   "id": "d892d751",
   "metadata": {},
   "source": [
    "## 载入配置文件"
   ]
  },
  {
   "cell_type": "code",
   "execution_count": null,
   "id": "08e4f7df",
   "metadata": {
    "tags": []
   },
   "outputs": [],
   "source": [
    "# 载入 config 配置文件\n",
    "from mmengine import Config\n",
    "cfg = Config.fromfile('configs/pspnet/pspnet-DubaiDataset_20230612.py')"
   ]
  },
  {
   "cell_type": "code",
   "execution_count": null,
   "id": "e3114f2d",
   "metadata": {},
   "outputs": [],
   "source": [
    "from mmengine.runner import Runner\n",
    "from mmseg.utils import register_all_modules\n",
    "\n",
    "# register all modules in mmseg into the registries\n",
    "# do not init the default scope here because it will be init in the runner\n",
    "\n",
    "register_all_modules(init_default_scope=False)\n",
    "runner = Runner.from_cfg(cfg)"
   ]
  },
  {
   "cell_type": "markdown",
   "id": "93f431d7",
   "metadata": {},
   "source": [
    "## 载入模型"
   ]
  },
  {
   "cell_type": "code",
   "execution_count": null,
   "id": "7ae54e72",
   "metadata": {},
   "outputs": [],
   "source": [
    "checkpoint_path = './work_dirs/DubaiDataset/iter_3000.pth'\n",
    "model = init_model(cfg, checkpoint_path, 'cuda:0')"
   ]
  },
  {
   "cell_type": "markdown",
   "id": "0cd200ab",
   "metadata": {},
   "source": [
    "## 载入测试集图像，或新图像"
   ]
  },
  {
   "cell_type": "code",
   "execution_count": null,
   "id": "21e725ef",
   "metadata": {},
   "outputs": [],
   "source": [
    "img = mmcv.imread('data/Dubai-dataset/img_dir/val/71.jpg')"
   ]
  },
  {
   "cell_type": "markdown",
   "id": "efd385b9",
   "metadata": {},
   "source": [
    "## 语义分割预测"
   ]
  },
  {
   "cell_type": "code",
   "execution_count": null,
   "id": "de5734c1",
   "metadata": {},
   "outputs": [],
   "source": [
    "result = inference_model(model, img)"
   ]
  },
  {
   "cell_type": "code",
   "execution_count": null,
   "id": "acab5045",
   "metadata": {},
   "outputs": [],
   "source": [
    "result.keys()"
   ]
  },
  {
   "cell_type": "code",
   "execution_count": null,
   "id": "5b4400f8",
   "metadata": {},
   "outputs": [],
   "source": [
    "pred_mask = result.pred_sem_seg.data[0].cpu().numpy()"
   ]
  },
  {
   "cell_type": "code",
   "execution_count": null,
   "id": "c9d47324",
   "metadata": {},
   "outputs": [],
   "source": [
    "pred_mask.shape"
   ]
  },
  {
   "cell_type": "code",
   "execution_count": null,
   "id": "bfad523f",
   "metadata": {},
   "outputs": [],
   "source": [
    "np.unique(pred_mask)"
   ]
  },
  {
   "cell_type": "markdown",
   "id": "db016ab8",
   "metadata": {},
   "source": [
    "## 可视化语义分割预测结果"
   ]
  },
  {
   "cell_type": "code",
   "execution_count": null,
   "id": "c0a257e0",
   "metadata": {},
   "outputs": [],
   "source": [
    "plt.imshow(pred_mask)\n",
    "plt.show()"
   ]
  },
  {
   "cell_type": "code",
   "execution_count": null,
   "id": "41551144",
   "metadata": {},
   "outputs": [],
   "source": [
    "# 可视化预测结果\n",
    "visualization = show_result_pyplot(model, img, result, opacity=0.7, out_file='pred.jpg')\n",
    "plt.imshow(mmcv.bgr2rgb(visualization))\n",
    "plt.show()"
   ]
  },
  {
   "cell_type": "markdown",
   "id": "f53980ef",
   "metadata": {},
   "source": [
    "## 获取测试集标注"
   ]
  },
  {
   "cell_type": "code",
   "execution_count": null,
   "id": "8fd215a1",
   "metadata": {},
   "outputs": [],
   "source": [
    "label = mmcv.imread('data/Dubai-dataset/ann_dir/val/71.png')"
   ]
  },
  {
   "cell_type": "code",
   "execution_count": null,
   "id": "7083d4cf",
   "metadata": {},
   "outputs": [],
   "source": [
    "label.shape"
   ]
  },
  {
   "cell_type": "markdown",
   "id": "85fedf8c",
   "metadata": {},
   "source": [
    "三个通道全部一样，只取一个通道作为标注即可。"
   ]
  },
  {
   "cell_type": "code",
   "execution_count": null,
   "id": "57f4d627",
   "metadata": {},
   "outputs": [],
   "source": [
    "label_mask = label[:,:,0]"
   ]
  },
  {
   "cell_type": "code",
   "execution_count": null,
   "id": "fc9c942b",
   "metadata": {},
   "outputs": [],
   "source": [
    "label_mask.shape"
   ]
  },
  {
   "cell_type": "code",
   "execution_count": null,
   "id": "a26c5dac",
   "metadata": {},
   "outputs": [],
   "source": [
    "np.unique(label_mask)"
   ]
  },
  {
   "cell_type": "code",
   "execution_count": null,
   "id": "75a69ef8",
   "metadata": {},
   "outputs": [],
   "source": [
    "plt.imshow(label_mask)\n",
    "plt.show()"
   ]
  },
  {
   "cell_type": "markdown",
   "id": "7381935d",
   "metadata": {},
   "source": [
    "## 对比测试集标注和语义分割预测结果"
   ]
  },
  {
   "cell_type": "code",
   "execution_count": null,
   "id": "67156351",
   "metadata": {},
   "outputs": [],
   "source": [
    "# 测试集标注\n",
    "label_mask.shape"
   ]
  },
  {
   "cell_type": "code",
   "execution_count": null,
   "id": "fb8d56bc",
   "metadata": {},
   "outputs": [],
   "source": [
    "# 语义分割预测结果\n",
    "pred_mask.shape"
   ]
  },
  {
   "cell_type": "code",
   "execution_count": null,
   "id": "14618144",
   "metadata": {},
   "outputs": [],
   "source": [
    "# 真实为前景，预测为前景\n",
    "TP = (label_mask == 1) & (pred_mask==1)"
   ]
  },
  {
   "cell_type": "code",
   "execution_count": null,
   "id": "47a21eb5",
   "metadata": {},
   "outputs": [],
   "source": [
    "# 真实为背景，预测为背景\n",
    "TN = (label_mask == 0) & (pred_mask==0)"
   ]
  },
  {
   "cell_type": "code",
   "execution_count": null,
   "id": "70dbecc0",
   "metadata": {},
   "outputs": [],
   "source": [
    "# 真实为前景，预测为背景\n",
    "FN = (label_mask == 1) & (pred_mask==0)"
   ]
  },
  {
   "cell_type": "code",
   "execution_count": null,
   "id": "50a67071",
   "metadata": {},
   "outputs": [],
   "source": [
    "# 真实为背景，预测为前景\n",
    "FP = (label_mask == 0) & (pred_mask==1)"
   ]
  },
  {
   "cell_type": "code",
   "execution_count": null,
   "id": "fb8497bf",
   "metadata": {},
   "outputs": [],
   "source": [
    "plt.imshow(TP)\n",
    "plt.show()"
   ]
  },
  {
   "cell_type": "code",
   "execution_count": null,
   "id": "5bd12b8f",
   "metadata": {},
   "outputs": [],
   "source": [
    "confusion_map = TP * 255 + FP * 150 + FN * 80 + TN * 30"
   ]
  },
  {
   "cell_type": "code",
   "execution_count": null,
   "id": "1ae3994e",
   "metadata": {},
   "outputs": [],
   "source": [
    "plt.imshow(confusion_map)\n",
    "plt.show()"
   ]
  },
  {
   "cell_type": "markdown",
   "id": "c95bb0ee",
   "metadata": {},
   "source": [
    "## 混淆矩阵"
   ]
  },
  {
   "cell_type": "code",
   "execution_count": null,
   "id": "0640339d",
   "metadata": {},
   "outputs": [],
   "source": [
    "from sklearn.metrics import confusion_matrix"
   ]
  },
  {
   "cell_type": "code",
   "execution_count": null,
   "id": "eb71d5f1",
   "metadata": {},
   "outputs": [],
   "source": [
    "confusion_matrix_model = confusion_matrix(label_mask.flatten(), pred_mask.flatten())"
   ]
  },
  {
   "cell_type": "code",
   "execution_count": null,
   "id": "a0560740",
   "metadata": {},
   "outputs": [],
   "source": [
    "confusion_matrix_model"
   ]
  },
  {
   "cell_type": "code",
   "execution_count": null,
   "id": "cfe4e09d",
   "metadata": {},
   "outputs": [],
   "source": [
    "import itertools\n",
    "def cnf_matrix_plotter(cm, classes, cmap=plt.cm.Blues):\n",
    "    \"\"\"\n",
    "    传入混淆矩阵和标签名称列表，绘制混淆矩阵\n",
    "    \"\"\"\n",
    "    plt.figure(figsize=(10, 10))\n",
    "    \n",
    "    plt.imshow(cm, interpolation='nearest', cmap=cmap)\n",
    "    # plt.colorbar() # 色条\n",
    "    tick_marks = np.arange(len(classes))\n",
    "    \n",
    "    plt.title('Confusion Matrix', fontsize=30)\n",
    "    plt.xlabel('Pred', fontsize=25, c='r')\n",
    "    plt.ylabel('True', fontsize=25, c='r')\n",
    "    plt.tick_params(labelsize=16) # 设置类别文字大小\n",
    "    plt.xticks(tick_marks, classes, rotation=90) # 横轴文字旋转\n",
    "    plt.yticks(tick_marks, classes)\n",
    "    \n",
    "    # 写数字\n",
    "    threshold = cm.max() / 2.\n",
    "    for i, j in itertools.product(range(cm.shape[0]), range(cm.shape[1])):\n",
    "        plt.text(j, i, cm[i, j],\n",
    "                 horizontalalignment=\"center\",\n",
    "                 color=\"white\" if cm[i, j] > threshold else \"black\",\n",
    "                 fontsize=12)\n",
    "\n",
    "    plt.tight_layout()\n",
    "\n",
    "    plt.savefig('混淆矩阵.pdf', dpi=300) # 保存图像\n",
    "    plt.show()"
   ]
  },
  {
   "cell_type": "code",
   "execution_count": null,
   "id": "94ff291b",
   "metadata": {},
   "outputs": [],
   "source": [
    "classes = ['Land', 'Road', 'Building', 'Vegetation', 'Water', 'Unlabeled']"
   ]
  },
  {
   "cell_type": "code",
   "execution_count": null,
   "id": "5f561048",
   "metadata": {},
   "outputs": [],
   "source": [
    "cnf_matrix_plotter(confusion_matrix_model, classes, cmap='Blues')"
   ]
  },
  {
   "cell_type": "markdown",
   "id": "3fce6469",
   "metadata": {},
   "source": [
    "Unlabeled类别，既无预测结果，也无标签，因此混淆矩阵中不显示。"
   ]
  },
  {
   "cell_type": "markdown",
   "id": "f941c9e6",
   "metadata": {},
   "source": [
    "## 测试集精度指标"
   ]
  },
  {
   "cell_type": "code",
   "execution_count": null,
   "id": "7f7a29ea",
   "metadata": {},
   "outputs": [],
   "source": [
    "!python tools/test.py configs/pspnet/pspnet-DubaiDataset_20230612.py work_dirs/DubaiDataset/iter_3000.pth"
   ]
  },
  {
   "cell_type": "markdown",
   "id": "7467779d",
   "metadata": {},
   "source": [
    "## 速度指标-FPS"
   ]
  },
  {
   "cell_type": "code",
   "execution_count": null,
   "id": "87bab491",
   "metadata": {},
   "outputs": [],
   "source": [
    "!python tools/analysis_tools/benchmark.py pspnet-DubaiDataset_20230612.py work_dirs/DubaiDataset/iter_3000.pth"
   ]
  }
 ],
 "metadata": {
  "kernelspec": {
   "display_name": "Python 3 (ipykernel)",
   "language": "python",
   "name": "python3"
  },
  "language_info": {
   "codemirror_mode": {
    "name": "ipython",
    "version": 3
   },
   "file_extension": ".py",
   "mimetype": "text/x-python",
   "name": "python",
   "nbconvert_exporter": "python",
   "pygments_lexer": "ipython3",
   "version": "3.7.10"
  }
 },
 "nbformat": 4,
 "nbformat_minor": 5
}
