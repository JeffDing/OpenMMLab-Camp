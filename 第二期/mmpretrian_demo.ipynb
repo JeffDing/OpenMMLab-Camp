{
 "cells": [
  {
   "cell_type": "markdown",
   "id": "5059eb18",
   "metadata": {},
   "source": [
    "## MMPretrain环境搭建与配置 "
   ]
  },
  {
   "cell_type": "markdown",
   "id": "3180d9de",
   "metadata": {},
   "source": [
    "### 测试环境"
   ]
  },
  {
   "cell_type": "code",
   "execution_count": 1,
   "id": "340aa7a0",
   "metadata": {},
   "outputs": [
    {
     "name": "stdout",
     "output_type": "stream",
     "text": [
      "Pytorch 版本 1.13.1+cu117\n",
      "CUDA 是否可用 True\n",
      "MMCV版本 2.0.0\n",
      "CUDA版本 11.7\n",
      "编译器版本 GCC 9.3\n",
      "mmcv版本 2.0.0\n",
      "mmengine版本 0.7.3\n",
      "mmpretrain版本 1.0.0rc8\n"
     ]
    }
   ],
   "source": [
    "import torch, torchvision\n",
    "import mmpretrain\n",
    "import mmcv\n",
    "import mmengine\n",
    "from mmcv.ops import get_compiling_cuda_version, get_compiler_version\n",
    " \n",
    "print('Pytorch 版本', torch.__version__)\n",
    "print('CUDA 是否可用',torch.cuda.is_available())\n",
    " \n",
    " \n",
    "print('MMCV版本', mmcv.__version__)\n",
    "print('CUDA版本', get_compiling_cuda_version())\n",
    "print('编译器版本', get_compiler_version())\n",
    " \n",
    " \n",
    "print('mmcv版本',mmcv.__version__)\n",
    "print('mmengine版本',mmengine.__version__)\n",
    "print('mmpretrain版本', mmpretrain.__version__)"
   ]
  },
  {
   "cell_type": "markdown",
   "id": "ccceb9e1",
   "metadata": {},
   "source": [
    "### 测试模型"
   ]
  },
  {
   "cell_type": "code",
   "execution_count": null,
   "id": "811197d9",
   "metadata": {},
   "outputs": [],
   "source": [
    "from mmpretrain import get_model,list_models,inference_model\n",
    "list_models(task=\"Image Classification\",pattern=\"resnet18\")\n",
    " \n",
    "model = get_model(\"resnet18_8xb16_cifar10\") #加载模型\n",
    "inference_model(model,\"demo/bird.JPEG\",show=True) #推理\n",
    " \n",
    " \n",
    "from mmpretrain import get_model,list_models,inference_model\n",
    "list_models(task=\"Image Caption\",pattern=\"blip\")\n",
    "model = get_model(\"blip-base_3rdparty_caption\") #加载模型\n",
    "inference_model(model,\"demo/bird.JPEG\",show=True) #推理"
   ]
  },
  {
   "cell_type": "code",
   "execution_count": null,
   "id": "4af805e8",
   "metadata": {},
   "outputs": [],
   "source": []
  }
 ],
 "metadata": {
  "kernelspec": {
   "display_name": "Python 3 (ipykernel)",
   "language": "python",
   "name": "python3"
  },
  "language_info": {
   "codemirror_mode": {
    "name": "ipython",
    "version": 3
   },
   "file_extension": ".py",
   "mimetype": "text/x-python",
   "name": "python",
   "nbconvert_exporter": "python",
   "pygments_lexer": "ipython3",
   "version": "3.7.10"
  }
 },
 "nbformat": 4,
 "nbformat_minor": 5
}
