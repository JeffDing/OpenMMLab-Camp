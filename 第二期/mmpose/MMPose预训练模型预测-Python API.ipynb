{
 "cells": [
  {
   "cell_type": "markdown",
   "id": "d8bf98f0",
   "metadata": {},
   "source": [
    "# MMPose预训练模型预测-Python API"
   ]
  },
  {
   "cell_type": "markdown",
   "id": "87085445",
   "metadata": {
    "tags": []
   },
   "source": [
    "## 进入 mmpose 主目录"
   ]
  },
  {
   "cell_type": "code",
   "execution_count": null,
   "id": "035f69e7",
   "metadata": {
    "tags": []
   },
   "outputs": [],
   "source": [
    "import os\n",
    "os.chdir('mmpose')"
   ]
  },
  {
   "cell_type": "markdown",
   "id": "5ea22824",
   "metadata": {},
   "source": [
    "## 下载预训练模型权重文件和视频素材"
   ]
  },
  {
   "cell_type": "code",
   "execution_count": null,
   "id": "5ab4abbd",
   "metadata": {
    "tags": []
   },
   "outputs": [],
   "source": [
    "import os\n",
    "\n",
    "# 创建 checkpoint 文件夹，用于存放预训练模型权重文件\n",
    "os.mkdir('checkpoint')\n",
    "\n",
    "# 创建 outputs 文件夹，用于存放预测结果\n",
    "os.mkdir('outputs')\n",
    "\n",
    "# 创建 data 文件夹，用于存放图片和视频素材\n",
    "os.mkdir('data')\n",
    "\n",
    "os.mkdir('data/test')\n",
    "\n",
    "# 多人图片，来源：https://www.pexels.com/zh-cn/photo/2168292/\n",
    "!wget https://zihao-openmmlab.obs.cn-east-3.myhuaweicloud.com/20220610-mmpose/images/multi-person.jpeg -O data/test/multi-person.jpeg\n",
    "\n",
    "# 单人视频-唱跳篮球 \n",
    "!wget https://zihao-openmmlab.obs.myhuaweicloud.com/20220610-mmpose/videos/cxk.mp4 -P data/test\n",
    "\n",
    "# 妈妈和女儿跳舞，经微信压缩\n",
    "!wget https://zihao-openmmlab.obs.myhuaweicloud.com/20220610-mmpose/videos/mother_wx.mp4 -P data/test\n",
    "\n",
    "# 两个女生跳舞视频，来源：https://mixkit.co/free-stock-video/two-girls-having-fun-in-a-retro-restaurant-42298/\n",
    "!wget https://zihao-openmmlab.obs.cn-east-3.myhuaweicloud.com/20220610-mmpose/videos/two-girls.mp4 -O data/test/two-girls.mp4"
   ]
  },
  {
   "cell_type": "markdown",
   "id": "32ca6c7d",
   "metadata": {},
   "source": [
    "## 导入工具包"
   ]
  },
  {
   "cell_type": "code",
   "execution_count": null,
   "id": "debcf487",
   "metadata": {
    "tags": []
   },
   "outputs": [],
   "source": [
    "import cv2\n",
    "import numpy as np\n",
    "from PIL import Image\n",
    "\n",
    "import matplotlib.pyplot as plt\n",
    "%matplotlib inline\n",
    "\n",
    "import torch\n",
    "\n",
    "import mmcv\n",
    "from mmcv import imread\n",
    "import mmengine\n",
    "from mmengine.registry import init_default_scope\n",
    "\n",
    "from mmpose.apis import inference_topdown\n",
    "from mmpose.apis import init_model as init_pose_estimator\n",
    "from mmpose.evaluation.functional import nms\n",
    "from mmpose.registry import VISUALIZERS\n",
    "from mmpose.structures import merge_data_samples\n",
    "\n",
    "from mmdet.apis import inference_detector, init_detector"
   ]
  },
  {
   "cell_type": "code",
   "execution_count": null,
   "id": "4af27030",
   "metadata": {
    "tags": []
   },
   "outputs": [],
   "source": [
    "# 有 GPU 就用 GPU，没有就用 CPU\n",
    "device = torch.device('cuda:0' if torch.cuda.is_available() else 'cpu')\n",
    "print('device', device)"
   ]
  },
  {
   "cell_type": "markdown",
   "id": "adb9888e",
   "metadata": {},
   "source": [
    "## 载入待测图像"
   ]
  },
  {
   "cell_type": "code",
   "execution_count": null,
   "id": "9778a295",
   "metadata": {
    "tags": []
   },
   "outputs": [],
   "source": [
    "img_path = 'data/test/multi-person.jpeg'"
   ]
  },
  {
   "cell_type": "code",
   "execution_count": null,
   "id": "fc4279b8",
   "metadata": {},
   "outputs": [],
   "source": [
    "# Image.open(img_path)"
   ]
  },
  {
   "cell_type": "markdown",
   "id": "ff00079a",
   "metadata": {},
   "source": [
    "## 构建目标检测模型（任选一个运行）"
   ]
  },
  {
   "cell_type": "code",
   "execution_count": null,
   "id": "44252093",
   "metadata": {
    "tags": []
   },
   "outputs": [],
   "source": [
    "# Faster R CNN\n",
    "detector = init_detector(\n",
    "    'demo/mmdetection_cfg/faster_rcnn_r50_fpn_coco.py',\n",
    "    'https://download.openmmlab.com/mmdetection/v2.0/faster_rcnn/faster_rcnn_r50_fpn_1x_coco/faster_rcnn_r50_fpn_1x_coco_20200130-047c8118.pth',\n",
    "    device=device\n",
    ")"
   ]
  },
  {
   "cell_type": "code",
   "execution_count": null,
   "id": "ca072086",
   "metadata": {},
   "outputs": [],
   "source": [
    "# # RTMPose-Tiny\n",
    "# # https://github.com/open-mmlab/mmpose/tree/dev-1.x/projects/rtmpose\n",
    "# detector = init_detector(\n",
    "#     'projects/rtmpose/rtmdet/person/rtmdet_m_640-8xb32_coco-person.py',\n",
    "#     'https://download.openmmlab.com/mmpose/v1/projects/rtmpose/rtmdet_m_8xb32-100e_coco-obj365-person-235e8209.pth',\n",
    "#     device=device\n",
    "# )"
   ]
  },
  {
   "cell_type": "markdown",
   "id": "f0cbed93",
   "metadata": {},
   "source": [
    "## 构建人体姿态估计模型"
   ]
  },
  {
   "cell_type": "code",
   "execution_count": null,
   "id": "230f08da",
   "metadata": {
    "tags": []
   },
   "outputs": [],
   "source": [
    "pose_estimator = init_pose_estimator(\n",
    "    'configs/body_2d_keypoint/topdown_heatmap/coco/td-hm_hrnet-w32_8xb64-210e_coco-256x192.py',\n",
    "    'https://download.openmmlab.com/mmpose/top_down/hrnet/hrnet_w32_coco_256x192-c78dce93_20200708.pth',\n",
    "    device=device,\n",
    "    cfg_options={'model': {'test_cfg': {'output_heatmaps': True}}}\n",
    ")"
   ]
  },
  {
   "cell_type": "markdown",
   "id": "745900b7",
   "metadata": {},
   "source": [
    "## 预测-目标检测"
   ]
  },
  {
   "cell_type": "code",
   "execution_count": null,
   "id": "6090e605",
   "metadata": {
    "tags": []
   },
   "outputs": [],
   "source": [
    "init_default_scope(detector.cfg.get('default_scope', 'mmdet'))"
   ]
  },
  {
   "cell_type": "code",
   "execution_count": null,
   "id": "0bf0c7e3",
   "metadata": {
    "tags": []
   },
   "outputs": [],
   "source": [
    "# 获取目标检测预测结果\n",
    "detect_result = inference_detector(detector, img_path)"
   ]
  },
  {
   "cell_type": "code",
   "execution_count": null,
   "id": "9465e354",
   "metadata": {
    "tags": []
   },
   "outputs": [],
   "source": [
    "detect_result.keys()"
   ]
  },
  {
   "cell_type": "code",
   "execution_count": null,
   "id": "168a80f9",
   "metadata": {
    "tags": []
   },
   "outputs": [],
   "source": [
    "# 预测类别\n",
    "detect_result.pred_instances.labels"
   ]
  },
  {
   "cell_type": "code",
   "execution_count": null,
   "id": "fcee7d42",
   "metadata": {
    "tags": []
   },
   "outputs": [],
   "source": [
    "# 置信度\n",
    "detect_result.pred_instances.scores"
   ]
  },
  {
   "cell_type": "code",
   "execution_count": null,
   "id": "492f87c7",
   "metadata": {
    "tags": []
   },
   "outputs": [],
   "source": [
    "# 框坐标：左上角X坐标、左上角Y坐标、右下角X坐标、右下角Y坐标\n",
    "# detect_result.pred_instances.bboxes"
   ]
  },
  {
   "cell_type": "markdown",
   "id": "d5c1641b",
   "metadata": {},
   "source": [
    "## 置信度阈值过滤，获得最终目标检测预测结果"
   ]
  },
  {
   "cell_type": "code",
   "execution_count": null,
   "id": "83e3a39f",
   "metadata": {
    "tags": []
   },
   "outputs": [],
   "source": [
    "# 置信度阈值\n",
    "CONF_THRES = 0.5"
   ]
  },
  {
   "cell_type": "code",
   "execution_count": null,
   "id": "91870ab5",
   "metadata": {
    "tags": []
   },
   "outputs": [],
   "source": [
    "pred_instance = detect_result.pred_instances.cpu().numpy()\n",
    "bboxes = np.concatenate((pred_instance.bboxes, pred_instance.scores[:, None]), axis=1)\n",
    "bboxes = bboxes[np.logical_and(pred_instance.labels == 0, pred_instance.scores > CONF_THRES)]\n",
    "bboxes = bboxes[nms(bboxes, 0.3)][:, :4]"
   ]
  },
  {
   "cell_type": "code",
   "execution_count": null,
   "id": "4c5f5a0d",
   "metadata": {
    "tags": []
   },
   "outputs": [],
   "source": [
    "bboxes"
   ]
  },
  {
   "cell_type": "markdown",
   "id": "be2f7922",
   "metadata": {},
   "source": [
    "## 预测-关键点"
   ]
  },
  {
   "cell_type": "code",
   "execution_count": null,
   "id": "873d2e4b",
   "metadata": {
    "tags": []
   },
   "outputs": [],
   "source": [
    "# 获取每个 bbox 的关键点预测结果\n",
    "pose_results = inference_topdown(pose_estimator, img_path, bboxes)"
   ]
  },
  {
   "cell_type": "code",
   "execution_count": null,
   "id": "554a3e7e",
   "metadata": {
    "tags": []
   },
   "outputs": [],
   "source": [
    "len(pose_results)"
   ]
  },
  {
   "cell_type": "code",
   "execution_count": null,
   "id": "b691fc14",
   "metadata": {
    "tags": []
   },
   "outputs": [],
   "source": [
    "# 把多个bbox的pose结果打包到一起\n",
    "data_samples = merge_data_samples(pose_results)"
   ]
  },
  {
   "cell_type": "code",
   "execution_count": null,
   "id": "d618327d",
   "metadata": {
    "tags": []
   },
   "outputs": [],
   "source": [
    "data_samples.keys()"
   ]
  },
  {
   "cell_type": "markdown",
   "id": "58fd0db8",
   "metadata": {},
   "source": [
    "## 预测结果-关键点坐标"
   ]
  },
  {
   "cell_type": "code",
   "execution_count": null,
   "id": "54bdc0a2",
   "metadata": {
    "tags": []
   },
   "outputs": [],
   "source": [
    "# 每个人 17个关键点 坐标\n",
    "data_samples.pred_instances.keypoints.shape"
   ]
  },
  {
   "cell_type": "code",
   "execution_count": null,
   "id": "b55d37f4",
   "metadata": {
    "tags": []
   },
   "outputs": [],
   "source": [
    "# 索引为 0 的人，每个关键点的坐标\n",
    "data_samples.pred_instances.keypoints[0,:,:]"
   ]
  },
  {
   "cell_type": "markdown",
   "id": "47b9eab2",
   "metadata": {},
   "source": [
    "## 预测结果-关键点热力图"
   ]
  },
  {
   "cell_type": "code",
   "execution_count": null,
   "id": "0b590b05",
   "metadata": {
    "tags": []
   },
   "outputs": [],
   "source": [
    "# 每一类关键点的预测热力图\n",
    "data_samples.pred_fields.heatmaps.shape"
   ]
  },
  {
   "cell_type": "code",
   "execution_count": null,
   "id": "68156885",
   "metadata": {
    "tags": []
   },
   "outputs": [],
   "source": [
    "idx_point = 13\n",
    "heatmap = data_samples.pred_fields.heatmaps[idx_point,:,:]"
   ]
  },
  {
   "cell_type": "code",
   "execution_count": null,
   "id": "946ff983",
   "metadata": {
    "tags": []
   },
   "outputs": [],
   "source": [
    "heatmap.shape"
   ]
  },
  {
   "cell_type": "code",
   "execution_count": null,
   "id": "140ff114",
   "metadata": {
    "tags": []
   },
   "outputs": [],
   "source": [
    "# 索引为 idx 的关键点，在全图上的预测热力图\n",
    "plt.imshow(heatmap)\n",
    "plt.show()"
   ]
  },
  {
   "cell_type": "markdown",
   "id": "bea73463",
   "metadata": {},
   "source": [
    "## MMPose官方可视化工具`visualizer`"
   ]
  },
  {
   "cell_type": "code",
   "execution_count": null,
   "id": "9e2bba3c",
   "metadata": {
    "tags": []
   },
   "outputs": [],
   "source": [
    "# 半径\n",
    "pose_estimator.cfg.visualizer.radius = 10\n",
    "# 线宽\n",
    "pose_estimator.cfg.visualizer.line_width = 8\n",
    "visualizer = VISUALIZERS.build(pose_estimator.cfg.visualizer)\n",
    "# 元数据\n",
    "visualizer.set_dataset_meta(pose_estimator.dataset_meta)"
   ]
  },
  {
   "cell_type": "code",
   "execution_count": null,
   "id": "0bddd684",
   "metadata": {
    "tags": []
   },
   "outputs": [],
   "source": [
    "# 元数据\n",
    "# pose_estimator.dataset_meta"
   ]
  },
  {
   "cell_type": "markdown",
   "id": "83bae03e",
   "metadata": {},
   "source": [
    "## 展示可视化效果"
   ]
  },
  {
   "cell_type": "code",
   "execution_count": null,
   "id": "eb107b5b",
   "metadata": {
    "tags": []
   },
   "outputs": [],
   "source": [
    "img = mmcv.imread(img_path)\n",
    "img = mmcv.imconvert(img, 'bgr', 'rgb')\n",
    "\n",
    "img_output = visualizer.add_datasample(\n",
    "            'result',\n",
    "            img,\n",
    "            data_sample=data_samples,\n",
    "            draw_gt=False,\n",
    "            draw_heatmap=True,\n",
    "            draw_bbox=True,\n",
    "            show_kpt_idx=True,\n",
    "            show=False,\n",
    "            wait_time=0,\n",
    "            out_file='outputs/B2.jpg'\n",
    ")"
   ]
  },
  {
   "cell_type": "code",
   "execution_count": null,
   "id": "5a21ceeb",
   "metadata": {
    "tags": []
   },
   "outputs": [],
   "source": [
    "img_output.shape"
   ]
  },
  {
   "cell_type": "code",
   "execution_count": null,
   "id": "53e1c401",
   "metadata": {
    "tags": []
   },
   "outputs": [],
   "source": [
    "plt.figure(figsize=(10,10))\n",
    "plt.imshow(img_output)\n",
    "plt.show()"
   ]
  }
 ],
 "metadata": {
  "kernelspec": {
   "display_name": "Python 3 (ipykernel)",
   "language": "python",
   "name": "python3"
  },
  "language_info": {
   "codemirror_mode": {
    "name": "ipython",
    "version": 3
   },
   "file_extension": ".py",
   "mimetype": "text/x-python",
   "name": "python",
   "nbconvert_exporter": "python",
   "pygments_lexer": "ipython3",
   "version": "3.7.10"
  }
 },
 "nbformat": 4,
 "nbformat_minor": 5
}
