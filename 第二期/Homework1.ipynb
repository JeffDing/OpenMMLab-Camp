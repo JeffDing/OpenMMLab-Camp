{
 "cells": [
  {
   "cell_type": "markdown",
   "id": "fd903fab",
   "metadata": {},
   "source": [
    "# 基于RTMPose的耳朵穴位关键点检测"
   ]
  },
  {
   "cell_type": "markdown",
   "id": "d2ce5658",
   "metadata": {},
   "source": [
    "## 训练RTMDet耳朵目标检测算法"
   ]
  },
  {
   "cell_type": "code",
   "execution_count": null,
   "id": "3b575fcb",
   "metadata": {},
   "outputs": [],
   "source": [
    "import os\n",
    "os.chdir('mmdetection')"
   ]
  },
  {
   "cell_type": "code",
   "execution_count": null,
   "id": "16bfe027",
   "metadata": {},
   "outputs": [],
   "source": [
    "!python tools/train.py data/rtmdet_tiny_ear.py"
   ]
  },
  {
   "cell_type": "markdown",
   "id": "2cfdc65b",
   "metadata": {},
   "source": [
    "## 测试集评估模型精度"
   ]
  },
  {
   "cell_type": "code",
   "execution_count": null,
   "id": "eb2c9e04",
   "metadata": {},
   "outputs": [],
   "source": [
    "python tools/test.py data/rtmdet_tiny_ear.py \\\n",
    "                      work_dirs/rtmdet_tiny_ear/epoch_200.pth"
   ]
  },
  {
   "cell_type": "markdown",
   "id": "529595c7",
   "metadata": {},
   "source": [
    "![rtmdet_result](pic/rtmdet_tiny_ear_result.png)"
   ]
  },
  {
   "cell_type": "markdown",
   "id": "0d99a81e",
   "metadata": {},
   "source": [
    "## 模型轻量化转换"
   ]
  },
  {
   "cell_type": "code",
   "execution_count": null,
   "id": "3a2d31d3",
   "metadata": {},
   "outputs": [],
   "source": [
    "# RTMDet-tiny\n",
    "!python tools/model_converters/publish_model.py \\\n",
    "        work_dirs/rtmdet_tiny_ear/epoch_200.pth \\\n",
    "        checkpoint/rtmdet_tiny_ear_epoch_200_20230604.pth"
   ]
  },
  {
   "cell_type": "markdown",
   "id": "858f63b6",
   "metadata": {},
   "source": [
    "## 训练RTMPose耳朵关键点检测算法"
   ]
  },
  {
   "cell_type": "code",
   "execution_count": null,
   "id": "cab771e8",
   "metadata": {},
   "outputs": [],
   "source": [
    "import os\n",
    "os.chdir('mmpose')"
   ]
  },
  {
   "cell_type": "code",
   "execution_count": null,
   "id": "8cb9577c",
   "metadata": {},
   "outputs": [],
   "source": [
    "!python tools/train.py data/rtmpose-s-ear.py"
   ]
  },
  {
   "cell_type": "markdown",
   "id": "6fcbbb4e",
   "metadata": {},
   "source": [
    "## 测试集评估模型精度"
   ]
  },
  {
   "cell_type": "code",
   "execution_count": null,
   "id": "88ded25a",
   "metadata": {},
   "outputs": [],
   "source": [
    "python tools/test.py data/rtmpose-s-ear.py \\\n",
    "                      work_dirs/rtmpose-s-ear/epoch_300.pth"
   ]
  },
  {
   "cell_type": "markdown",
   "id": "cd72ae9a",
   "metadata": {},
   "source": [
    "![rtmpose_result](pic/rtmpose_tiny_ear_result.png)"
   ]
  },
  {
   "cell_type": "markdown",
   "id": "5e8a2859",
   "metadata": {},
   "source": [
    "## 关键点检测预测"
   ]
  },
  {
   "cell_type": "markdown",
   "id": "6a086f65",
   "metadata": {
    "tags": []
   },
   "source": [
    "## 进入 mmpose 主目录"
   ]
  },
  {
   "cell_type": "code",
   "execution_count": null,
   "id": "ac2c1222",
   "metadata": {},
   "outputs": [],
   "source": [
    "import os\n",
    "os.chdir('mmpose')"
   ]
  },
  {
   "cell_type": "markdown",
   "id": "eb7fc314",
   "metadata": {},
   "source": [
    "## 导入工具包"
   ]
  },
  {
   "cell_type": "code",
   "execution_count": null,
   "id": "a068d960",
   "metadata": {},
   "outputs": [],
   "source": [
    "import cv2\n",
    "import numpy as np\n",
    "from PIL import Image\n",
    "\n",
    "import matplotlib.pyplot as plt\n",
    "%matplotlib inline\n",
    "\n",
    "import torch\n",
    "\n",
    "import mmcv\n",
    "from mmcv import imread\n",
    "import mmengine\n",
    "from mmengine.registry import init_default_scope\n",
    "\n",
    "from mmpose.apis import inference_topdown\n",
    "from mmpose.apis import init_model as init_pose_estimator\n",
    "from mmpose.evaluation.functional import nms\n",
    "from mmpose.registry import VISUALIZERS\n",
    "from mmpose.structures import merge_data_samples\n",
    "\n",
    "from mmdet.apis import inference_detector, init_detector"
   ]
  },
  {
   "cell_type": "code",
   "execution_count": null,
   "id": "3ab34cc2",
   "metadata": {},
   "outputs": [],
   "source": [
    "# 有 GPU 就用 GPU，没有就用 CPU\n",
    "device = torch.device('cuda:0' if torch.cuda.is_available() else 'cpu')\n",
    "print('device', device)"
   ]
  },
  {
   "cell_type": "markdown",
   "id": "03fdf85a",
   "metadata": {},
   "source": [
    "## 载入待测图像"
   ]
  },
  {
   "cell_type": "code",
   "execution_count": null,
   "id": "12f624df",
   "metadata": {},
   "outputs": [],
   "source": [
    "img_path = 'data/ear.jpg'"
   ]
  },
  {
   "cell_type": "code",
   "execution_count": null,
   "id": "99ea93af",
   "metadata": {},
   "outputs": [],
   "source": [
    "# Image.open(img_path)"
   ]
  },
  {
   "cell_type": "markdown",
   "id": "9454d08e",
   "metadata": {},
   "source": [
    "## 准备好的模型文件"
   ]
  },
  {
   "cell_type": "code",
   "execution_count": null,
   "id": "0bfaec01",
   "metadata": {},
   "outputs": [],
   "source": [
    "## 目标检测模型\n",
    "\n",
    "# Faster R CNN\n",
    "# data/faster_r_cnn_triangle.py\n",
    "# checkpoint/faster_r_cnn_triangle_epoch_50_202305120846-76d9dde3.pth\n",
    "\n",
    "# RTMDet-Tiny\n",
    "# data/rtmdet_tiny_triangle.py\n",
    "# checkpoint/rtmdet_tiny_triangle_epoch_200_202305120847-3cd02a8f.pth\n",
    "\n",
    "## 关键点检测模型\n",
    "\n",
    "# data/rtmpose-s-triangle.py\n",
    "# checkpoint/rtmpose-s-triangle-300-32642023_20230524.pth"
   ]
  },
  {
   "cell_type": "markdown",
   "id": "f81bb65f",
   "metadata": {},
   "source": [
    "## 构建目标检测模型"
   ]
  },
  {
   "cell_type": "code",
   "execution_count": null,
   "id": "ada55cca",
   "metadata": {},
   "outputs": [],
   "source": [
    "# RTMDet 三角板检测\n",
    "detector = init_detector(\n",
    "    'data/rtmdet_tiny_ear.py',\n",
    "    'checkpoint/rtmdet_tiny_ear_epoch_200_20230604-0fba1521.pth',\n",
    "    device=device\n",
    ")"
   ]
  },
  {
   "cell_type": "markdown",
   "id": "1e76c847",
   "metadata": {},
   "source": [
    "## 构建关键点检测模型"
   ]
  },
  {
   "cell_type": "code",
   "execution_count": null,
   "id": "edb29723",
   "metadata": {},
   "outputs": [],
   "source": [
    "pose_estimator = init_pose_estimator(\n",
    "    'data/rtmpose-s-ear.py',\n",
    "    'checkpoint/rtmpose-s-triangle-300_202300604.pth',\n",
    "    device=device,\n",
    "    cfg_options={'model': {'test_cfg': {'output_heatmaps': True}}}\n",
    ")"
   ]
  },
  {
   "cell_type": "markdown",
   "id": "5bfd8c1c",
   "metadata": {},
   "source": [
    "## 预测-目标检测"
   ]
  },
  {
   "cell_type": "code",
   "execution_count": null,
   "id": "4f28f90a",
   "metadata": {},
   "outputs": [],
   "source": [
    "init_default_scope(detector.cfg.get('default_scope', 'mmdet'))"
   ]
  },
  {
   "cell_type": "code",
   "execution_count": null,
   "id": "f143e84c",
   "metadata": {},
   "outputs": [],
   "source": [
    "# 获取目标检测预测结果\n",
    "detect_result = inference_detector(detector, img_path)"
   ]
  },
  {
   "cell_type": "code",
   "execution_count": null,
   "id": "e6634d27",
   "metadata": {},
   "outputs": [],
   "source": [
    "detect_result.keys()"
   ]
  },
  {
   "cell_type": "code",
   "execution_count": null,
   "id": "7c4a8be6",
   "metadata": {},
   "outputs": [],
   "source": [
    "# 预测类别\n",
    "detect_result.pred_instances.labels"
   ]
  },
  {
   "cell_type": "code",
   "execution_count": null,
   "id": "3c004cd7",
   "metadata": {},
   "outputs": [],
   "source": [
    "# 置信度\n",
    "detect_result.pred_instances.scores"
   ]
  },
  {
   "cell_type": "code",
   "execution_count": null,
   "id": "db933d51",
   "metadata": {},
   "outputs": [],
   "source": [
    "# 框坐标：左上角X坐标、左上角Y坐标、右下角X坐标、右下角Y坐标\n",
    "# detect_result.pred_instances.bboxes"
   ]
  },
  {
   "cell_type": "markdown",
   "id": "cd169978",
   "metadata": {},
   "source": [
    "## 置信度阈值过滤，获得最终目标检测预测结果"
   ]
  },
  {
   "cell_type": "code",
   "execution_count": null,
   "id": "b9112207",
   "metadata": {},
   "outputs": [],
   "source": [
    "# 置信度阈值\n",
    "CONF_THRES = 0.5"
   ]
  },
  {
   "cell_type": "code",
   "execution_count": null,
   "id": "9569db50",
   "metadata": {},
   "outputs": [],
   "source": [
    "pred_instance = detect_result.pred_instances.cpu().numpy()\n",
    "bboxes = np.concatenate((pred_instance.bboxes, pred_instance.scores[:, None]), axis=1)\n",
    "bboxes = bboxes[np.logical_and(pred_instance.labels == 0, pred_instance.scores > CONF_THRES)]\n",
    "bboxes = bboxes[nms(bboxes, 0.3)][:, :4].astype('int')"
   ]
  },
  {
   "cell_type": "code",
   "execution_count": null,
   "id": "09fe38e0",
   "metadata": {},
   "outputs": [],
   "source": [
    "bboxes"
   ]
  },
  {
   "cell_type": "markdown",
   "id": "6069ede9",
   "metadata": {},
   "source": [
    "## 预测-关键点"
   ]
  },
  {
   "cell_type": "code",
   "execution_count": null,
   "id": "571822e8",
   "metadata": {},
   "outputs": [],
   "source": [
    "# 获取每个 bbox 的关键点预测结果\n",
    "pose_results = inference_topdown(pose_estimator, img_path, bboxes)"
   ]
  },
  {
   "cell_type": "code",
   "execution_count": null,
   "id": "427dba82",
   "metadata": {},
   "outputs": [],
   "source": [
    "len(pose_results)"
   ]
  },
  {
   "cell_type": "code",
   "execution_count": null,
   "id": "c0b230d1",
   "metadata": {},
   "outputs": [],
   "source": [
    "# 把多个bbox的pose结果打包到一起\n",
    "data_samples = merge_data_samples(pose_results)"
   ]
  },
  {
   "cell_type": "code",
   "execution_count": null,
   "id": "3c13672c",
   "metadata": {},
   "outputs": [],
   "source": [
    "data_samples.keys()"
   ]
  },
  {
   "cell_type": "markdown",
   "id": "2c440694",
   "metadata": {},
   "source": [
    "## 预测结果-关键点坐标"
   ]
  },
  {
   "cell_type": "code",
   "execution_count": null,
   "id": "3f50165e",
   "metadata": {},
   "outputs": [],
   "source": [
    "keypoints = data_samples.pred_instances.keypoints.astype('int')"
   ]
  },
  {
   "cell_type": "code",
   "execution_count": null,
   "id": "1d892050",
   "metadata": {},
   "outputs": [],
   "source": [
    "keypoints"
   ]
  },
  {
   "cell_type": "code",
   "execution_count": null,
   "id": "0b677b01",
   "metadata": {},
   "outputs": [],
   "source": [
    "keypoints.shape"
   ]
  },
  {
   "cell_type": "code",
   "execution_count": null,
   "id": "4056ea31",
   "metadata": {},
   "outputs": [],
   "source": [
    "# 索引为 0 的框，每个关键点的坐标\n",
    "keypoints[0,:,:]"
   ]
  },
  {
   "cell_type": "markdown",
   "id": "361426ce",
   "metadata": {},
   "source": [
    "## 预测结果-关键点热力图"
   ]
  },
  {
   "cell_type": "code",
   "execution_count": null,
   "id": "a7be3680",
   "metadata": {},
   "outputs": [],
   "source": [
    "# 每一类关键点的预测热力图\n",
    "data_samples.pred_fields.heatmaps.shape"
   ]
  },
  {
   "cell_type": "code",
   "execution_count": null,
   "id": "bb463be9",
   "metadata": {},
   "outputs": [],
   "source": [
    "kpt_idx = 1\n",
    "heatmap = data_samples.pred_fields.heatmaps[kpt_idx,:,:]"
   ]
  },
  {
   "cell_type": "code",
   "execution_count": null,
   "id": "f1cd7d29",
   "metadata": {},
   "outputs": [],
   "source": [
    "heatmap.shape"
   ]
  },
  {
   "cell_type": "code",
   "execution_count": null,
   "id": "362e190c",
   "metadata": {},
   "outputs": [],
   "source": [
    "# 索引为 idx 的关键点，在全图上的预测热力图\n",
    "plt.imshow(heatmap)\n",
    "plt.show()"
   ]
  },
  {
   "cell_type": "markdown",
   "id": "3e6fa587",
   "metadata": {
    "tags": []
   },
   "source": [
    "## MMPose官方可视化工具`visualizer`"
   ]
  },
  {
   "cell_type": "code",
   "execution_count": null,
   "id": "faf6d5ec",
   "metadata": {},
   "outputs": [],
   "source": [
    "# 半径\n",
    "pose_estimator.cfg.visualizer.radius = 10\n",
    "# 线宽\n",
    "pose_estimator.cfg.visualizer.line_width = 5\n",
    "visualizer = VISUALIZERS.build(pose_estimator.cfg.visualizer)\n",
    "# 元数据\n",
    "visualizer.set_dataset_meta(pose_estimator.dataset_meta)"
   ]
  },
  {
   "cell_type": "code",
   "execution_count": null,
   "id": "6056c7f0",
   "metadata": {},
   "outputs": [],
   "source": [
    "# 元数据\n",
    "# pose_estimator.dataset_meta"
   ]
  },
  {
   "cell_type": "code",
   "execution_count": null,
   "id": "ae1e7b3f",
   "metadata": {},
   "outputs": [],
   "source": [
    "img = mmcv.imread(img_path)\n",
    "img = mmcv.imconvert(img, 'bgr', 'rgb')\n",
    "\n",
    "img_output = visualizer.add_datasample(\n",
    "            'result',\n",
    "            img,\n",
    "            data_sample=data_samples,\n",
    "            draw_gt=False,\n",
    "            draw_heatmap=True,\n",
    "            draw_bbox=True,\n",
    "            show=False,\n",
    "            show_kpt_idx=True,\n",
    "            wait_time=0,\n",
    "            out_file='output/G3_visualizer.jpg',\n",
    "            kpt_thr=0.3\n",
    ")"
   ]
  },
  {
   "cell_type": "code",
   "execution_count": null,
   "id": "f50f18cf",
   "metadata": {},
   "outputs": [],
   "source": [
    "img_output.shape"
   ]
  },
  {
   "cell_type": "code",
   "execution_count": null,
   "id": "6971e008",
   "metadata": {},
   "outputs": [],
   "source": [
    "plt.figure(figsize=(20, 20))\n",
    "plt.imshow(img_output)\n",
    "plt.show()"
   ]
  },
  {
   "cell_type": "markdown",
   "id": "4f59dd2e",
   "metadata": {},
   "source": [
    "## 视频预测"
   ]
  },
  {
   "cell_type": "code",
   "execution_count": null,
   "id": "dc4eb3c0",
   "metadata": {},
   "outputs": [],
   "source": [
    "!python demo/topdown_demo_with_mmdet.py \\\n",
    "        data/rtmdet_tiny_ear.py \\\n",
    "        checkpoint/rtmdet_tiny_ear_epoch_200_20230604-0fba1521.pth \\\n",
    "        data/rtmpose-s-ear.py \\\n",
    "        checkpoint/rtmpose-s-triangle-300_202300604.pth \\\n",
    "        --input data/demo.mp4 \\\n",
    "        --output-root outputs/G2_Video \\\n",
    "        --device cuda:0 \\\n",
    "        --bbox-thr 0.5 \\\n",
    "        --kpt-thr 0.5 \\\n",
    "        --nms-thr 0.3 \\\n",
    "        --radius 16 \\\n",
    "        --thickness 10 \\\n",
    "        --draw-bbox \\\n",
    "        --draw-heatmap \\\n",
    "        --show-kpt-idx"
   ]
  }
 ],
 "metadata": {
  "kernelspec": {
   "display_name": "Python 3 (ipykernel)",
   "language": "python",
   "name": "python3"
  },
  "language_info": {
   "codemirror_mode": {
    "name": "ipython",
    "version": 3
   },
   "file_extension": ".py",
   "mimetype": "text/x-python",
   "name": "python",
   "nbconvert_exporter": "python",
   "pygments_lexer": "ipython3",
   "version": "3.7.10"
  }
 },
 "nbformat": 4,
 "nbformat_minor": 5
}
