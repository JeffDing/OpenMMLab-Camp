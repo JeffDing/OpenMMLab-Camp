{
 "cells": [
  {
   "cell_type": "markdown",
   "id": "fe8c9180",
   "metadata": {},
   "source": [
    "# 下载数据集"
   ]
  },
  {
   "cell_type": "code",
   "execution_count": null,
   "id": "67672ce0",
   "metadata": {},
   "outputs": [],
   "source": [
    "!wget https://zihao-openmmlab.obs.cn-east-3.myhuaweicloud.com/20230130-mmseg/dataset/watermelon/Watermelon87_Semantic_Seg_Mask.zip\n",
    "!unzip Watermelon87_Semantic_Seg_Mask.zip -d data"
   ]
  },
  {
   "cell_type": "markdown",
   "id": "72c86751",
   "metadata": {},
   "source": [
    "# 可视化探索数据集"
   ]
  },
  {
   "cell_type": "markdown",
   "id": "6d2c9883",
   "metadata": {},
   "source": [
    "## 导入工具包"
   ]
  },
  {
   "cell_type": "code",
   "execution_count": 9,
   "id": "1baada64",
   "metadata": {},
   "outputs": [],
   "source": [
    "import os\n",
    "\n",
    "import cv2\n",
    "import numpy as np\n",
    "import pandas as pd\n",
    "from PIL import Image\n",
    "from tqdm import tqdm\n",
    "\n",
    "import mmcv\n",
    "import mmengine\n",
    "from mmseg.apis import init_model, inference_model, show_result_pyplot\n",
    "\n",
    "import matplotlib.pyplot as plt\n",
    "%matplotlib inline"
   ]
  },
  {
   "cell_type": "markdown",
   "id": "11620f87",
   "metadata": {},
   "source": [
    "## 查看单张图像及其语义分割标注"
   ]
  },
  {
   "cell_type": "code",
   "execution_count": null,
   "id": "e2aa1ddd",
   "metadata": {},
   "outputs": [],
   "source": [
    "# 指定单张图像路径\n",
    "img_path = 'data/Watermelon87_Semantic_Seg_Mask/img_dir/train/21746.1.jpg'\n",
    "mask_path = 'data/Watermelon87_Semantic_Seg_Mask/ann_dir/train/21746.png'"
   ]
  },
  {
   "cell_type": "code",
   "execution_count": null,
   "id": "79cd6b2d",
   "metadata": {},
   "outputs": [],
   "source": [
    "Image.open(img_path)"
   ]
  },
  {
   "cell_type": "code",
   "execution_count": null,
   "id": "98e3169a",
   "metadata": {},
   "outputs": [],
   "source": [
    "Image.open(mask_path)"
   ]
  },
  {
   "cell_type": "code",
   "execution_count": null,
   "id": "8c122786",
   "metadata": {},
   "outputs": [],
   "source": [
    "img = cv2.imread(img_path)\n",
    "mask = cv2.imread(mask_path)"
   ]
  },
  {
   "cell_type": "code",
   "execution_count": null,
   "id": "077eced2",
   "metadata": {},
   "outputs": [],
   "source": [
    "img.shape"
   ]
  },
  {
   "cell_type": "code",
   "execution_count": null,
   "id": "51af6c05",
   "metadata": {},
   "outputs": [],
   "source": [
    "mask.shape"
   ]
  },
  {
   "cell_type": "markdown",
   "id": "e2ce161f",
   "metadata": {},
   "source": [
    "## mask灰度图标注含义"
   ]
  },
  {
   "cell_type": "code",
   "execution_count": null,
   "id": "43114d28",
   "metadata": {},
   "outputs": [],
   "source": [
    "# mask 语义分割标注，与原图大小相同\n",
    "np.unique(mask)"
   ]
  },
  {
   "cell_type": "markdown",
   "id": "3ca4532c",
   "metadata": {},
   "source": [
    "| 类别编号 | 类别名称   |\n",
    "| -------- | ---------- |\n",
    "| 0        | Land       |\n",
    "| 1        | Road       |\n",
    "| 2        | Building   |\n",
    "| 3        | Vegetation |\n",
    "| 4        | Water      |\n",
    "| 5        | Unlabeled  |"
   ]
  },
  {
   "cell_type": "code",
   "execution_count": null,
   "id": "75286adf",
   "metadata": {},
   "outputs": [],
   "source": [
    "# 可视化语义分割标注\n",
    "plt.imshow(mask[:,:,0])\n",
    "plt.show()"
   ]
  },
  {
   "cell_type": "markdown",
   "id": "8ddfb111",
   "metadata": {},
   "source": [
    "## 叠加在原图上显示"
   ]
  },
  {
   "cell_type": "code",
   "execution_count": null,
   "id": "eb2761b5",
   "metadata": {},
   "outputs": [],
   "source": [
    "plt.imshow(img[:,:,::-1])\n",
    "plt.imshow(mask[:,:,0], alpha=0.4) # alpha 高亮区域透明度，越小越接近原图\n",
    "plt.axis('off')\n",
    "plt.show()"
   ]
  },
  {
   "cell_type": "markdown",
   "id": "3697a127",
   "metadata": {},
   "source": [
    "## 批量可视化图像和标注"
   ]
  },
  {
   "cell_type": "code",
   "execution_count": null,
   "id": "302d1fc9",
   "metadata": {},
   "outputs": [],
   "source": [
    "# 指定图像和标注路径\n",
    "PATH_IMAGE = 'data/Watermelon87_Semantic_Seg_Mask/img_dir/train'\n",
    "PATH_MASKS = 'data/Watermelon87_Semantic_Seg_Mask/ann_dir/train'"
   ]
  },
  {
   "cell_type": "code",
   "execution_count": null,
   "id": "8731557b",
   "metadata": {},
   "outputs": [],
   "source": [
    "# n行n列可视化\n",
    "n = 5\n",
    "\n",
    "# 标注区域透明度\n",
    "opacity = 0.5\n",
    "\n",
    "fig, axes = plt.subplots(nrows=n, ncols=n, sharex=True, figsize=(12,12))\n",
    "\n",
    "for i, file_name in enumerate(os.listdir(PATH_IMAGE)[:n**2]):\n",
    "    \n",
    "    # 载入图像和标注\n",
    "    img_path = os.path.join(PATH_IMAGE, file_name)\n",
    "    mask_path = os.path.join(PATH_MASKS, file_name.split('.')[0]+'.png')\n",
    "    img = cv2.imread(img_path)\n",
    "    mask = cv2.imread(mask_path)\n",
    "    \n",
    "    # 可视化\n",
    "    axes[i//n, i%n].imshow(img)\n",
    "    axes[i//n, i%n].imshow(mask[:,:,0], alpha=opacity)\n",
    "    axes[i//n, i%n].axis('off') # 关闭坐标轴显示\n",
    "fig.suptitle('Image and Semantic Label', fontsize=30)\n",
    "plt.tight_layout()\n",
    "plt.show()"
   ]
  },
  {
   "cell_type": "markdown",
   "id": "fec461ee",
   "metadata": {},
   "source": [
    "## 定义数据集类"
   ]
  },
  {
   "cell_type": "code",
   "execution_count": null,
   "id": "54915315",
   "metadata": {},
   "outputs": [],
   "source": [
    "!wget https://zihao-openmmlab.obs.cn-east-3.myhuaweicloud.com/20230130-mmseg/Dubai/DubaiDataset.py -O mmseg/datasets/watermemlon.py"
   ]
  },
  {
   "cell_type": "markdown",
   "id": "0a6d806f",
   "metadata": {},
   "source": [
    "## 注册数据集类"
   ]
  },
  {
   "cell_type": "code",
   "execution_count": null,
   "id": "d476799f",
   "metadata": {},
   "outputs": [],
   "source": [
    "!rm -rf mmseg/datasets/__init__.py\n",
    "!wget https://zihao-openmmlab.obs.cn-east-3.myhuaweicloud.com/20230130-mmseg/Dubai/__init__.py -P mmseg/datasets"
   ]
  },
  {
   "cell_type": "markdown",
   "id": "3c1dd870",
   "metadata": {},
   "source": [
    "## 定义训练及测试pipeline`"
   ]
  },
  {
   "cell_type": "code",
   "execution_count": null,
   "id": "10bfb653",
   "metadata": {},
   "outputs": [],
   "source": [
    "!wget https://zihao-openmmlab.obs.cn-east-3.myhuaweicloud.com/20230130-mmseg/Dubai/DubaiDataset_pipeline.py -O configs/_base_/datasets/WaterMemlon_pipeline.py"
   ]
  },
  {
   "cell_type": "markdown",
   "id": "f5520994",
   "metadata": {},
   "source": [
    "## 下载config"
   ]
  },
  {
   "cell_type": "code",
   "execution_count": null,
   "id": "c5e84aff",
   "metadata": {},
   "outputs": [],
   "source": [
    "!wget https://zihao-openmmlab.obs.cn-east-3.myhuaweicloud.com/20230130-mmseg/Dubai/pspnet_r50-d8_4xb2-40k_DubaiDataset.py -O configs/pspnet/pspnet_r50-d8_4xb2-40k_WaterMemlon.py"
   ]
  },
  {
   "cell_type": "markdown",
   "id": "ac9d565c",
   "metadata": {},
   "source": [
    "## 载入Config"
   ]
  },
  {
   "cell_type": "code",
   "execution_count": null,
   "id": "7282f479",
   "metadata": {},
   "outputs": [],
   "source": [
    "from mmengine import Config\n",
    "cfg = Config.fromfile('./configs/pspnet/pspnet_r50-d8_4xb2-40k_WaterMemlon.py')"
   ]
  },
  {
   "cell_type": "markdown",
   "id": "dd1daef0",
   "metadata": {},
   "source": [
    "## 修改config配置文件"
   ]
  },
  {
   "cell_type": "code",
   "execution_count": null,
   "id": "9991ab0b",
   "metadata": {
    "colab": {
     "base_uri": "https://localhost:8080/"
    },
    "id": "eyKnYC1Z7iCV",
    "outputId": "6195217b-187f-4675-994b-ba90d8bb3078"
   },
   "outputs": [],
   "source": [
    "cfg.norm_cfg = dict(type='BN', requires_grad=True) # 只使用GPU时，BN取代SyncBN\n",
    "cfg.crop_size = (256, 256)\n",
    "cfg.model.data_preprocessor.size = cfg.crop_size\n",
    "cfg.model.backbone.norm_cfg = cfg.norm_cfg\n",
    "cfg.model.decode_head.norm_cfg = cfg.norm_cfg\n",
    "cfg.model.auxiliary_head.norm_cfg = cfg.norm_cfg\n",
    "# modify num classes of the model in decode/auxiliary head\n",
    "\n",
    "# 模型 decode/auxiliary 输出头，指定为类别个数\n",
    "cfg.model.decode_head.num_classes = 6\n",
    "cfg.model.auxiliary_head.num_classes = 6\n",
    "\n",
    "cfg.train_dataloader.batch_size = 8\n",
    "\n",
    "cfg.test_dataloader = cfg.val_dataloader\n",
    "\n",
    "# 结果保存目录\n",
    "cfg.work_dir = './work_dirs/WaterMemlon.py'\n",
    "\n",
    "# 训练迭代次数\n",
    "cfg.train_cfg.max_iters = 3000\n",
    "# 评估模型间隔\n",
    "cfg.train_cfg.val_interval = 400\n",
    "# 日志记录间隔\n",
    "cfg.default_hooks.logger.interval = 100\n",
    "# 模型权重保存间隔\n",
    "cfg.default_hooks.checkpoint.interval = 1500\n",
    "\n",
    "# 随机数种子\n",
    "cfg['randomness'] = dict(seed=0)"
   ]
  },
  {
   "cell_type": "markdown",
   "id": "c31b4fcd",
   "metadata": {},
   "source": [
    "## 查看完整config配置文件"
   ]
  },
  {
   "cell_type": "code",
   "execution_count": null,
   "id": "232f3c4f",
   "metadata": {},
   "outputs": [],
   "source": [
    "# print(cfg.pretty_text)"
   ]
  },
  {
   "cell_type": "markdown",
   "id": "8c6b1126",
   "metadata": {},
   "source": [
    "## 保存config配置文件"
   ]
  },
  {
   "cell_type": "code",
   "execution_count": null,
   "id": "04c96819",
   "metadata": {},
   "outputs": [],
   "source": [
    "cfg.dump('configs/pspnet/pspnet-WaterMemlon_20230615.py')"
   ]
  },
  {
   "cell_type": "markdown",
   "id": "5e58622a",
   "metadata": {},
   "source": [
    "## 载入训练配置文件`"
   ]
  },
  {
   "cell_type": "code",
   "execution_count": null,
   "id": "251484c3",
   "metadata": {
    "id": "Wwnj9tRzqX_A"
   },
   "outputs": [],
   "source": [
    "from mmengine import Config\n",
    "cfg = Config.fromfile('configs/pspnet/pspnet-WaterMemlon_20230615.py')"
   ]
  },
  {
   "cell_type": "markdown",
   "id": "8d6423b1",
   "metadata": {
    "id": "QWuH14LYF2gQ"
   },
   "source": [
    "## 准备训练"
   ]
  },
  {
   "cell_type": "code",
   "execution_count": null,
   "id": "09083b3a",
   "metadata": {
    "colab": {
     "base_uri": "https://localhost:8080/"
    },
    "id": "jYKoSfdMF12B",
    "outputId": "422219ca-d7a5-4890-f09f-88c959942e64",
    "tags": []
   },
   "outputs": [],
   "source": [
    "from mmengine.runner import Runner\n",
    "from mmseg.utils import register_all_modules\n",
    "\n",
    "# register all modules in mmseg into the registries\n",
    "# do not init the default scope here because it will be init in the runner\n",
    "register_all_modules(init_default_scope=False)\n",
    "runner = Runner.from_cfg(cfg)"
   ]
  },
  {
   "cell_type": "markdown",
   "id": "123e1a5f",
   "metadata": {},
   "source": [
    "## 开始训练\n",
    "\n",
    "如果遇到报错`CUDA out of memeory`，可尝试以下步骤：\n",
    "\n",
    "1. 调小 batch size\n",
    "\n",
    "2. 左上角`内核-关闭所有内核`\n",
    "\n",
    "3. 重启实例，或者使用显存更高的实例即可。"
   ]
  },
  {
   "cell_type": "code",
   "execution_count": null,
   "id": "60643882",
   "metadata": {},
   "outputs": [],
   "source": [
    "runner.train()"
   ]
  },
  {
   "cell_type": "markdown",
   "id": "6f65fc7b",
   "metadata": {},
   "source": [
    "## 查看python目录"
   ]
  },
  {
   "cell_type": "code",
   "execution_count": null,
   "id": "88ee0a9d",
   "metadata": {},
   "outputs": [],
   "source": [
    "import sys\n",
    "print(sys.path)"
   ]
  },
  {
   "cell_type": "markdown",
   "id": "92892653",
   "metadata": {},
   "source": [
    "## 设置Matplotlib中文字体"
   ]
  },
  {
   "cell_type": "code",
   "execution_count": 1,
   "id": "a817c96e",
   "metadata": {},
   "outputs": [
    {
     "name": "stdout",
     "output_type": "stream",
     "text": [
      "--2023-06-17 14:54:02--  https://zihao-openmmlab.obs.cn-east-3.myhuaweicloud.com/20220716-mmclassification/dataset/SimHei.ttf\n",
      "Resolving zihao-openmmlab.obs.cn-east-3.myhuaweicloud.com (zihao-openmmlab.obs.cn-east-3.myhuaweicloud.com)... 121.36.235.132\n",
      "Connecting to zihao-openmmlab.obs.cn-east-3.myhuaweicloud.com (zihao-openmmlab.obs.cn-east-3.myhuaweicloud.com)|121.36.235.132|:443... connected.\n",
      "HTTP request sent, awaiting response... 200 OK\n",
      "Length: 10050868 (9.6M) [application/x-font-ttf]\n",
      "Saving to: ‘/opt/conda/lib/python3.7/site-packages/matplotlib/mpl-data/fonts/ttf/SimHei.ttf’\n",
      "\n",
      "/opt/conda/lib/pyth 100%[===================>]   9.58M  24.2MB/s    in 0.4s    \n",
      "\n",
      "2023-06-17 14:54:03 (24.2 MB/s) - ‘/opt/conda/lib/python3.7/site-packages/matplotlib/mpl-data/fonts/ttf/SimHei.ttf’ saved [10050868/10050868]\n",
      "\n"
     ]
    }
   ],
   "source": [
    "!wget https://zihao-openmmlab.obs.cn-east-3.myhuaweicloud.com/20220716-mmclassification/dataset/SimHei.ttf -O /opt/conda/lib/python3.7/site-packages/matplotlib/mpl-data/fonts/ttf/SimHei.ttf\n",
    "!rm -rf /root/.cache/matplotlib\n",
    "\n",
    "import matplotlib \n",
    "import matplotlib.pyplot as plt\n",
    "matplotlib.rc(\"font\",family='SimHei') # 中文字体"
   ]
  },
  {
   "cell_type": "code",
   "execution_count": 2,
   "id": "b9bf4b55",
   "metadata": {},
   "outputs": [
    {
     "data": {
      "image/png": "[encoded data removed]",
      "text/plain": [
       "<Figure size 432x288 with 1 Axes>"
      ]
     },
     "metadata": {
      "needs_background": "light"
     },
     "output_type": "display_data"
    }
   ],
   "source": [
    "plt.plot([1,2,3], [100,500,300])\n",
    "plt.title('matplotlib中文字体测试', fontsize=25)\n",
    "plt.xlabel('X轴', fontsize=15)\n",
    "plt.ylabel('Y轴', fontsize=15)\n",
    "plt.show()"
   ]
  },
  {
   "cell_type": "markdown",
   "id": "a4d0c75f",
   "metadata": {},
   "source": [
    "## 载入训练日志"
   ]
  },
  {
   "cell_type": "code",
   "execution_count": 3,
   "id": "0d2a75d7",
   "metadata": {},
   "outputs": [],
   "source": [
    "# 日志文件路径\n",
    "log_path = 'work_dirs/WaterMemlon.py/20230617_142233/vis_data/scalars.json' #需要更改为实际路径"
   ]
  },
  {
   "cell_type": "code",
   "execution_count": 4,
   "id": "420c98ac",
   "metadata": {},
   "outputs": [],
   "source": [
    "with open(log_path, \"r\") as f:\n",
    "    json_list = f.readlines()"
   ]
  },
  {
   "cell_type": "code",
   "execution_count": 5,
   "id": "3ffd525e",
   "metadata": {},
   "outputs": [
    {
     "data": {
      "text/plain": [
       "38"
      ]
     },
     "execution_count": 5,
     "metadata": {},
     "output_type": "execute_result"
    }
   ],
   "source": [
    "len(json_list)"
   ]
  },
  {
   "cell_type": "code",
   "execution_count": 6,
   "id": "3455f432",
   "metadata": {},
   "outputs": [
    {
     "data": {
      "text/plain": [
       "{'lr': 0.009911076035273796,\n",
       " 'data_time': 0.0062235832214355465,\n",
       " 'loss': 0.0629101924598217,\n",
       " 'decode.loss_ce': 0.044754755310714246,\n",
       " 'decode.acc_seg': 87.078857421875,\n",
       " 'aux.loss_ce': 0.018155436776578427,\n",
       " 'aux.acc_seg': 82.8643798828125,\n",
       " 'time': 0.5854336261749268,\n",
       " 'memory': 3614,\n",
       " 'step': 400}"
      ]
     },
     "execution_count": 6,
     "metadata": {},
     "output_type": "execute_result"
    }
   ],
   "source": [
    "eval(json_list[4])"
   ]
  },
  {
   "cell_type": "code",
   "execution_count": 10,
   "id": "e7cd3c7e",
   "metadata": {},
   "outputs": [],
   "source": [
    "df_train = pd.DataFrame()\n",
    "df_test = pd.DataFrame()\n",
    "for each in json_list[:-1]:\n",
    "    if 'aAcc' in each:\n",
    "        df_test = df_test.append(eval(each), ignore_index=True)\n",
    "    else:\n",
    "        df_train = df_train.append(eval(each), ignore_index=True)"
   ]
  },
  {
   "cell_type": "code",
   "execution_count": 11,
   "id": "cfcf7472",
   "metadata": {},
   "outputs": [
    {
     "data": {
      "text/html": [
       "<div>\n",
       "<style scoped>\n",
       "    .dataframe tbody tr th:only-of-type {\n",
       "        vertical-align: middle;\n",
       "    }\n",
       "\n",
       "    .dataframe tbody tr th {\n",
       "        vertical-align: top;\n",
       "    }\n",
       "\n",
       "    .dataframe thead th {\n",
       "        text-align: right;\n",
       "    }\n",
       "</style>\n",
       "<table border=\"1\" class=\"dataframe\">\n",
       "  <thead>\n",
       "    <tr style=\"text-align: right;\">\n",
       "      <th></th>\n",
       "      <th>lr</th>\n",
       "      <th>data_time</th>\n",
       "      <th>loss</th>\n",
       "      <th>decode.loss_ce</th>\n",
       "      <th>decode.acc_seg</th>\n",
       "      <th>aux.loss_ce</th>\n",
       "      <th>aux.acc_seg</th>\n",
       "      <th>time</th>\n",
       "      <th>memory</th>\n",
       "      <th>step</th>\n",
       "    </tr>\n",
       "  </thead>\n",
       "  <tbody>\n",
       "    <tr>\n",
       "      <th>0</th>\n",
       "      <td>0.009999</td>\n",
       "      <td>0.049834</td>\n",
       "      <td>0.147681</td>\n",
       "      <td>0.103367</td>\n",
       "      <td>33.187866</td>\n",
       "      <td>0.044314</td>\n",
       "      <td>23.461914</td>\n",
       "      <td>1.425799</td>\n",
       "      <td>6130.0</td>\n",
       "      <td>6.0</td>\n",
       "    </tr>\n",
       "    <tr>\n",
       "      <th>1</th>\n",
       "      <td>0.009978</td>\n",
       "      <td>0.006455</td>\n",
       "      <td>0.067354</td>\n",
       "      <td>0.045771</td>\n",
       "      <td>80.651855</td>\n",
       "      <td>0.021583</td>\n",
       "      <td>83.132935</td>\n",
       "      <td>0.581496</td>\n",
       "      <td>3614.0</td>\n",
       "      <td>100.0</td>\n",
       "    </tr>\n",
       "    <tr>\n",
       "      <th>2</th>\n",
       "      <td>0.009956</td>\n",
       "      <td>0.006144</td>\n",
       "      <td>0.074516</td>\n",
       "      <td>0.052314</td>\n",
       "      <td>84.338379</td>\n",
       "      <td>0.022201</td>\n",
       "      <td>67.199707</td>\n",
       "      <td>0.582712</td>\n",
       "      <td>3614.0</td>\n",
       "      <td>200.0</td>\n",
       "    </tr>\n",
       "    <tr>\n",
       "      <th>3</th>\n",
       "      <td>0.009933</td>\n",
       "      <td>0.006703</td>\n",
       "      <td>0.054795</td>\n",
       "      <td>0.038385</td>\n",
       "      <td>83.389282</td>\n",
       "      <td>0.016410</td>\n",
       "      <td>77.926636</td>\n",
       "      <td>0.584389</td>\n",
       "      <td>3614.0</td>\n",
       "      <td>300.0</td>\n",
       "    </tr>\n",
       "    <tr>\n",
       "      <th>4</th>\n",
       "      <td>0.009911</td>\n",
       "      <td>0.006224</td>\n",
       "      <td>0.062910</td>\n",
       "      <td>0.044755</td>\n",
       "      <td>87.078857</td>\n",
       "      <td>0.018155</td>\n",
       "      <td>82.864380</td>\n",
       "      <td>0.585434</td>\n",
       "      <td>3614.0</td>\n",
       "      <td>400.0</td>\n",
       "    </tr>\n",
       "    <tr>\n",
       "      <th>5</th>\n",
       "      <td>0.009889</td>\n",
       "      <td>0.005829</td>\n",
       "      <td>0.052689</td>\n",
       "      <td>0.037809</td>\n",
       "      <td>72.668457</td>\n",
       "      <td>0.014880</td>\n",
       "      <td>70.614624</td>\n",
       "      <td>0.583577</td>\n",
       "      <td>5330.0</td>\n",
       "      <td>500.0</td>\n",
       "    </tr>\n",
       "    <tr>\n",
       "      <th>6</th>\n",
       "      <td>0.009866</td>\n",
       "      <td>0.006274</td>\n",
       "      <td>0.054007</td>\n",
       "      <td>0.038717</td>\n",
       "      <td>82.006836</td>\n",
       "      <td>0.015290</td>\n",
       "      <td>85.751343</td>\n",
       "      <td>0.584092</td>\n",
       "      <td>3614.0</td>\n",
       "      <td>600.0</td>\n",
       "    </tr>\n",
       "    <tr>\n",
       "      <th>7</th>\n",
       "      <td>0.009844</td>\n",
       "      <td>0.005902</td>\n",
       "      <td>0.041565</td>\n",
       "      <td>0.029165</td>\n",
       "      <td>89.489746</td>\n",
       "      <td>0.012400</td>\n",
       "      <td>91.165161</td>\n",
       "      <td>0.583757</td>\n",
       "      <td>3614.0</td>\n",
       "      <td>700.0</td>\n",
       "    </tr>\n",
       "    <tr>\n",
       "      <th>8</th>\n",
       "      <td>0.009822</td>\n",
       "      <td>0.006290</td>\n",
       "      <td>0.039904</td>\n",
       "      <td>0.027766</td>\n",
       "      <td>83.065796</td>\n",
       "      <td>0.012138</td>\n",
       "      <td>83.554077</td>\n",
       "      <td>0.583456</td>\n",
       "      <td>3614.0</td>\n",
       "      <td>800.0</td>\n",
       "    </tr>\n",
       "    <tr>\n",
       "      <th>9</th>\n",
       "      <td>0.009800</td>\n",
       "      <td>0.006186</td>\n",
       "      <td>0.041545</td>\n",
       "      <td>0.028945</td>\n",
       "      <td>89.233398</td>\n",
       "      <td>0.012600</td>\n",
       "      <td>87.475586</td>\n",
       "      <td>0.583913</td>\n",
       "      <td>3614.0</td>\n",
       "      <td>900.0</td>\n",
       "    </tr>\n",
       "    <tr>\n",
       "      <th>10</th>\n",
       "      <td>0.009777</td>\n",
       "      <td>0.005683</td>\n",
       "      <td>0.047682</td>\n",
       "      <td>0.033121</td>\n",
       "      <td>75.180054</td>\n",
       "      <td>0.014560</td>\n",
       "      <td>74.624634</td>\n",
       "      <td>0.582750</td>\n",
       "      <td>3614.0</td>\n",
       "      <td>1000.0</td>\n",
       "    </tr>\n",
       "    <tr>\n",
       "      <th>11</th>\n",
       "      <td>0.009755</td>\n",
       "      <td>0.005787</td>\n",
       "      <td>0.038262</td>\n",
       "      <td>0.027069</td>\n",
       "      <td>95.123291</td>\n",
       "      <td>0.011193</td>\n",
       "      <td>91.668701</td>\n",
       "      <td>0.583156</td>\n",
       "      <td>3614.0</td>\n",
       "      <td>1100.0</td>\n",
       "    </tr>\n",
       "    <tr>\n",
       "      <th>12</th>\n",
       "      <td>0.009733</td>\n",
       "      <td>0.006189</td>\n",
       "      <td>0.043305</td>\n",
       "      <td>0.029437</td>\n",
       "      <td>88.513184</td>\n",
       "      <td>0.013868</td>\n",
       "      <td>87.689209</td>\n",
       "      <td>0.584188</td>\n",
       "      <td>3614.0</td>\n",
       "      <td>1200.0</td>\n",
       "    </tr>\n",
       "    <tr>\n",
       "      <th>13</th>\n",
       "      <td>0.009710</td>\n",
       "      <td>0.006132</td>\n",
       "      <td>0.037925</td>\n",
       "      <td>0.026923</td>\n",
       "      <td>71.582031</td>\n",
       "      <td>0.011002</td>\n",
       "      <td>71.133423</td>\n",
       "      <td>0.584881</td>\n",
       "      <td>3614.0</td>\n",
       "      <td>1300.0</td>\n",
       "    </tr>\n",
       "    <tr>\n",
       "      <th>14</th>\n",
       "      <td>0.009688</td>\n",
       "      <td>0.005823</td>\n",
       "      <td>0.042561</td>\n",
       "      <td>0.030438</td>\n",
       "      <td>71.200562</td>\n",
       "      <td>0.012123</td>\n",
       "      <td>71.133423</td>\n",
       "      <td>0.584329</td>\n",
       "      <td>3614.0</td>\n",
       "      <td>1400.0</td>\n",
       "    </tr>\n",
       "    <tr>\n",
       "      <th>15</th>\n",
       "      <td>0.009665</td>\n",
       "      <td>0.006094</td>\n",
       "      <td>0.055193</td>\n",
       "      <td>0.039249</td>\n",
       "      <td>66.778564</td>\n",
       "      <td>0.015944</td>\n",
       "      <td>64.404297</td>\n",
       "      <td>0.582224</td>\n",
       "      <td>3614.0</td>\n",
       "      <td>1500.0</td>\n",
       "    </tr>\n",
       "    <tr>\n",
       "      <th>16</th>\n",
       "      <td>0.009643</td>\n",
       "      <td>0.006340</td>\n",
       "      <td>0.042244</td>\n",
       "      <td>0.029319</td>\n",
       "      <td>84.313965</td>\n",
       "      <td>0.012925</td>\n",
       "      <td>84.759521</td>\n",
       "      <td>0.585840</td>\n",
       "      <td>3614.0</td>\n",
       "      <td>1600.0</td>\n",
       "    </tr>\n",
       "    <tr>\n",
       "      <th>17</th>\n",
       "      <td>0.009621</td>\n",
       "      <td>0.006105</td>\n",
       "      <td>0.048442</td>\n",
       "      <td>0.034565</td>\n",
       "      <td>73.345947</td>\n",
       "      <td>0.013878</td>\n",
       "      <td>75.128174</td>\n",
       "      <td>0.582967</td>\n",
       "      <td>3614.0</td>\n",
       "      <td>1700.0</td>\n",
       "    </tr>\n",
       "    <tr>\n",
       "      <th>18</th>\n",
       "      <td>0.009598</td>\n",
       "      <td>0.005994</td>\n",
       "      <td>0.038440</td>\n",
       "      <td>0.027106</td>\n",
       "      <td>84.216309</td>\n",
       "      <td>0.011334</td>\n",
       "      <td>82.910156</td>\n",
       "      <td>0.583390</td>\n",
       "      <td>3614.0</td>\n",
       "      <td>1800.0</td>\n",
       "    </tr>\n",
       "    <tr>\n",
       "      <th>19</th>\n",
       "      <td>0.009576</td>\n",
       "      <td>0.006208</td>\n",
       "      <td>0.034411</td>\n",
       "      <td>0.024277</td>\n",
       "      <td>87.274170</td>\n",
       "      <td>0.010134</td>\n",
       "      <td>88.629150</td>\n",
       "      <td>0.586076</td>\n",
       "      <td>3614.0</td>\n",
       "      <td>1900.0</td>\n",
       "    </tr>\n",
       "    <tr>\n",
       "      <th>20</th>\n",
       "      <td>0.009554</td>\n",
       "      <td>0.005683</td>\n",
       "      <td>0.035488</td>\n",
       "      <td>0.025022</td>\n",
       "      <td>79.312134</td>\n",
       "      <td>0.010465</td>\n",
       "      <td>77.703857</td>\n",
       "      <td>0.582631</td>\n",
       "      <td>3614.0</td>\n",
       "      <td>2000.0</td>\n",
       "    </tr>\n",
       "    <tr>\n",
       "      <th>21</th>\n",
       "      <td>0.009531</td>\n",
       "      <td>0.005673</td>\n",
       "      <td>0.037924</td>\n",
       "      <td>0.026691</td>\n",
       "      <td>81.457520</td>\n",
       "      <td>0.011233</td>\n",
       "      <td>83.520508</td>\n",
       "      <td>0.582292</td>\n",
       "      <td>3614.0</td>\n",
       "      <td>2100.0</td>\n",
       "    </tr>\n",
       "    <tr>\n",
       "      <th>22</th>\n",
       "      <td>0.009509</td>\n",
       "      <td>0.006131</td>\n",
       "      <td>0.041904</td>\n",
       "      <td>0.028756</td>\n",
       "      <td>95.181274</td>\n",
       "      <td>0.013148</td>\n",
       "      <td>95.010376</td>\n",
       "      <td>0.582761</td>\n",
       "      <td>3614.0</td>\n",
       "      <td>2200.0</td>\n",
       "    </tr>\n",
       "    <tr>\n",
       "      <th>23</th>\n",
       "      <td>0.009486</td>\n",
       "      <td>0.005966</td>\n",
       "      <td>0.041238</td>\n",
       "      <td>0.029618</td>\n",
       "      <td>91.238403</td>\n",
       "      <td>0.011619</td>\n",
       "      <td>91.726685</td>\n",
       "      <td>0.582517</td>\n",
       "      <td>3614.0</td>\n",
       "      <td>2300.0</td>\n",
       "    </tr>\n",
       "    <tr>\n",
       "      <th>24</th>\n",
       "      <td>0.009464</td>\n",
       "      <td>0.005897</td>\n",
       "      <td>0.032047</td>\n",
       "      <td>0.022400</td>\n",
       "      <td>90.371704</td>\n",
       "      <td>0.009647</td>\n",
       "      <td>92.352295</td>\n",
       "      <td>0.583125</td>\n",
       "      <td>3614.0</td>\n",
       "      <td>2400.0</td>\n",
       "    </tr>\n",
       "    <tr>\n",
       "      <th>25</th>\n",
       "      <td>0.009442</td>\n",
       "      <td>0.005769</td>\n",
       "      <td>0.039323</td>\n",
       "      <td>0.027648</td>\n",
       "      <td>83.761597</td>\n",
       "      <td>0.011676</td>\n",
       "      <td>81.378174</td>\n",
       "      <td>0.583740</td>\n",
       "      <td>3614.0</td>\n",
       "      <td>2500.0</td>\n",
       "    </tr>\n",
       "    <tr>\n",
       "      <th>26</th>\n",
       "      <td>0.009419</td>\n",
       "      <td>0.006166</td>\n",
       "      <td>0.040764</td>\n",
       "      <td>0.028183</td>\n",
       "      <td>89.694214</td>\n",
       "      <td>0.012581</td>\n",
       "      <td>89.428711</td>\n",
       "      <td>0.583217</td>\n",
       "      <td>3614.0</td>\n",
       "      <td>2600.0</td>\n",
       "    </tr>\n",
       "    <tr>\n",
       "      <th>27</th>\n",
       "      <td>0.009397</td>\n",
       "      <td>0.006162</td>\n",
       "      <td>0.038378</td>\n",
       "      <td>0.027702</td>\n",
       "      <td>85.507202</td>\n",
       "      <td>0.010676</td>\n",
       "      <td>85.162354</td>\n",
       "      <td>0.582340</td>\n",
       "      <td>3614.0</td>\n",
       "      <td>2700.0</td>\n",
       "    </tr>\n",
       "    <tr>\n",
       "      <th>28</th>\n",
       "      <td>0.009374</td>\n",
       "      <td>0.006188</td>\n",
       "      <td>0.032628</td>\n",
       "      <td>0.022532</td>\n",
       "      <td>80.474854</td>\n",
       "      <td>0.010096</td>\n",
       "      <td>83.291626</td>\n",
       "      <td>0.584270</td>\n",
       "      <td>3614.0</td>\n",
       "      <td>2800.0</td>\n",
       "    </tr>\n",
       "    <tr>\n",
       "      <th>29</th>\n",
       "      <td>0.009352</td>\n",
       "      <td>0.006167</td>\n",
       "      <td>0.043861</td>\n",
       "      <td>0.031181</td>\n",
       "      <td>78.036499</td>\n",
       "      <td>0.012680</td>\n",
       "      <td>81.753540</td>\n",
       "      <td>0.583466</td>\n",
       "      <td>3614.0</td>\n",
       "      <td>2900.0</td>\n",
       "    </tr>\n",
       "  </tbody>\n",
       "</table>\n",
       "</div>"
      ],
      "text/plain": [
       "          lr  data_time      loss  decode.loss_ce  decode.acc_seg  \\\n",
       "0   0.009999   0.049834  0.147681        0.103367       33.187866   \n",
       "1   0.009978   0.006455  0.067354        0.045771       80.651855   \n",
       "2   0.009956   0.006144  0.074516        0.052314       84.338379   \n",
       "3   0.009933   0.006703  0.054795        0.038385       83.389282   \n",
       "4   0.009911   0.006224  0.062910        0.044755       87.078857   \n",
       "5   0.009889   0.005829  0.052689        0.037809       72.668457   \n",
       "6   0.009866   0.006274  0.054007        0.038717       82.006836   \n",
       "7   0.009844   0.005902  0.041565        0.029165       89.489746   \n",
       "8   0.009822   0.006290  0.039904        0.027766       83.065796   \n",
       "9   0.009800   0.006186  0.041545        0.028945       89.233398   \n",
       "10  0.009777   0.005683  0.047682        0.033121       75.180054   \n",
       "11  0.009755   0.005787  0.038262        0.027069       95.123291   \n",
       "12  0.009733   0.006189  0.043305        0.029437       88.513184   \n",
       "13  0.009710   0.006132  0.037925        0.026923       71.582031   \n",
       "14  0.009688   0.005823  0.042561        0.030438       71.200562   \n",
       "15  0.009665   0.006094  0.055193        0.039249       66.778564   \n",
       "16  0.009643   0.006340  0.042244        0.029319       84.313965   \n",
       "17  0.009621   0.006105  0.048442        0.034565       73.345947   \n",
       "18  0.009598   0.005994  0.038440        0.027106       84.216309   \n",
       "19  0.009576   0.006208  0.034411        0.024277       87.274170   \n",
       "20  0.009554   0.005683  0.035488        0.025022       79.312134   \n",
       "21  0.009531   0.005673  0.037924        0.026691       81.457520   \n",
       "22  0.009509   0.006131  0.041904        0.028756       95.181274   \n",
       "23  0.009486   0.005966  0.041238        0.029618       91.238403   \n",
       "24  0.009464   0.005897  0.032047        0.022400       90.371704   \n",
       "25  0.009442   0.005769  0.039323        0.027648       83.761597   \n",
       "26  0.009419   0.006166  0.040764        0.028183       89.694214   \n",
       "27  0.009397   0.006162  0.038378        0.027702       85.507202   \n",
       "28  0.009374   0.006188  0.032628        0.022532       80.474854   \n",
       "29  0.009352   0.006167  0.043861        0.031181       78.036499   \n",
       "\n",
       "    aux.loss_ce  aux.acc_seg      time  memory    step  \n",
       "0      0.044314    23.461914  1.425799  6130.0     6.0  \n",
       "1      0.021583    83.132935  0.581496  3614.0   100.0  \n",
       "2      0.022201    67.199707  0.582712  3614.0   200.0  \n",
       "3      0.016410    77.926636  0.584389  3614.0   300.0  \n",
       "4      0.018155    82.864380  0.585434  3614.0   400.0  \n",
       "5      0.014880    70.614624  0.583577  5330.0   500.0  \n",
       "6      0.015290    85.751343  0.584092  3614.0   600.0  \n",
       "7      0.012400    91.165161  0.583757  3614.0   700.0  \n",
       "8      0.012138    83.554077  0.583456  3614.0   800.0  \n",
       "9      0.012600    87.475586  0.583913  3614.0   900.0  \n",
       "10     0.014560    74.624634  0.582750  3614.0  1000.0  \n",
       "11     0.011193    91.668701  0.583156  3614.0  1100.0  \n",
       "12     0.013868    87.689209  0.584188  3614.0  1200.0  \n",
       "13     0.011002    71.133423  0.584881  3614.0  1300.0  \n",
       "14     0.012123    71.133423  0.584329  3614.0  1400.0  \n",
       "15     0.015944    64.404297  0.582224  3614.0  1500.0  \n",
       "16     0.012925    84.759521  0.585840  3614.0  1600.0  \n",
       "17     0.013878    75.128174  0.582967  3614.0  1700.0  \n",
       "18     0.011334    82.910156  0.583390  3614.0  1800.0  \n",
       "19     0.010134    88.629150  0.586076  3614.0  1900.0  \n",
       "20     0.010465    77.703857  0.582631  3614.0  2000.0  \n",
       "21     0.011233    83.520508  0.582292  3614.0  2100.0  \n",
       "22     0.013148    95.010376  0.582761  3614.0  2200.0  \n",
       "23     0.011619    91.726685  0.582517  3614.0  2300.0  \n",
       "24     0.009647    92.352295  0.583125  3614.0  2400.0  \n",
       "25     0.011676    81.378174  0.583740  3614.0  2500.0  \n",
       "26     0.012581    89.428711  0.583217  3614.0  2600.0  \n",
       "27     0.010676    85.162354  0.582340  3614.0  2700.0  \n",
       "28     0.010096    83.291626  0.584270  3614.0  2800.0  \n",
       "29     0.012680    81.753540  0.583466  3614.0  2900.0  "
      ]
     },
     "execution_count": 11,
     "metadata": {},
     "output_type": "execute_result"
    }
   ],
   "source": [
    "df_train"
   ]
  },
  {
   "cell_type": "code",
   "execution_count": 12,
   "id": "c2cad912",
   "metadata": {},
   "outputs": [
    {
     "data": {
      "text/html": [
       "<div>\n",
       "<style scoped>\n",
       "    .dataframe tbody tr th:only-of-type {\n",
       "        vertical-align: middle;\n",
       "    }\n",
       "\n",
       "    .dataframe tbody tr th {\n",
       "        vertical-align: top;\n",
       "    }\n",
       "\n",
       "    .dataframe thead th {\n",
       "        text-align: right;\n",
       "    }\n",
       "</style>\n",
       "<table border=\"1\" class=\"dataframe\">\n",
       "  <thead>\n",
       "    <tr style=\"text-align: right;\">\n",
       "      <th></th>\n",
       "      <th>aAcc</th>\n",
       "      <th>mIoU</th>\n",
       "      <th>mAcc</th>\n",
       "      <th>data_time</th>\n",
       "      <th>time</th>\n",
       "      <th>step</th>\n",
       "    </tr>\n",
       "  </thead>\n",
       "  <tbody>\n",
       "    <tr>\n",
       "      <th>0</th>\n",
       "      <td>69.03</td>\n",
       "      <td>26.40</td>\n",
       "      <td>34.34</td>\n",
       "      <td>0.134210</td>\n",
       "      <td>1.786462</td>\n",
       "      <td>400.0</td>\n",
       "    </tr>\n",
       "    <tr>\n",
       "      <th>1</th>\n",
       "      <td>80.46</td>\n",
       "      <td>43.12</td>\n",
       "      <td>53.70</td>\n",
       "      <td>0.008483</td>\n",
       "      <td>0.435586</td>\n",
       "      <td>800.0</td>\n",
       "    </tr>\n",
       "    <tr>\n",
       "      <th>2</th>\n",
       "      <td>86.05</td>\n",
       "      <td>49.82</td>\n",
       "      <td>57.02</td>\n",
       "      <td>0.007200</td>\n",
       "      <td>0.434911</td>\n",
       "      <td>1200.0</td>\n",
       "    </tr>\n",
       "    <tr>\n",
       "      <th>3</th>\n",
       "      <td>85.99</td>\n",
       "      <td>48.27</td>\n",
       "      <td>57.60</td>\n",
       "      <td>0.007433</td>\n",
       "      <td>0.436786</td>\n",
       "      <td>1600.0</td>\n",
       "    </tr>\n",
       "    <tr>\n",
       "      <th>4</th>\n",
       "      <td>88.95</td>\n",
       "      <td>56.00</td>\n",
       "      <td>63.07</td>\n",
       "      <td>0.007645</td>\n",
       "      <td>0.432872</td>\n",
       "      <td>2000.0</td>\n",
       "    </tr>\n",
       "    <tr>\n",
       "      <th>5</th>\n",
       "      <td>87.92</td>\n",
       "      <td>52.87</td>\n",
       "      <td>59.12</td>\n",
       "      <td>0.008146</td>\n",
       "      <td>0.434670</td>\n",
       "      <td>2400.0</td>\n",
       "    </tr>\n",
       "    <tr>\n",
       "      <th>6</th>\n",
       "      <td>89.75</td>\n",
       "      <td>57.07</td>\n",
       "      <td>65.20</td>\n",
       "      <td>0.007398</td>\n",
       "      <td>0.436049</td>\n",
       "      <td>2800.0</td>\n",
       "    </tr>\n",
       "  </tbody>\n",
       "</table>\n",
       "</div>"
      ],
      "text/plain": [
       "    aAcc   mIoU   mAcc  data_time      time    step\n",
       "0  69.03  26.40  34.34   0.134210  1.786462   400.0\n",
       "1  80.46  43.12  53.70   0.008483  0.435586   800.0\n",
       "2  86.05  49.82  57.02   0.007200  0.434911  1200.0\n",
       "3  85.99  48.27  57.60   0.007433  0.436786  1600.0\n",
       "4  88.95  56.00  63.07   0.007645  0.432872  2000.0\n",
       "5  87.92  52.87  59.12   0.008146  0.434670  2400.0\n",
       "6  89.75  57.07  65.20   0.007398  0.436049  2800.0"
      ]
     },
     "execution_count": 12,
     "metadata": {},
     "output_type": "execute_result"
    }
   ],
   "source": [
    "df_test"
   ]
  },
  {
   "cell_type": "markdown",
   "id": "24755d78",
   "metadata": {},
   "source": [
    "## 导出训练日志表格"
   ]
  },
  {
   "cell_type": "code",
   "execution_count": null,
   "id": "8b6471fd",
   "metadata": {},
   "outputs": [],
   "source": [
    "df_train.to_csv('训练日志-训练集.csv', index=False)\n",
    "df_test.to_csv('训练日志-测试集.csv', index=False)"
   ]
  },
  {
   "cell_type": "markdown",
   "id": "5f0af376",
   "metadata": {},
   "source": [
    "## 可视化辅助函数"
   ]
  },
  {
   "cell_type": "code",
   "execution_count": 13,
   "id": "c59d7dc0",
   "metadata": {},
   "outputs": [],
   "source": [
    "from matplotlib import colors as mcolors\n",
    "import random\n",
    "random.seed(124)\n",
    "colors = ['b', 'g', 'r', 'c', 'm', 'y', 'k', 'tab:blue', 'tab:orange', 'tab:green', 'tab:red', 'tab:purple', 'tab:brown', 'tab:pink', 'tab:gray', 'tab:olive', 'tab:cyan', 'black', 'indianred', 'brown', 'firebrick', 'maroon', 'darkred', 'red', 'sienna', 'chocolate', 'yellow', 'olivedrab', 'yellowgreen', 'darkolivegreen', 'forestgreen', 'limegreen', 'darkgreen', 'green', 'lime', 'seagreen', 'mediumseagreen', 'darkslategray', 'darkslategrey', 'teal', 'darkcyan', 'dodgerblue', 'navy', 'darkblue', 'mediumblue', 'blue', 'slateblue', 'darkslateblue', 'mediumslateblue', 'mediumpurple', 'rebeccapurple', 'blueviolet', 'indigo', 'darkorchid', 'darkviolet', 'mediumorchid', 'purple', 'darkmagenta', 'fuchsia', 'magenta', 'orchid', 'mediumvioletred', 'deeppink', 'hotpink']\n",
    "markers = [\".\",\",\",\"o\",\"v\",\"^\",\"<\",\">\",\"1\",\"2\",\"3\",\"4\",\"8\",\"s\",\"p\",\"P\",\"*\",\"h\",\"H\",\"+\",\"x\",\"X\",\"D\",\"d\",\"|\",\"_\",0,1,2,3,4,5,6,7,8,9,10,11]\n",
    "linestyle = ['--', '-.', '-']\n",
    "\n",
    "def get_line_arg():\n",
    "    '''\n",
    "    随机产生一种绘图线型\n",
    "    '''\n",
    "    line_arg = {}\n",
    "    line_arg['color'] = random.choice(colors)\n",
    "    # line_arg['marker'] = random.choice(markers)\n",
    "    line_arg['linestyle'] = random.choice(linestyle)\n",
    "    line_arg['linewidth'] = random.randint(1, 4)\n",
    "    # line_arg['markersize'] = random.randint(3, 5)\n",
    "    return line_arg"
   ]
  },
  {
   "cell_type": "markdown",
   "id": "c4220eca",
   "metadata": {},
   "source": [
    "## 训练集损失函数"
   ]
  },
  {
   "cell_type": "code",
   "execution_count": 14,
   "id": "316e3192",
   "metadata": {},
   "outputs": [],
   "source": [
    "metrics = ['loss', 'decode.loss_ce', 'aux.loss_ce']"
   ]
  },
  {
   "cell_type": "code",
   "execution_count": 15,
   "id": "a2d1c371",
   "metadata": {},
   "outputs": [
    {
     "data": {
      "image/png": "[encoded data removed]",
      "text/plain": [
       "<Figure size 1152x576 with 1 Axes>"
      ]
     },
     "metadata": {
      "needs_background": "light"
     },
     "output_type": "display_data"
    }
   ],
   "source": [
    "plt.figure(figsize=(16, 8))\n",
    "\n",
    "x = df_train['step']\n",
    "for y in metrics:\n",
    "    plt.plot(x, df_train[y], label=y, **get_line_arg())\n",
    "\n",
    "plt.tick_params(labelsize=20)\n",
    "plt.xlabel('step', fontsize=20)\n",
    "plt.ylabel('loss', fontsize=20)\n",
    "plt.title('训练集损失函数', fontsize=25)\n",
    "plt.savefig('训练集损失函数.pdf', dpi=120, bbox_inches='tight')\n",
    "\n",
    "plt.legend(fontsize=20)\n",
    "\n",
    "plt.show()"
   ]
  },
  {
   "cell_type": "markdown",
   "id": "93b5b0b9",
   "metadata": {},
   "source": [
    "## 训练集准确率"
   ]
  },
  {
   "cell_type": "code",
   "execution_count": 16,
   "id": "1150103b",
   "metadata": {},
   "outputs": [
    {
     "data": {
      "text/plain": [
       "Index(['lr', 'data_time', 'loss', 'decode.loss_ce', 'decode.acc_seg',\n",
       "       'aux.loss_ce', 'aux.acc_seg', 'time', 'memory', 'step'],\n",
       "      dtype='object')"
      ]
     },
     "execution_count": 16,
     "metadata": {},
     "output_type": "execute_result"
    }
   ],
   "source": [
    "df_train.columns"
   ]
  },
  {
   "cell_type": "code",
   "execution_count": 17,
   "id": "d25779ba",
   "metadata": {},
   "outputs": [],
   "source": [
    "metrics = ['decode.acc_seg', 'aux.acc_seg']"
   ]
  },
  {
   "cell_type": "code",
   "execution_count": 18,
   "id": "d60bd91c",
   "metadata": {},
   "outputs": [
    {
     "data": {
      "image/png": "[encoded data removed]",
      "text/plain": [
       "<Figure size 1152x576 with 1 Axes>"
      ]
     },
     "metadata": {
      "needs_background": "light"
     },
     "output_type": "display_data"
    }
   ],
   "source": [
    "plt.figure(figsize=(16, 8))\n",
    "\n",
    "x = df_train['step']\n",
    "for y in metrics:\n",
    "    plt.plot(x, df_train[y], label=y, **get_line_arg())\n",
    "\n",
    "plt.tick_params(labelsize=20)\n",
    "plt.xlabel('step', fontsize=20)\n",
    "plt.ylabel('loss', fontsize=20)\n",
    "plt.title('训练集准确率', fontsize=25)\n",
    "plt.savefig('训练集准确率.pdf', dpi=120, bbox_inches='tight')\n",
    "\n",
    "plt.legend(fontsize=20)\n",
    "\n",
    "plt.show()"
   ]
  },
  {
   "cell_type": "markdown",
   "id": "6cdfe684",
   "metadata": {},
   "source": [
    "## 测试集评估指标"
   ]
  },
  {
   "cell_type": "code",
   "execution_count": 19,
   "id": "2006add5",
   "metadata": {},
   "outputs": [
    {
     "data": {
      "text/plain": [
       "Index(['aAcc', 'mIoU', 'mAcc', 'data_time', 'time', 'step'], dtype='object')"
      ]
     },
     "execution_count": 19,
     "metadata": {},
     "output_type": "execute_result"
    }
   ],
   "source": [
    "df_test.columns"
   ]
  },
  {
   "cell_type": "code",
   "execution_count": 20,
   "id": "e82b7430",
   "metadata": {},
   "outputs": [],
   "source": [
    "metrics = ['aAcc', 'mIoU', 'mAcc']"
   ]
  },
  {
   "cell_type": "code",
   "execution_count": 21,
   "id": "4f7abdf1",
   "metadata": {},
   "outputs": [
    {
     "data": {
      "image/png": "[encoded data removed]",
      "text/plain": [
       "<Figure size 1152x576 with 1 Axes>"
      ]
     },
     "metadata": {
      "needs_background": "light"
     },
     "output_type": "display_data"
    }
   ],
   "source": [
    "plt.figure(figsize=(16, 8))\n",
    "\n",
    "x = df_test['step']\n",
    "for y in metrics:\n",
    "    plt.plot(x, df_test[y], label=y, **get_line_arg())\n",
    "\n",
    "plt.tick_params(labelsize=20)\n",
    "plt.ylim([0, 100])\n",
    "plt.xlabel('step', fontsize=20)\n",
    "plt.ylabel(y, fontsize=20)\n",
    "plt.title('测试集评估指标', fontsize=25)\n",
    "plt.savefig('测试集分类评估指标.pdf', dpi=120, bbox_inches='tight')\n",
    "\n",
    "plt.legend(fontsize=20)\n",
    "\n",
    "plt.show()"
   ]
  },
  {
   "cell_type": "markdown",
   "id": "b93eef5d",
   "metadata": {},
   "source": [
    "## 载入配置文件"
   ]
  },
  {
   "cell_type": "code",
   "execution_count": 22,
   "id": "0cb502bf",
   "metadata": {
    "tags": []
   },
   "outputs": [],
   "source": [
    "# 载入 config 配置文件\n",
    "from mmengine import Config\n",
    "cfg = Config.fromfile('configs/pspnet/pspnet-DubaiDataset_20230612.py')"
   ]
  },
  {
   "cell_type": "code",
   "execution_count": 23,
   "id": "dc974790",
   "metadata": {},
   "outputs": [
    {
     "name": "stdout",
     "output_type": "stream",
     "text": [
      "06/17 14:55:23 - mmengine - INFO - \n",
      "------------------------------------------------------------\n",
      "System environment:\n",
      "    sys.platform: linux\n",
      "    Python: 3.7.10 (default, Feb 26 2021, 18:47:35) [GCC 7.3.0]\n",
      "    CUDA available: True\n",
      "    numpy_random_seed: 0\n",
      "    GPU 0: Tesla T4\n",
      "    CUDA_HOME: /usr/local/cuda\n",
      "    NVCC: Cuda compilation tools, release 10.2, V10.2.8\n",
      "    GCC: gcc (Ubuntu 7.5.0-3ubuntu1~18.04) 7.5.0\n",
      "    PyTorch: 1.13.1+cu117\n",
      "    PyTorch compiling details: PyTorch built with:\n",
      "  - GCC 9.3\n",
      "  - C++ Version: 201402\n",
      "  - Intel(R) oneAPI Math Kernel Library Version 2021.2-Product Build 20210312 for Intel(R) 64 architecture applications\n",
      "  - Intel(R) MKL-DNN v2.6.0 (Git Hash 52b5f107dd9cf10910aaa19cb47f3abf9b349815)\n",
      "  - OpenMP 201511 (a.k.a. OpenMP 4.5)\n",
      "  - LAPACK is enabled (usually provided by MKL)\n",
      "  - NNPACK is enabled\n",
      "  - CPU capability usage: AVX2\n",
      "  - CUDA Runtime 11.7\n",
      "  - NVCC architecture flags: -gencode;arch=compute_37,code=sm_37;-gencode;arch=compute_50,code=sm_50;-gencode;arch=compute_60,code=sm_60;-gencode;arch=compute_70,code=sm_70;-gencode;arch=compute_75,code=sm_75;-gencode;arch=compute_80,code=sm_80;-gencode;arch=compute_86,code=sm_86\n",
      "  - CuDNN 8.5\n",
      "  - Magma 2.6.1\n",
      "  - Build settings: BLAS_INFO=mkl, BUILD_TYPE=Release, CUDA_VERSION=11.7, CUDNN_VERSION=8.5.0, CXX_COMPILER=/opt/rh/devtoolset-9/root/usr/bin/c++, CXX_FLAGS= -fabi-version=11 -Wno-deprecated -fvisibility-inlines-hidden -DUSE_PTHREADPOOL -fopenmp -DNDEBUG -DUSE_KINETO -DUSE_FBGEMM -DUSE_QNNPACK -DUSE_PYTORCH_QNNPACK -DUSE_XNNPACK -DSYMBOLICATE_MOBILE_DEBUG_HANDLE -DEDGE_PROFILER_USE_KINETO -O2 -fPIC -Wno-narrowing -Wall -Wextra -Werror=return-type -Werror=non-virtual-dtor -Wno-missing-field-initializers -Wno-type-limits -Wno-array-bounds -Wno-unknown-pragmas -Wunused-local-typedefs -Wno-unused-parameter -Wno-unused-function -Wno-unused-result -Wno-strict-overflow -Wno-strict-aliasing -Wno-error=deprecated-declarations -Wno-stringop-overflow -Wno-psabi -Wno-error=pedantic -Wno-error=redundant-decls -Wno-error=old-style-cast -fdiagnostics-color=always -faligned-new -Wno-unused-but-set-variable -Wno-maybe-uninitialized -fno-math-errno -fno-trapping-math -Werror=format -Werror=cast-function-type -Wno-stringop-overflow, LAPACK_INFO=mkl, PERF_WITH_AVX=1, PERF_WITH_AVX2=1, PERF_WITH_AVX512=1, TORCH_VERSION=1.13.1, USE_CUDA=ON, USE_CUDNN=ON, USE_EXCEPTION_PTR=1, USE_GFLAGS=OFF, USE_GLOG=OFF, USE_MKL=ON, USE_MKLDNN=ON, USE_MPI=OFF, USE_NCCL=ON, USE_NNPACK=ON, USE_OPENMP=ON, USE_ROCM=OFF, \n",
      "\n",
      "    TorchVision: 0.10.0\n",
      "    OpenCV: 4.7.0\n",
      "    MMEngine: 0.7.3\n",
      "\n",
      "Runtime environment:\n",
      "    cudnn_benchmark: True\n",
      "    mp_cfg: {'mp_start_method': 'fork', 'opencv_num_threads': 0}\n",
      "    dist_cfg: {'backend': 'nccl'}\n",
      "    seed: 0\n",
      "    Distributed launcher: none\n",
      "    Distributed training: False\n",
      "    GPU number: 1\n",
      "------------------------------------------------------------\n",
      "\n",
      "06/17 14:55:24 - mmengine - INFO - Config:\n",
      "norm_cfg = dict(type='BN', requires_grad=True)\n",
      "data_preprocessor = dict(\n",
      "    type='SegDataPreProcessor',\n",
      "    mean=[123.675, 116.28, 103.53],\n",
      "    std=[58.395, 57.12, 57.375],\n",
      "    bgr_to_rgb=True,\n",
      "    pad_val=0,\n",
      "    seg_pad_val=255,\n",
      "    size=(64, 64))\n",
      "model = dict(\n",
      "    type='EncoderDecoder',\n",
      "    data_preprocessor=dict(\n",
      "        type='SegDataPreProcessor',\n",
      "        mean=[123.675, 116.28, 103.53],\n",
      "        std=[58.395, 57.12, 57.375],\n",
      "        bgr_to_rgb=True,\n",
      "        pad_val=0,\n",
      "        seg_pad_val=255,\n",
      "        size=(256, 256)),\n",
      "    pretrained='open-mmlab://resnet50_v1c',\n",
      "    backbone=dict(\n",
      "        type='ResNetV1c',\n",
      "        depth=50,\n",
      "        num_stages=4,\n",
      "        out_indices=(0, 1, 2, 3),\n",
      "        dilations=(1, 1, 2, 4),\n",
      "        strides=(1, 2, 1, 1),\n",
      "        norm_cfg=dict(type='BN', requires_grad=True),\n",
      "        norm_eval=False,\n",
      "        style='pytorch',\n",
      "        contract_dilation=True),\n",
      "    decode_head=dict(\n",
      "        type='PSPHead',\n",
      "        in_channels=2048,\n",
      "        in_index=3,\n",
      "        channels=512,\n",
      "        pool_scales=(1, 2, 3, 6),\n",
      "        dropout_ratio=0.1,\n",
      "        num_classes=6,\n",
      "        norm_cfg=dict(type='BN', requires_grad=True),\n",
      "        align_corners=False,\n",
      "        loss_decode=dict(\n",
      "            type='CrossEntropyLoss', use_sigmoid=False, loss_weight=1.0)),\n",
      "    auxiliary_head=dict(\n",
      "        type='FCNHead',\n",
      "        in_channels=1024,\n",
      "        in_index=2,\n",
      "        channels=256,\n",
      "        num_convs=1,\n",
      "        concat_input=False,\n",
      "        dropout_ratio=0.1,\n",
      "        num_classes=6,\n",
      "        norm_cfg=dict(type='BN', requires_grad=True),\n",
      "        align_corners=False,\n",
      "        loss_decode=dict(\n",
      "            type='CrossEntropyLoss', use_sigmoid=False, loss_weight=0.4)),\n",
      "    train_cfg=dict(),\n",
      "    test_cfg=dict(mode='whole'))\n",
      "dataset_type = 'DubaiDataset'\n",
      "data_root = 'data/Dubai-dataset/'\n",
      "crop_size = (256, 256)\n",
      "train_pipeline = [\n",
      "    dict(type='LoadImageFromFile'),\n",
      "    dict(type='LoadAnnotations'),\n",
      "    dict(\n",
      "        type='RandomResize',\n",
      "        scale=(2048, 1024),\n",
      "        ratio_range=(0.5, 2.0),\n",
      "        keep_ratio=True),\n",
      "    dict(type='RandomCrop', crop_size=(64, 64), cat_max_ratio=0.75),\n",
      "    dict(type='RandomFlip', prob=0.5),\n",
      "    dict(type='PhotoMetricDistortion'),\n",
      "    dict(type='PackSegInputs')\n",
      "]\n",
      "test_pipeline = [\n",
      "    dict(type='LoadImageFromFile'),\n",
      "    dict(type='Resize', scale=(2048, 1024), keep_ratio=True),\n",
      "    dict(type='LoadAnnotations'),\n",
      "    dict(type='PackSegInputs')\n",
      "]\n",
      "img_ratios = [0.5, 0.75, 1.0, 1.25, 1.5, 1.75]\n",
      "tta_pipeline = [\n",
      "    dict(type='LoadImageFromFile', file_client_args=dict(backend='disk')),\n",
      "    dict(\n",
      "        type='TestTimeAug',\n",
      "        transforms=[[{\n",
      "            'type': 'Resize',\n",
      "            'scale_factor': 0.5,\n",
      "            'keep_ratio': True\n",
      "        }, {\n",
      "            'type': 'Resize',\n",
      "            'scale_factor': 0.75,\n",
      "            'keep_ratio': True\n",
      "        }, {\n",
      "            'type': 'Resize',\n",
      "            'scale_factor': 1.0,\n",
      "            'keep_ratio': True\n",
      "        }, {\n",
      "            'type': 'Resize',\n",
      "            'scale_factor': 1.25,\n",
      "            'keep_ratio': True\n",
      "        }, {\n",
      "            'type': 'Resize',\n",
      "            'scale_factor': 1.5,\n",
      "            'keep_ratio': True\n",
      "        }, {\n",
      "            'type': 'Resize',\n",
      "            'scale_factor': 1.75,\n",
      "            'keep_ratio': True\n",
      "        }],\n",
      "                    [{\n",
      "                        'type': 'RandomFlip',\n",
      "                        'prob': 0.0,\n",
      "                        'direction': 'horizontal'\n",
      "                    }, {\n",
      "                        'type': 'RandomFlip',\n",
      "                        'prob': 1.0,\n",
      "                        'direction': 'horizontal'\n",
      "                    }], [{\n",
      "                        'type': 'LoadAnnotations'\n",
      "                    }], [{\n",
      "                        'type': 'PackSegInputs'\n",
      "                    }]])\n",
      "]\n",
      "train_dataloader = dict(\n",
      "    batch_size=8,\n",
      "    num_workers=2,\n",
      "    persistent_workers=True,\n",
      "    sampler=dict(type='InfiniteSampler', shuffle=True),\n",
      "    dataset=dict(\n",
      "        type='DubaiDataset',\n",
      "        data_root='data/Dubai-dataset/',\n",
      "        data_prefix=dict(\n",
      "            img_path='img_dir/train', seg_map_path='ann_dir/train'),\n",
      "        pipeline=[\n",
      "            dict(type='LoadImageFromFile'),\n",
      "            dict(type='LoadAnnotations'),\n",
      "            dict(\n",
      "                type='RandomResize',\n",
      "                scale=(2048, 1024),\n",
      "                ratio_range=(0.5, 2.0),\n",
      "                keep_ratio=True),\n",
      "            dict(type='RandomCrop', crop_size=(64, 64), cat_max_ratio=0.75),\n",
      "            dict(type='RandomFlip', prob=0.5),\n",
      "            dict(type='PhotoMetricDistortion'),\n",
      "            dict(type='PackSegInputs')\n",
      "        ]))\n",
      "val_dataloader = dict(\n",
      "    batch_size=1,\n",
      "    num_workers=4,\n",
      "    persistent_workers=True,\n",
      "    sampler=dict(type='DefaultSampler', shuffle=False),\n",
      "    dataset=dict(\n",
      "        type='DubaiDataset',\n",
      "        data_root='data/Dubai-dataset/',\n",
      "        data_prefix=dict(img_path='img_dir/val', seg_map_path='ann_dir/val'),\n",
      "        pipeline=[\n",
      "            dict(type='LoadImageFromFile'),\n",
      "            dict(type='Resize', scale=(2048, 1024), keep_ratio=True),\n",
      "            dict(type='LoadAnnotations'),\n",
      "            dict(type='PackSegInputs')\n",
      "        ]))\n",
      "test_dataloader = dict(\n",
      "    batch_size=1,\n",
      "    num_workers=4,\n",
      "    persistent_workers=True,\n",
      "    sampler=dict(type='DefaultSampler', shuffle=False),\n",
      "    dataset=dict(\n",
      "        type='DubaiDataset',\n",
      "        data_root='data/Dubai-dataset/',\n",
      "        data_prefix=dict(img_path='img_dir/val', seg_map_path='ann_dir/val'),\n",
      "        pipeline=[\n",
      "            dict(type='LoadImageFromFile'),\n",
      "            dict(type='Resize', scale=(2048, 1024), keep_ratio=True),\n",
      "            dict(type='LoadAnnotations'),\n",
      "            dict(type='PackSegInputs')\n",
      "        ]))\n",
      "val_evaluator = dict(type='IoUMetric', iou_metrics=['mIoU'])\n",
      "test_evaluator = dict(type='IoUMetric', iou_metrics=['mIoU'])\n",
      "default_scope = 'mmseg'\n",
      "env_cfg = dict(\n",
      "    cudnn_benchmark=True,\n",
      "    mp_cfg=dict(mp_start_method='fork', opencv_num_threads=0),\n",
      "    dist_cfg=dict(backend='nccl'))\n",
      "vis_backends = [dict(type='LocalVisBackend')]\n",
      "visualizer = dict(\n",
      "    type='SegLocalVisualizer',\n",
      "    vis_backends=[dict(type='LocalVisBackend')],\n",
      "    name='visualizer')\n",
      "log_processor = dict(by_epoch=False)\n",
      "log_level = 'INFO'\n",
      "load_from = None\n",
      "resume = False\n",
      "tta_model = dict(type='SegTTAModel')\n",
      "optimizer = dict(type='SGD', lr=0.01, momentum=0.9, weight_decay=0.0005)\n",
      "optim_wrapper = dict(\n",
      "    type='OptimWrapper',\n",
      "    optimizer=dict(type='SGD', lr=0.01, momentum=0.9, weight_decay=0.0005),\n",
      "    clip_grad=None)\n",
      "param_scheduler = [\n",
      "    dict(\n",
      "        type='PolyLR',\n",
      "        eta_min=0.0001,\n",
      "        power=0.9,\n",
      "        begin=0,\n",
      "        end=40000,\n",
      "        by_epoch=False)\n",
      "]\n",
      "train_cfg = dict(type='IterBasedTrainLoop', max_iters=3000, val_interval=400)\n",
      "val_cfg = dict(type='ValLoop')\n",
      "test_cfg = dict(type='TestLoop')\n",
      "default_hooks = dict(\n",
      "    timer=dict(type='IterTimerHook'),\n",
      "    logger=dict(type='LoggerHook', interval=100, log_metric_by_epoch=False),\n",
      "    param_scheduler=dict(type='ParamSchedulerHook'),\n",
      "    checkpoint=dict(type='CheckpointHook', by_epoch=False, interval=1500),\n",
      "    sampler_seed=dict(type='DistSamplerSeedHook'),\n",
      "    visualization=dict(type='SegVisualizationHook'))\n",
      "work_dir = './work_dirs/DubaiDataset'\n",
      "randomness = dict(seed=0)\n",
      "\n"
     ]
    },
    {
     "name": "stderr",
     "output_type": "stream",
     "text": [
      "/code/temp/mmsegmentation/mmseg/models/backbones/resnet.py:431: UserWarning: DeprecationWarning: pretrained is a deprecated, please use \"init_cfg\" instead\n",
      "  warnings.warn('DeprecationWarning: pretrained is a deprecated, '\n",
      "/code/temp/mmsegmentation/mmseg/models/builder.py:36: UserWarning: ``build_loss`` would be deprecated soon, please use ``mmseg.registry.MODELS.build()`` \n",
      "  warnings.warn('``build_loss`` would be deprecated soon, please use '\n",
      "/code/temp/mmsegmentation/mmseg/models/losses/cross_entropy_loss.py:236: UserWarning: Default ``avg_non_ignore`` is False, if you would like to ignore the certain label and average loss over non-ignore labels, which is the same with PyTorch official cross_entropy, set ``avg_non_ignore=True``.\n",
      "  'Default ``avg_non_ignore`` is False, if you would like to '\n"
     ]
    },
    {
     "name": "stdout",
     "output_type": "stream",
     "text": [
      "06/17 14:55:26 - mmengine - INFO - Distributed training is not used, all SyncBatchNorm (SyncBN) layers in the model will be automatically reverted to BatchNormXd layers if they are used.\n",
      "06/17 14:55:26 - mmengine - INFO - Hooks will be executed in the following order:\n",
      "before_run:\n",
      "(VERY_HIGH   ) RuntimeInfoHook                    \n",
      "(BELOW_NORMAL) LoggerHook                         \n",
      " -------------------- \n",
      "before_train:\n",
      "(VERY_HIGH   ) RuntimeInfoHook                    \n",
      "(NORMAL      ) IterTimerHook                      \n",
      "(VERY_LOW    ) CheckpointHook                     \n",
      " -------------------- \n",
      "before_train_epoch:\n",
      "(VERY_HIGH   ) RuntimeInfoHook                    \n",
      "(NORMAL      ) IterTimerHook                      \n",
      "(NORMAL      ) DistSamplerSeedHook                \n",
      " -------------------- \n",
      "before_train_iter:\n",
      "(VERY_HIGH   ) RuntimeInfoHook                    \n",
      "(NORMAL      ) IterTimerHook                      \n",
      " -------------------- \n",
      "after_train_iter:\n",
      "(VERY_HIGH   ) RuntimeInfoHook                    \n",
      "(NORMAL      ) IterTimerHook                      \n",
      "(NORMAL      ) SegVisualizationHook               \n",
      "(BELOW_NORMAL) LoggerHook                         \n",
      "(LOW         ) ParamSchedulerHook                 \n",
      "(VERY_LOW    ) CheckpointHook                     \n",
      " -------------------- \n",
      "after_train_epoch:\n",
      "(NORMAL      ) IterTimerHook                      \n",
      "(LOW         ) ParamSchedulerHook                 \n",
      "(VERY_LOW    ) CheckpointHook                     \n",
      " -------------------- \n",
      "before_val_epoch:\n",
      "(NORMAL      ) IterTimerHook                      \n",
      " -------------------- \n",
      "before_val_iter:\n",
      "(NORMAL      ) IterTimerHook                      \n",
      " -------------------- \n",
      "after_val_iter:\n",
      "(NORMAL      ) IterTimerHook                      \n",
      "(NORMAL      ) SegVisualizationHook               \n",
      "(BELOW_NORMAL) LoggerHook                         \n",
      " -------------------- \n",
      "after_val_epoch:\n",
      "(VERY_HIGH   ) RuntimeInfoHook                    \n",
      "(NORMAL      ) IterTimerHook                      \n",
      "(BELOW_NORMAL) LoggerHook                         \n",
      "(LOW         ) ParamSchedulerHook                 \n",
      "(VERY_LOW    ) CheckpointHook                     \n",
      " -------------------- \n",
      "after_train:\n",
      "(VERY_LOW    ) CheckpointHook                     \n",
      " -------------------- \n",
      "before_test_epoch:\n",
      "(NORMAL      ) IterTimerHook                      \n",
      " -------------------- \n",
      "before_test_iter:\n",
      "(NORMAL      ) IterTimerHook                      \n",
      " -------------------- \n",
      "after_test_iter:\n",
      "(NORMAL      ) IterTimerHook                      \n",
      "(NORMAL      ) SegVisualizationHook               \n",
      "(BELOW_NORMAL) LoggerHook                         \n",
      " -------------------- \n",
      "after_test_epoch:\n",
      "(VERY_HIGH   ) RuntimeInfoHook                    \n",
      "(NORMAL      ) IterTimerHook                      \n",
      "(BELOW_NORMAL) LoggerHook                         \n",
      " -------------------- \n",
      "after_run:\n",
      "(BELOW_NORMAL) LoggerHook                         \n",
      " -------------------- \n"
     ]
    },
    {
     "name": "stderr",
     "output_type": "stream",
     "text": [
      "/code/temp/mmsegmentation/mmseg/engine/hooks/visualization_hook.py:61: UserWarning: The draw is False, it means that the hook for visualization will not take effect. The results will NOT be visualized or stored.\n",
      "  warnings.warn('The draw is False, it means that the '\n"
     ]
    }
   ],
   "source": [
    "from mmengine.runner import Runner\n",
    "from mmseg.utils import register_all_modules\n",
    "\n",
    "# register all modules in mmseg into the registries\n",
    "# do not init the default scope here because it will be init in the runner\n",
    "\n",
    "register_all_modules(init_default_scope=False)\n",
    "runner = Runner.from_cfg(cfg)"
   ]
  },
  {
   "cell_type": "markdown",
   "id": "4b098dc1",
   "metadata": {},
   "source": [
    "## 载入模型"
   ]
  },
  {
   "cell_type": "code",
   "execution_count": 24,
   "id": "c647baed",
   "metadata": {},
   "outputs": [
    {
     "name": "stdout",
     "output_type": "stream",
     "text": [
      "Loads checkpoint by local backend from path: ./work_dirs/WaterMemlon.py/iter_3000.pth\n"
     ]
    }
   ],
   "source": [
    "checkpoint_path = './work_dirs/WaterMemlon.py/iter_3000.pth'\n",
    "model = init_model(cfg, checkpoint_path, 'cuda:0')"
   ]
  },
  {
   "cell_type": "markdown",
   "id": "f7f2c202",
   "metadata": {},
   "source": [
    "## 载入测试集图像，或新图像"
   ]
  },
  {
   "cell_type": "code",
   "execution_count": 25,
   "id": "0d0a6be6",
   "metadata": {},
   "outputs": [],
   "source": [
    "img = mmcv.imread('data/watermelon.jpg')"
   ]
  },
  {
   "cell_type": "markdown",
   "id": "54157114",
   "metadata": {},
   "source": [
    "## 语义分割预测"
   ]
  },
  {
   "cell_type": "code",
   "execution_count": 26,
   "id": "d088091f",
   "metadata": {},
   "outputs": [],
   "source": [
    "result = inference_model(model, img)"
   ]
  },
  {
   "cell_type": "code",
   "execution_count": 27,
   "id": "6a3ce49d",
   "metadata": {},
   "outputs": [
    {
     "data": {
      "text/plain": [
       "['pred_sem_seg', 'seg_logits']"
      ]
     },
     "execution_count": 27,
     "metadata": {},
     "output_type": "execute_result"
    }
   ],
   "source": [
    "result.keys()"
   ]
  },
  {
   "cell_type": "code",
   "execution_count": 28,
   "id": "936fda3d",
   "metadata": {},
   "outputs": [],
   "source": [
    "pred_mask = result.pred_sem_seg.data[0].cpu().numpy()"
   ]
  },
  {
   "cell_type": "code",
   "execution_count": 29,
   "id": "2f66222a",
   "metadata": {},
   "outputs": [
    {
     "data": {
      "text/plain": [
       "(800, 1200)"
      ]
     },
     "execution_count": 29,
     "metadata": {},
     "output_type": "execute_result"
    }
   ],
   "source": [
    "pred_mask.shape"
   ]
  },
  {
   "cell_type": "code",
   "execution_count": 30,
   "id": "3432b41d",
   "metadata": {},
   "outputs": [
    {
     "data": {
      "text/plain": [
       "array([0, 1, 2, 3, 4])"
      ]
     },
     "execution_count": 30,
     "metadata": {},
     "output_type": "execute_result"
    }
   ],
   "source": [
    "np.unique(pred_mask)"
   ]
  },
  {
   "cell_type": "markdown",
   "id": "40ea4249",
   "metadata": {},
   "source": [
    "## 可视化语义分割预测结果"
   ]
  },
  {
   "cell_type": "code",
   "execution_count": 31,
   "id": "1280fd21",
   "metadata": {},
   "outputs": [
    {
     "data": {
      "image/png": "[encoded data removed]",
      "text/plain": [
       "<Figure size 432x288 with 1 Axes>"
      ]
     },
     "metadata": {
      "needs_background": "light"
     },
     "output_type": "display_data"
    }
   ],
   "source": [
    "plt.imshow(pred_mask)\n",
    "plt.show()"
   ]
  },
  {
   "cell_type": "code",
   "execution_count": 32,
   "id": "b3657efb",
   "metadata": {},
   "outputs": [
    {
     "name": "stdout",
     "output_type": "stream",
     "text": [
      "06/17 14:56:29 - mmengine - WARNING - `Visualizer` backend is not initialized because save_dir is None.\n"
     ]
    },
    {
     "data": {
      "image/png": "[encoded data removed]",
      "text/plain": [
       "<Figure size 432x288 with 1 Axes>"
      ]
     },
     "metadata": {
      "needs_background": "light"
     },
     "output_type": "display_data"
    }
   ],
   "source": [
    "# 可视化预测结果\n",
    "visualization = show_result_pyplot(model, img, result, opacity=0.7, out_file='pred.jpg')\n",
    "plt.imshow(mmcv.bgr2rgb(visualization))\n",
    "plt.show()"
   ]
  },
  {
   "cell_type": "markdown",
   "id": "45b8532b",
   "metadata": {},
   "source": [
    "## 获取测试集标注"
   ]
  },
  {
   "cell_type": "code",
   "execution_count": 33,
   "id": "6ec3f175",
   "metadata": {},
   "outputs": [],
   "source": [
    "label = mmcv.imread('data/Watermelon87_Semantic_Seg_Mask/ann_dir/val/R.png')"
   ]
  },
  {
   "cell_type": "code",
   "execution_count": 34,
   "id": "de0cf6cb",
   "metadata": {},
   "outputs": [
    {
     "data": {
      "text/plain": [
       "(1333, 2000, 3)"
      ]
     },
     "execution_count": 34,
     "metadata": {},
     "output_type": "execute_result"
    }
   ],
   "source": [
    "label.shape"
   ]
  },
  {
   "cell_type": "markdown",
   "id": "94f5a4e9",
   "metadata": {},
   "source": [
    "三个通道全部一样，只取一个通道作为标注即可。"
   ]
  },
  {
   "cell_type": "code",
   "execution_count": 35,
   "id": "29f45888",
   "metadata": {},
   "outputs": [],
   "source": [
    "label_mask = label[:,:,0]"
   ]
  },
  {
   "cell_type": "code",
   "execution_count": 36,
   "id": "51c98f8d",
   "metadata": {},
   "outputs": [
    {
     "data": {
      "text/plain": [
       "(1333, 2000)"
      ]
     },
     "execution_count": 36,
     "metadata": {},
     "output_type": "execute_result"
    }
   ],
   "source": [
    "label_mask.shape"
   ]
  },
  {
   "cell_type": "code",
   "execution_count": 37,
   "id": "2c5517ed",
   "metadata": {},
   "outputs": [
    {
     "data": {
      "text/plain": [
       "array([0, 1, 2, 3, 4, 5], dtype=uint8)"
      ]
     },
     "execution_count": 37,
     "metadata": {},
     "output_type": "execute_result"
    }
   ],
   "source": [
    "np.unique(label_mask)"
   ]
  },
  {
   "cell_type": "code",
   "execution_count": 38,
   "id": "e6f4f50e",
   "metadata": {},
   "outputs": [
    {
     "data": {
      "image/png": "[encoded data removed]",
      "text/plain": [
       "<Figure size 432x288 with 1 Axes>"
      ]
     },
     "metadata": {
      "needs_background": "light"
     },
     "output_type": "display_data"
    }
   ],
   "source": [
    "plt.imshow(label_mask)\n",
    "plt.show()"
   ]
  },
  {
   "cell_type": "markdown",
   "id": "268161e3",
   "metadata": {},
   "source": [
    "## 对比测试集标注和语义分割预测结果"
   ]
  },
  {
   "cell_type": "code",
   "execution_count": 39,
   "id": "02d70bb0",
   "metadata": {},
   "outputs": [
    {
     "data": {
      "text/plain": [
       "(1333, 2000)"
      ]
     },
     "execution_count": 39,
     "metadata": {},
     "output_type": "execute_result"
    }
   ],
   "source": [
    "# 测试集标注\n",
    "label_mask.shape"
   ]
  },
  {
   "cell_type": "code",
   "execution_count": 40,
   "id": "8c47cb2a",
   "metadata": {},
   "outputs": [
    {
     "data": {
      "text/plain": [
       "(800, 1200)"
      ]
     },
     "execution_count": 40,
     "metadata": {},
     "output_type": "execute_result"
    }
   ],
   "source": [
    "# 语义分割预测结果\n",
    "pred_mask.shape"
   ]
  },
  {
   "cell_type": "code",
   "execution_count": null,
   "id": "df331ad3",
   "metadata": {},
   "outputs": [],
   "source": [
    "# 真实为前景，预测为前景\n",
    "TP = (label_mask == 1) & (pred_mask==1)"
   ]
  },
  {
   "cell_type": "code",
   "execution_count": null,
   "id": "d8518def",
   "metadata": {},
   "outputs": [],
   "source": [
    "# 真实为背景，预测为背景\n",
    "TN = (label_mask == 0) & (pred_mask==0)"
   ]
  },
  {
   "cell_type": "code",
   "execution_count": null,
   "id": "f02cd04f",
   "metadata": {},
   "outputs": [],
   "source": [
    "# 真实为前景，预测为背景\n",
    "FN = (label_mask == 1) & (pred_mask==0)"
   ]
  },
  {
   "cell_type": "code",
   "execution_count": null,
   "id": "8970fb7b",
   "metadata": {},
   "outputs": [],
   "source": [
    "# 真实为背景，预测为前景\n",
    "FP = (label_mask == 0) & (pred_mask==1)"
   ]
  },
  {
   "cell_type": "code",
   "execution_count": null,
   "id": "5a69e33f",
   "metadata": {},
   "outputs": [],
   "source": [
    "plt.imshow(TP)\n",
    "plt.show()"
   ]
  },
  {
   "cell_type": "code",
   "execution_count": null,
   "id": "06f50d97",
   "metadata": {},
   "outputs": [],
   "source": [
    "confusion_map = TP * 255 + FP * 150 + FN * 80 + TN * 30"
   ]
  },
  {
   "cell_type": "code",
   "execution_count": null,
   "id": "d329fa7b",
   "metadata": {},
   "outputs": [],
   "source": [
    "plt.imshow(confusion_map)\n",
    "plt.show()"
   ]
  },
  {
   "cell_type": "markdown",
   "id": "41d7d3a6",
   "metadata": {},
   "source": [
    "## 混淆矩阵"
   ]
  },
  {
   "cell_type": "code",
   "execution_count": null,
   "id": "117aa02a",
   "metadata": {},
   "outputs": [],
   "source": [
    "from sklearn.metrics import confusion_matrix"
   ]
  },
  {
   "cell_type": "code",
   "execution_count": null,
   "id": "ecec271a",
   "metadata": {},
   "outputs": [],
   "source": [
    "confusion_matrix_model = confusion_matrix(label_mask.flatten(), pred_mask.flatten())"
   ]
  },
  {
   "cell_type": "code",
   "execution_count": null,
   "id": "82789299",
   "metadata": {},
   "outputs": [],
   "source": [
    "confusion_matrix_model"
   ]
  },
  {
   "cell_type": "code",
   "execution_count": null,
   "id": "ffc07b52",
   "metadata": {},
   "outputs": [],
   "source": [
    "import itertools\n",
    "def cnf_matrix_plotter(cm, classes, cmap=plt.cm.Blues):\n",
    "    \"\"\"\n",
    "    传入混淆矩阵和标签名称列表，绘制混淆矩阵\n",
    "    \"\"\"\n",
    "    plt.figure(figsize=(10, 10))\n",
    "    \n",
    "    plt.imshow(cm, interpolation='nearest', cmap=cmap)\n",
    "    # plt.colorbar() # 色条\n",
    "    tick_marks = np.arange(len(classes))\n",
    "    \n",
    "    plt.title('Confusion Matrix', fontsize=30)\n",
    "    plt.xlabel('Pred', fontsize=25, c='r')\n",
    "    plt.ylabel('True', fontsize=25, c='r')\n",
    "    plt.tick_params(labelsize=16) # 设置类别文字大小\n",
    "    plt.xticks(tick_marks, classes, rotation=90) # 横轴文字旋转\n",
    "    plt.yticks(tick_marks, classes)\n",
    "    \n",
    "    # 写数字\n",
    "    threshold = cm.max() / 2.\n",
    "    for i, j in itertools.product(range(cm.shape[0]), range(cm.shape[1])):\n",
    "        plt.text(j, i, cm[i, j],\n",
    "                 horizontalalignment=\"center\",\n",
    "                 color=\"white\" if cm[i, j] > threshold else \"black\",\n",
    "                 fontsize=12)\n",
    "\n",
    "    plt.tight_layout()\n",
    "\n",
    "    plt.savefig('混淆矩阵.pdf', dpi=300) # 保存图像\n",
    "    plt.show()"
   ]
  },
  {
   "cell_type": "code",
   "execution_count": null,
   "id": "79374107",
   "metadata": {},
   "outputs": [],
   "source": [
    "classes = ['/', 'red', 'green', 'white', 'seed-black', 'white']"
   ]
  },
  {
   "cell_type": "code",
   "execution_count": null,
   "id": "596475f9",
   "metadata": {},
   "outputs": [],
   "source": [
    "cnf_matrix_plotter(confusion_matrix_model, classes, cmap='Blues')"
   ]
  },
  {
   "cell_type": "markdown",
   "id": "c9f889d5",
   "metadata": {},
   "source": [
    "Unlabeled类别，既无预测结果，也无标签，因此混淆矩阵中不显示。"
   ]
  },
  {
   "cell_type": "markdown",
   "id": "4e8b6d30",
   "metadata": {},
   "source": [
    "## 测试集精度指标"
   ]
  },
  {
   "cell_type": "code",
   "execution_count": 4,
   "id": "ea742aa6",
   "metadata": {},
   "outputs": [
    {
     "name": "stdout",
     "output_type": "stream",
     "text": [
      "06/17 15:17:42 - mmengine - \u001b[4m\u001b[97mINFO\u001b[0m - \n",
      "------------------------------------------------------------\n",
      "System environment:\n",
      "    sys.platform: linux\n",
      "    Python: 3.7.10 (default, Feb 26 2021, 18:47:35) [GCC 7.3.0]\n",
      "    CUDA available: True\n",
      "    numpy_random_seed: 0\n",
      "    GPU 0: Tesla T4\n",
      "    CUDA_HOME: /usr/local/cuda\n",
      "    NVCC: Cuda compilation tools, release 10.2, V10.2.8\n",
      "    GCC: gcc (Ubuntu 7.5.0-3ubuntu1~18.04) 7.5.0\n",
      "    PyTorch: 1.13.1+cu117\n",
      "    PyTorch compiling details: PyTorch built with:\n",
      "  - GCC 9.3\n",
      "  - C++ Version: 201402\n",
      "  - Intel(R) oneAPI Math Kernel Library Version 2021.2-Product Build 20210312 for Intel(R) 64 architecture applications\n",
      "  - Intel(R) MKL-DNN v2.6.0 (Git Hash 52b5f107dd9cf10910aaa19cb47f3abf9b349815)\n",
      "  - OpenMP 201511 (a.k.a. OpenMP 4.5)\n",
      "  - LAPACK is enabled (usually provided by MKL)\n",
      "  - NNPACK is enabled\n",
      "  - CPU capability usage: AVX2\n",
      "  - CUDA Runtime 11.7\n",
      "  - NVCC architecture flags: -gencode;arch=compute_37,code=sm_37;-gencode;arch=compute_50,code=sm_50;-gencode;arch=compute_60,code=sm_60;-gencode;arch=compute_70,code=sm_70;-gencode;arch=compute_75,code=sm_75;-gencode;arch=compute_80,code=sm_80;-gencode;arch=compute_86,code=sm_86\n",
      "  - CuDNN 8.5\n",
      "  - Magma 2.6.1\n",
      "  - Build settings: BLAS_INFO=mkl, BUILD_TYPE=Release, CUDA_VERSION=11.7, CUDNN_VERSION=8.5.0, CXX_COMPILER=/opt/rh/devtoolset-9/root/usr/bin/c++, CXX_FLAGS= -fabi-version=11 -Wno-deprecated -fvisibility-inlines-hidden -DUSE_PTHREADPOOL -fopenmp -DNDEBUG -DUSE_KINETO -DUSE_FBGEMM -DUSE_QNNPACK -DUSE_PYTORCH_QNNPACK -DUSE_XNNPACK -DSYMBOLICATE_MOBILE_DEBUG_HANDLE -DEDGE_PROFILER_USE_KINETO -O2 -fPIC -Wno-narrowing -Wall -Wextra -Werror=return-type -Werror=non-virtual-dtor -Wno-missing-field-initializers -Wno-type-limits -Wno-array-bounds -Wno-unknown-pragmas -Wunused-local-typedefs -Wno-unused-parameter -Wno-unused-function -Wno-unused-result -Wno-strict-overflow -Wno-strict-aliasing -Wno-error=deprecated-declarations -Wno-stringop-overflow -Wno-psabi -Wno-error=pedantic -Wno-error=redundant-decls -Wno-error=old-style-cast -fdiagnostics-color=always -faligned-new -Wno-unused-but-set-variable -Wno-maybe-uninitialized -fno-math-errno -fno-trapping-math -Werror=format -Werror=cast-function-type -Wno-stringop-overflow, LAPACK_INFO=mkl, PERF_WITH_AVX=1, PERF_WITH_AVX2=1, PERF_WITH_AVX512=1, TORCH_VERSION=1.13.1, USE_CUDA=ON, USE_CUDNN=ON, USE_EXCEPTION_PTR=1, USE_GFLAGS=OFF, USE_GLOG=OFF, USE_MKL=ON, USE_MKLDNN=ON, USE_MPI=OFF, USE_NCCL=ON, USE_NNPACK=ON, USE_OPENMP=ON, USE_ROCM=OFF, \n",
      "\n",
      "    TorchVision: 0.10.0\n",
      "    OpenCV: 4.7.0\n",
      "    MMEngine: 0.7.3\n",
      "\n",
      "Runtime environment:\n",
      "    cudnn_benchmark: True\n",
      "    mp_cfg: {'mp_start_method': 'fork', 'opencv_num_threads': 0}\n",
      "    dist_cfg: {'backend': 'nccl'}\n",
      "    seed: 0\n",
      "    Distributed launcher: none\n",
      "    Distributed training: False\n",
      "    GPU number: 1\n",
      "------------------------------------------------------------\n",
      "\n",
      "06/17 15:17:43 - mmengine - \u001b[4m\u001b[97mINFO\u001b[0m - Config:\n",
      "norm_cfg = dict(type='BN', requires_grad=True)\n",
      "data_preprocessor = dict(\n",
      "    type='SegDataPreProcessor',\n",
      "    mean=[123.675, 116.28, 103.53],\n",
      "    std=[58.395, 57.12, 57.375],\n",
      "    bgr_to_rgb=True,\n",
      "    pad_val=0,\n",
      "    seg_pad_val=255,\n",
      "    size=(64, 64))\n",
      "model = dict(\n",
      "    type='EncoderDecoder',\n",
      "    data_preprocessor=dict(\n",
      "        type='SegDataPreProcessor',\n",
      "        mean=[123.675, 116.28, 103.53],\n",
      "        std=[58.395, 57.12, 57.375],\n",
      "        bgr_to_rgb=True,\n",
      "        pad_val=0,\n",
      "        seg_pad_val=255,\n",
      "        size=(256, 256)),\n",
      "    pretrained='open-mmlab://resnet50_v1c',\n",
      "    backbone=dict(\n",
      "        type='ResNetV1c',\n",
      "        depth=50,\n",
      "        num_stages=4,\n",
      "        out_indices=(0, 1, 2, 3),\n",
      "        dilations=(1, 1, 2, 4),\n",
      "        strides=(1, 2, 1, 1),\n",
      "        norm_cfg=dict(type='BN', requires_grad=True),\n",
      "        norm_eval=False,\n",
      "        style='pytorch',\n",
      "        contract_dilation=True),\n",
      "    decode_head=dict(\n",
      "        type='PSPHead',\n",
      "        in_channels=2048,\n",
      "        in_index=3,\n",
      "        channels=512,\n",
      "        pool_scales=(1, 2, 3, 6),\n",
      "        dropout_ratio=0.1,\n",
      "        num_classes=6,\n",
      "        norm_cfg=dict(type='BN', requires_grad=True),\n",
      "        align_corners=False,\n",
      "        loss_decode=dict(\n",
      "            type='CrossEntropyLoss', use_sigmoid=False, loss_weight=1.0)),\n",
      "    auxiliary_head=dict(\n",
      "        type='FCNHead',\n",
      "        in_channels=1024,\n",
      "        in_index=2,\n",
      "        channels=256,\n",
      "        num_convs=1,\n",
      "        concat_input=False,\n",
      "        dropout_ratio=0.1,\n",
      "        num_classes=6,\n",
      "        norm_cfg=dict(type='BN', requires_grad=True),\n",
      "        align_corners=False,\n",
      "        loss_decode=dict(\n",
      "            type='CrossEntropyLoss', use_sigmoid=False, loss_weight=0.4)),\n",
      "    train_cfg=dict(),\n",
      "    test_cfg=dict(mode='whole'))\n",
      "dataset_type = 'WaterMemlon'\n",
      "data_root = 'data/Watermelon87_Semantic_Seg_Mask/'\n",
      "crop_size = (256, 256)\n",
      "train_pipeline = [\n",
      "    dict(type='LoadImageFromFile'),\n",
      "    dict(type='LoadAnnotations'),\n",
      "    dict(\n",
      "        type='RandomResize',\n",
      "        scale=(2048, 1024),\n",
      "        ratio_range=(0.5, 2.0),\n",
      "        keep_ratio=True),\n",
      "    dict(type='RandomCrop', crop_size=(64, 64), cat_max_ratio=0.75),\n",
      "    dict(type='RandomFlip', prob=0.5),\n",
      "    dict(type='PhotoMetricDistortion'),\n",
      "    dict(type='PackSegInputs')\n",
      "]\n",
      "test_pipeline = [\n",
      "    dict(type='LoadImageFromFile'),\n",
      "    dict(type='Resize', scale=(2048, 1024), keep_ratio=True),\n",
      "    dict(type='LoadAnnotations'),\n",
      "    dict(type='PackSegInputs')\n",
      "]\n",
      "img_ratios = [0.5, 0.75, 1.0, 1.25, 1.5, 1.75]\n",
      "tta_pipeline = [\n",
      "    dict(type='LoadImageFromFile', file_client_args=dict(backend='disk')),\n",
      "    dict(\n",
      "        type='TestTimeAug',\n",
      "        transforms=[[{\n",
      "            'type': 'Resize',\n",
      "            'scale_factor': 0.5,\n",
      "            'keep_ratio': True\n",
      "        }, {\n",
      "            'type': 'Resize',\n",
      "            'scale_factor': 0.75,\n",
      "            'keep_ratio': True\n",
      "        }, {\n",
      "            'type': 'Resize',\n",
      "            'scale_factor': 1.0,\n",
      "            'keep_ratio': True\n",
      "        }, {\n",
      "            'type': 'Resize',\n",
      "            'scale_factor': 1.25,\n",
      "            'keep_ratio': True\n",
      "        }, {\n",
      "            'type': 'Resize',\n",
      "            'scale_factor': 1.5,\n",
      "            'keep_ratio': True\n",
      "        }, {\n",
      "            'type': 'Resize',\n",
      "            'scale_factor': 1.75,\n",
      "            'keep_ratio': True\n",
      "        }],\n",
      "                    [{\n",
      "                        'type': 'RandomFlip',\n",
      "                        'prob': 0.0,\n",
      "                        'direction': 'horizontal'\n",
      "                    }, {\n",
      "                        'type': 'RandomFlip',\n",
      "                        'prob': 1.0,\n",
      "                        'direction': 'horizontal'\n",
      "                    }], [{\n",
      "                        'type': 'LoadAnnotations'\n",
      "                    }], [{\n",
      "                        'type': 'PackSegInputs'\n",
      "                    }]])\n",
      "]\n",
      "train_dataloader = dict(\n",
      "    batch_size=8,\n",
      "    num_workers=2,\n",
      "    persistent_workers=True,\n",
      "    sampler=dict(type='InfiniteSampler', shuffle=True),\n",
      "    dataset=dict(\n",
      "        type='WaterMemlon',\n",
      "        data_root='data/Watermelon87_Semantic_Seg_Mask/',\n",
      "        data_prefix=dict(\n",
      "            img_path='img_dir/train', seg_map_path='ann_dir/train'),\n",
      "        pipeline=[\n",
      "            dict(type='LoadImageFromFile'),\n",
      "            dict(type='LoadAnnotations'),\n",
      "            dict(\n",
      "                type='RandomResize',\n",
      "                scale=(2048, 1024),\n",
      "                ratio_range=(0.5, 2.0),\n",
      "                keep_ratio=True),\n",
      "            dict(type='RandomCrop', crop_size=(64, 64), cat_max_ratio=0.75),\n",
      "            dict(type='RandomFlip', prob=0.5),\n",
      "            dict(type='PhotoMetricDistortion'),\n",
      "            dict(type='PackSegInputs')\n",
      "        ]))\n",
      "val_dataloader = dict(\n",
      "    batch_size=1,\n",
      "    num_workers=4,\n",
      "    persistent_workers=True,\n",
      "    sampler=dict(type='DefaultSampler', shuffle=False),\n",
      "    dataset=dict(\n",
      "        type='WaterMemlon',\n",
      "        data_root='data/Watermelon87_Semantic_Seg_Mask/',\n",
      "        data_prefix=dict(img_path='img_dir/val', seg_map_path='ann_dir/val'),\n",
      "        pipeline=[\n",
      "            dict(type='LoadImageFromFile'),\n",
      "            dict(type='Resize', scale=(2048, 1024), keep_ratio=True),\n",
      "            dict(type='LoadAnnotations'),\n",
      "            dict(type='PackSegInputs')\n",
      "        ]))\n",
      "test_dataloader = dict(\n",
      "    batch_size=1,\n",
      "    num_workers=4,\n",
      "    persistent_workers=True,\n",
      "    sampler=dict(type='DefaultSampler', shuffle=False),\n",
      "    dataset=dict(\n",
      "        type='WaterMemlon',\n",
      "        data_root='data/Watermelon87_Semantic_Seg_Mask/',\n",
      "        data_prefix=dict(img_path='img_dir/val', seg_map_path='ann_dir/val'),\n",
      "        pipeline=[\n",
      "            dict(type='LoadImageFromFile'),\n",
      "            dict(type='Resize', scale=(2048, 1024), keep_ratio=True),\n",
      "            dict(type='LoadAnnotations'),\n",
      "            dict(type='PackSegInputs')\n",
      "        ]))\n",
      "val_evaluator = dict(type='IoUMetric', iou_metrics=['mIoU'])\n",
      "test_evaluator = dict(type='IoUMetric', iou_metrics=['mIoU'])\n",
      "default_scope = 'mmseg'\n",
      "env_cfg = dict(\n",
      "    cudnn_benchmark=True,\n",
      "    mp_cfg=dict(mp_start_method='fork', opencv_num_threads=0),\n",
      "    dist_cfg=dict(backend='nccl'))\n",
      "vis_backends = [dict(type='LocalVisBackend')]\n",
      "visualizer = dict(\n",
      "    type='SegLocalVisualizer',\n",
      "    vis_backends=[dict(type='LocalVisBackend')],\n",
      "    name='visualizer')\n",
      "log_processor = dict(by_epoch=False)\n",
      "log_level = 'INFO'\n",
      "load_from = 'work_dirs/WaterMemlon.py/iter_3000.pth'\n",
      "resume = False\n",
      "tta_model = dict(type='SegTTAModel')\n",
      "optimizer = dict(type='SGD', lr=0.01, momentum=0.9, weight_decay=0.0005)\n",
      "optim_wrapper = dict(\n",
      "    type='OptimWrapper',\n",
      "    optimizer=dict(type='SGD', lr=0.01, momentum=0.9, weight_decay=0.0005),\n",
      "    clip_grad=None)\n",
      "param_scheduler = [\n",
      "    dict(\n",
      "        type='PolyLR',\n",
      "        eta_min=0.0001,\n",
      "        power=0.9,\n",
      "        begin=0,\n",
      "        end=40000,\n",
      "        by_epoch=False)\n",
      "]\n",
      "train_cfg = dict(type='IterBasedTrainLoop', max_iters=3000, val_interval=400)\n",
      "val_cfg = dict(type='ValLoop')\n",
      "test_cfg = dict(type='TestLoop')\n",
      "default_hooks = dict(\n",
      "    timer=dict(type='IterTimerHook'),\n",
      "    logger=dict(type='LoggerHook', interval=100, log_metric_by_epoch=False),\n",
      "    param_scheduler=dict(type='ParamSchedulerHook'),\n",
      "    checkpoint=dict(type='CheckpointHook', by_epoch=False, interval=1500),\n",
      "    sampler_seed=dict(type='DistSamplerSeedHook'),\n",
      "    visualization=dict(type='SegVisualizationHook'))\n",
      "work_dir = './work_dirs/WaterMemlon.py'\n",
      "randomness = dict(seed=0)\n",
      "launcher = 'none'\n",
      "\n",
      "/code/mmsegmentation/mmseg/models/backbones/resnet.py:431: UserWarning: DeprecationWarning: pretrained is a deprecated, please use \"init_cfg\" instead\n",
      "  warnings.warn('DeprecationWarning: pretrained is a deprecated, '\n",
      "/code/mmsegmentation/mmseg/models/builder.py:36: UserWarning: ``build_loss`` would be deprecated soon, please use ``mmseg.registry.MODELS.build()`` \n",
      "  warnings.warn('``build_loss`` would be deprecated soon, please use '\n",
      "/code/mmsegmentation/mmseg/models/losses/cross_entropy_loss.py:236: UserWarning: Default ``avg_non_ignore`` is False, if you would like to ignore the certain label and average loss over non-ignore labels, which is the same with PyTorch official cross_entropy, set ``avg_non_ignore=True``.\n",
      "  'Default ``avg_non_ignore`` is False, if you would like to '\n",
      "06/17 15:17:46 - mmengine - \u001b[4m\u001b[97mINFO\u001b[0m - Distributed training is not used, all SyncBatchNorm (SyncBN) layers in the model will be automatically reverted to BatchNormXd layers if they are used.\n",
      "/code/mmsegmentation/mmseg/engine/hooks/visualization_hook.py:61: UserWarning: The draw is False, it means that the hook for visualization will not take effect. The results will NOT be visualized or stored.\n",
      "  warnings.warn('The draw is False, it means that the '\n",
      "06/17 15:17:46 - mmengine - \u001b[4m\u001b[97mINFO\u001b[0m - Hooks will be executed in the following order:\n",
      "before_run:\n",
      "(VERY_HIGH   ) RuntimeInfoHook                    \n",
      "(BELOW_NORMAL) LoggerHook                         \n",
      " -------------------- \n",
      "before_train:\n",
      "(VERY_HIGH   ) RuntimeInfoHook                    \n",
      "(NORMAL      ) IterTimerHook                      \n",
      "(VERY_LOW    ) CheckpointHook                     \n",
      " -------------------- \n",
      "before_train_epoch:\n",
      "(VERY_HIGH   ) RuntimeInfoHook                    \n",
      "(NORMAL      ) IterTimerHook                      \n",
      "(NORMAL      ) DistSamplerSeedHook                \n",
      " -------------------- \n",
      "before_train_iter:\n",
      "(VERY_HIGH   ) RuntimeInfoHook                    \n",
      "(NORMAL      ) IterTimerHook                      \n",
      " -------------------- \n",
      "after_train_iter:\n",
      "(VERY_HIGH   ) RuntimeInfoHook                    \n",
      "(NORMAL      ) IterTimerHook                      \n",
      "(NORMAL      ) SegVisualizationHook               \n",
      "(BELOW_NORMAL) LoggerHook                         \n",
      "(LOW         ) ParamSchedulerHook                 \n",
      "(VERY_LOW    ) CheckpointHook                     \n",
      " -------------------- \n",
      "after_train_epoch:\n",
      "(NORMAL      ) IterTimerHook                      \n",
      "(LOW         ) ParamSchedulerHook                 \n",
      "(VERY_LOW    ) CheckpointHook                     \n",
      " -------------------- \n",
      "before_val_epoch:\n",
      "(NORMAL      ) IterTimerHook                      \n",
      " -------------------- \n",
      "before_val_iter:\n",
      "(NORMAL      ) IterTimerHook                      \n",
      " -------------------- \n",
      "after_val_iter:\n",
      "(NORMAL      ) IterTimerHook                      \n",
      "(NORMAL      ) SegVisualizationHook               \n",
      "(BELOW_NORMAL) LoggerHook                         \n",
      " -------------------- \n",
      "after_val_epoch:\n",
      "(VERY_HIGH   ) RuntimeInfoHook                    \n",
      "(NORMAL      ) IterTimerHook                      \n",
      "(BELOW_NORMAL) LoggerHook                         \n",
      "(LOW         ) ParamSchedulerHook                 \n",
      "(VERY_LOW    ) CheckpointHook                     \n",
      " -------------------- \n",
      "after_train:\n",
      "(VERY_LOW    ) CheckpointHook                     \n",
      " -------------------- \n",
      "before_test_epoch:\n",
      "(NORMAL      ) IterTimerHook                      \n",
      " -------------------- \n",
      "before_test_iter:\n",
      "(NORMAL      ) IterTimerHook                      \n",
      " -------------------- \n",
      "after_test_iter:\n",
      "(NORMAL      ) IterTimerHook                      \n",
      "(NORMAL      ) SegVisualizationHook               \n",
      "(BELOW_NORMAL) LoggerHook                         \n",
      " -------------------- \n",
      "after_test_epoch:\n",
      "(VERY_HIGH   ) RuntimeInfoHook                    \n",
      "(NORMAL      ) IterTimerHook                      \n",
      "(BELOW_NORMAL) LoggerHook                         \n",
      " -------------------- \n",
      "after_run:\n",
      "(BELOW_NORMAL) LoggerHook                         \n",
      " -------------------- \n",
      "Traceback (most recent call last):\n",
      "  File \"/opt/conda/lib/python3.7/site-packages/mmengine/registry/build_functions.py\", line 122, in build_from_cfg\n",
      "    obj = obj_cls(**args)  # type: ignore\n",
      "  File \"/opt/conda/lib/python3.7/site-packages/mmengine/runner/loops.py\", line 410, in __init__\n",
      "    super().__init__(runner, dataloader)\n",
      "  File \"/opt/conda/lib/python3.7/site-packages/mmengine/runner/base_loop.py\", line 27, in __init__\n",
      "    dataloader, seed=runner.seed, diff_rank_seed=diff_rank_seed)\n",
      "  File \"/opt/conda/lib/python3.7/site-packages/mmengine/runner/runner.py\", line 1346, in build_dataloader\n",
      "    dataset = DATASETS.build(dataset_cfg)\n",
      "  File \"/opt/conda/lib/python3.7/site-packages/mmengine/registry/registry.py\", line 548, in build\n",
      "    return self.build_func(cfg, *args, **kwargs, registry=self)\n",
      "  File \"/opt/conda/lib/python3.7/site-packages/mmengine/registry/build_functions.py\", line 101, in build_from_cfg\n",
      "    f'{obj_type} is not in the {registry.name} registry. '\n",
      "KeyError: 'WaterMemlon is not in the dataset registry. Please check whether the value of `WaterMemlon` is correct or it was registered as expected. More details can be found at https://mmengine.readthedocs.io/en/latest/advanced_tutorials/config.html#import-the-custom-module'\n",
      "\n",
      "During handling of the above exception, another exception occurred:\n",
      "\n",
      "Traceback (most recent call last):\n",
      "  File \"tools/test.py\", line 125, in <module>\n",
      "    main()\n",
      "  File \"tools/test.py\", line 120, in main\n",
      "    runner.test()\n",
      "  File \"/opt/conda/lib/python3.7/site-packages/mmengine/runner/runner.py\", line 1760, in test\n",
      "    self._test_loop = self.build_test_loop(self._test_loop)  # type: ignore\n",
      "  File \"/opt/conda/lib/python3.7/site-packages/mmengine/runner/runner.py\", line 1568, in build_test_loop\n",
      "    evaluator=self._test_evaluator))\n",
      "  File \"/opt/conda/lib/python3.7/site-packages/mmengine/registry/registry.py\", line 548, in build\n",
      "    return self.build_func(cfg, *args, **kwargs, registry=self)\n",
      "  File \"/opt/conda/lib/python3.7/site-packages/mmengine/registry/build_functions.py\", line 145, in build_from_cfg\n",
      "    f'class `{obj_cls.__name__}` in '  # type: ignore\n",
      "KeyError: \"class `TestLoop` in mmengine/runner/loops.py: 'WaterMemlon is not in the dataset registry. Please check whether the value of `WaterMemlon` is correct or it was registered as expected. More details can be found at https://mmengine.readthedocs.io/en/latest/advanced_tutorials/config.html#import-the-custom-module'\"\n"
     ]
    }
   ],
   "source": [
    "!python tools/test.py configs/pspnet/pspnet-WaterMemlon_20230615.py work_dirs/WaterMemlon.py/iter_3000.pth"
   ]
  },
  {
   "cell_type": "markdown",
   "id": "bc0d8ff0",
   "metadata": {},
   "source": [
    "## 速度指标-FPS"
   ]
  },
  {
   "cell_type": "code",
   "execution_count": 5,
   "id": "6346ff8b",
   "metadata": {},
   "outputs": [
    {
     "name": "stdout",
     "output_type": "stream",
     "text": [
      "Run 1:\n",
      "Traceback (most recent call last):\n",
      "  File \"tools/analysis_tools/benchmark.py\", line 121, in <module>\n",
      "    main()\n",
      "  File \"tools/analysis_tools/benchmark.py\", line 61, in main\n",
      "    data_loader = Runner.build_dataloader(cfg.test_dataloader)\n",
      "  File \"/opt/conda/lib/python3.7/site-packages/mmengine/runner/runner.py\", line 1346, in build_dataloader\n",
      "    dataset = DATASETS.build(dataset_cfg)\n",
      "  File \"/opt/conda/lib/python3.7/site-packages/mmengine/registry/registry.py\", line 548, in build\n",
      "    return self.build_func(cfg, *args, **kwargs, registry=self)\n",
      "  File \"/opt/conda/lib/python3.7/site-packages/mmengine/registry/build_functions.py\", line 101, in build_from_cfg\n",
      "    f'{obj_type} is not in the {registry.name} registry. '\n",
      "KeyError: 'WaterMemlon is not in the dataset registry. Please check whether the value of `WaterMemlon` is correct or it was registered as expected. More details can be found at https://mmengine.readthedocs.io/en/latest/advanced_tutorials/config.html#import-the-custom-module'\n"
     ]
    }
   ],
   "source": [
    "!python tools/analysis_tools/benchmark.py configs/pspnet/pspnet-WaterMemlon_20230615.py work_dirs/WaterMemlon.py/iter_3000.pth"
   ]
  }
 ],
 "metadata": {
  "kernelspec": {
   "display_name": "Python 3 (ipykernel)",
   "language": "python",
   "name": "python3"
  },
  "language_info": {
   "codemirror_mode": {
    "name": "ipython",
    "version": 3
   },
   "file_extension": ".py",
   "mimetype": "text/x-python",
   "name": "python",
   "nbconvert_exporter": "python",
   "pygments_lexer": "ipython3",
   "version": "3.7.10"
  }
 },
 "nbformat": 4,
 "nbformat_minor": 5
}
