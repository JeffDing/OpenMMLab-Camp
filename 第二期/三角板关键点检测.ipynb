{
 "cells": [
  {
   "cell_type": "markdown",
   "id": "d865cafd",
   "metadata": {},
   "source": [
    "# 三角板关键点检测"
   ]
  },
  {
   "cell_type": "markdown",
   "id": "6d17dd5b",
   "metadata": {
    "tags": []
   },
   "source": [
    "# 下载config配置文件"
   ]
  },
  {
   "cell_type": "markdown",
   "id": "4fd91074",
   "metadata": {
    "tags": []
   },
   "source": [
    "## 进入 mmpose 主目录"
   ]
  },
  {
   "cell_type": "code",
   "execution_count": null,
   "id": "656447a0",
   "metadata": {},
   "outputs": [],
   "source": [
    "import os\n",
    "os.chdir('mmpose')"
   ]
  },
  {
   "cell_type": "markdown",
   "id": "ea569a57",
   "metadata": {},
   "source": [
    "## 下载config配置文件至`data`目录"
   ]
  },
  {
   "cell_type": "code",
   "execution_count": null,
   "id": "1ce6c427",
   "metadata": {},
   "outputs": [],
   "source": [
    "!rm -rf data/rtmpose-s-triangle.py\n",
    "!wget https://zihao-openmmlab.obs.cn-east-3.myhuaweicloud.com/20220610-mmpose/triangle_dataset/rtmpose-s-triangle.py -P data\n"
   ]
  },
  {
   "cell_type": "markdown",
   "id": "f5517888",
   "metadata": {},
   "source": [
    "# 训练RTMPose"
   ]
  },
  {
   "cell_type": "markdown",
   "id": "24d2e926",
   "metadata": {},
   "source": [
    "## 训练（建议在命令行中运行）"
   ]
  },
  {
   "cell_type": "code",
   "execution_count": null,
   "id": "ac197534",
   "metadata": {},
   "outputs": [],
   "source": [
    "!python tools/train.py data/rtmpose-s-triangle.py"
   ]
  },
  {
   "cell_type": "markdown",
   "id": "e8345442",
   "metadata": {},
   "source": [
    "## 测试集上评估模型精度"
   ]
  },
  {
   "cell_type": "code",
   "execution_count": null,
   "id": "830062fe",
   "metadata": {},
   "outputs": [],
   "source": [
    "!python tools/test.py data/rtmpose-s-triangle.py \\\n",
    "                      work_dirs/rtmpose-s-triangle/epoch_300.pth"
   ]
  },
  {
   "cell_type": "markdown",
   "id": "be5385d6",
   "metadata": {},
   "source": [
    "# 可视化训练日志"
   ]
  },
  {
   "cell_type": "markdown",
   "id": "9bf2c819",
   "metadata": {},
   "source": [
    "## 导入工具包"
   ]
  },
  {
   "cell_type": "code",
   "execution_count": null,
   "id": "4cbf4692",
   "metadata": {},
   "outputs": [],
   "source": [
    "import pandas as pd\n",
    "from tqdm import tqdm\n",
    "\n",
    "import matplotlib.pyplot as plt\n",
    "%matplotlib inline\n",
    "plt.rcParams['axes.unicode_minus']=False  # 用来正常显示负号"
   ]
  },
  {
   "cell_type": "markdown",
   "id": "21b39eb4",
   "metadata": {},
   "source": [
    "## 载入训练日志"
   ]
  },
  {
   "cell_type": "code",
   "execution_count": null,
   "id": "f70c51f8",
   "metadata": {},
   "outputs": [],
   "source": [
    "# 日志文件路径\n",
    "log_path = 'work_dirs/rtmpose-s-triangle/20230512_091723/vis_data/scalars.json'"
   ]
  },
  {
   "cell_type": "code",
   "execution_count": null,
   "id": "4ebdac37",
   "metadata": {},
   "outputs": [],
   "source": [
    "with open(log_path, \"r\") as f:\n",
    "    json_list = f.readlines()"
   ]
  },
  {
   "cell_type": "code",
   "execution_count": null,
   "id": "596bc1bb",
   "metadata": {},
   "outputs": [],
   "source": [
    "len(json_list)"
   ]
  },
  {
   "cell_type": "code",
   "execution_count": null,
   "id": "3986f405",
   "metadata": {},
   "outputs": [],
   "source": [
    "eval(json_list[4])"
   ]
  },
  {
   "cell_type": "code",
   "execution_count": null,
   "id": "4900c9a8",
   "metadata": {},
   "outputs": [],
   "source": [
    "df_train = pd.DataFrame()\n",
    "df_test = pd.DataFrame()\n",
    "for each in tqdm(json_list):\n",
    "    if 'coco/AP' in each:\n",
    "        df_test = df_test.append(eval(each), ignore_index=True)\n",
    "    else:\n",
    "        df_train = df_train.append(eval(each), ignore_index=True)"
   ]
  },
  {
   "cell_type": "code",
   "execution_count": null,
   "id": "018f5949",
   "metadata": {},
   "outputs": [],
   "source": [
    "df_train"
   ]
  },
  {
   "cell_type": "code",
   "execution_count": null,
   "id": "b9d439a0",
   "metadata": {},
   "outputs": [],
   "source": [
    "df_test"
   ]
  },
  {
   "cell_type": "markdown",
   "id": "d0e2d5a3",
   "metadata": {},
   "source": [
    "## 导出训练日志表格"
   ]
  },
  {
   "cell_type": "code",
   "execution_count": null,
   "id": "95ba8f36",
   "metadata": {},
   "outputs": [],
   "source": [
    "df_train.to_csv('训练日志-训练集.csv', index=False)\n",
    "df_test.to_csv('训练日志-测试集.csv', index=False)"
   ]
  },
  {
   "cell_type": "markdown",
   "id": "d368ecf5",
   "metadata": {},
   "source": [
    "## 设置Matplotlib中文字体"
   ]
  },
  {
   "cell_type": "code",
   "execution_count": null,
   "id": "5029dd17",
   "metadata": {},
   "outputs": [],
   "source": [
    "# # windows操作系统\n",
    "# plt.rcParams['font.sans-serif']=['SimHei']  # 用来正常显示中文标签 \n",
    "# plt.rcParams['axes.unicode_minus']=False  # 用来正常显示负号"
   ]
  },
  {
   "cell_type": "code",
   "execution_count": null,
   "id": "947980a5",
   "metadata": {},
   "outputs": [],
   "source": [
    "# Mac操作系统，参考 https://www.ngui.cc/51cto/show-727683.html\n",
    "# 下载 simhei.ttf 字体文件\n",
    "# !wget https://zihao-openmmlab.obs.cn-east-3.myhuaweicloud.com/20220716-mmclassification/dataset/SimHei.ttf"
   ]
  },
  {
   "cell_type": "code",
   "execution_count": null,
   "id": "65f8ba36",
   "metadata": {},
   "outputs": [],
   "source": [
    "# Linux操作系统，例如 云GPU平台：https://featurize.cn/?s=d7ce99f842414bfcaea5662a97581bd1\n",
    "# 如果遇到 SSL 相关报错，重新运行本代码块即可\n",
    "!wget https://zihao-openmmlab.obs.cn-east-3.myhuaweicloud.com/20220716-mmclassification/dataset/SimHei.ttf -O /environment/miniconda3/lib/python3.7/site-packages/matplotlib/mpl-data/fonts/ttf/SimHei.ttf\n",
    "!rm -rf /home/featurize/.cache/matplotlib\n",
    "\n",
    "import matplotlib \n",
    "import matplotlib.pyplot as plt\n",
    "matplotlib.rc(\"font\",family='SimHei') # 中文字体\n"
   ]
  },
  {
   "cell_type": "code",
   "execution_count": null,
   "id": "ee905cf7",
   "metadata": {},
   "outputs": [],
   "source": [
    "plt.plot([1,2,3], [100,500,300])\n",
    "plt.title('matplotlib中文字体测试', fontsize=25)\n",
    "plt.xlabel('X轴', fontsize=15)\n",
    "plt.ylabel('Y轴', fontsize=15)\n",
    "plt.show()"
   ]
  },
  {
   "cell_type": "markdown",
   "id": "c4230bf4",
   "metadata": {},
   "source": [
    "## 可视化辅助函数"
   ]
  },
  {
   "cell_type": "code",
   "execution_count": null,
   "id": "acbb6484",
   "metadata": {},
   "outputs": [],
   "source": [
    "from matplotlib import colors as mcolors\n",
    "import random\n",
    "random.seed(124)\n",
    "colors = ['b', 'g', 'r', 'c', 'm', 'y', 'k', 'tab:blue', 'tab:orange', 'tab:green', 'tab:red', 'tab:purple', 'tab:brown', 'tab:pink', 'tab:gray', 'tab:olive', 'tab:cyan', 'black', 'indianred', 'brown', 'firebrick', 'maroon', 'darkred', 'red', 'sienna', 'chocolate', 'yellow', 'olivedrab', 'yellowgreen', 'darkolivegreen', 'forestgreen', 'limegreen', 'darkgreen', 'green', 'lime', 'seagreen', 'mediumseagreen', 'darkslategray', 'darkslategrey', 'teal', 'darkcyan', 'dodgerblue', 'navy', 'darkblue', 'mediumblue', 'blue', 'slateblue', 'darkslateblue', 'mediumslateblue', 'mediumpurple', 'rebeccapurple', 'blueviolet', 'indigo', 'darkorchid', 'darkviolet', 'mediumorchid', 'purple', 'darkmagenta', 'fuchsia', 'magenta', 'orchid', 'mediumvioletred', 'deeppink', 'hotpink']\n",
    "markers = [\".\",\",\",\"o\",\"v\",\"^\",\"<\",\">\",\"1\",\"2\",\"3\",\"4\",\"8\",\"s\",\"p\",\"P\",\"*\",\"h\",\"H\",\"+\",\"x\",\"X\",\"D\",\"d\",\"|\",\"_\",0,1,2,3,4,5,6,7,8,9,10,11]\n",
    "linestyle = ['--', '-.', '-']\n",
    "\n",
    "def get_line_arg():\n",
    "    '''\n",
    "    随机产生一种绘图线型\n",
    "    '''\n",
    "    line_arg = {}\n",
    "    line_arg['color'] = random.choice(colors)\n",
    "    # line_arg['marker'] = random.choice(markers)\n",
    "    line_arg['linestyle'] = random.choice(linestyle)\n",
    "    line_arg['linewidth'] = random.randint(1, 4)\n",
    "    # line_arg['markersize'] = random.randint(3, 5)\n",
    "    return line_arg"
   ]
  },
  {
   "cell_type": "markdown",
   "id": "593ecb93",
   "metadata": {},
   "source": [
    "## 训练集损失函数"
   ]
  },
  {
   "cell_type": "code",
   "execution_count": null,
   "id": "4370cff2",
   "metadata": {},
   "outputs": [],
   "source": [
    "df_train.columns"
   ]
  },
  {
   "cell_type": "code",
   "execution_count": null,
   "id": "c7ef4504",
   "metadata": {},
   "outputs": [],
   "source": [
    "metrics = ['loss', 'loss_kpt']"
   ]
  },
  {
   "cell_type": "code",
   "execution_count": null,
   "id": "6b5f1c1a",
   "metadata": {},
   "outputs": [],
   "source": [
    "plt.figure(figsize=(16, 8))\n",
    "\n",
    "x = df_train['step']\n",
    "for y in metrics:\n",
    "    plt.plot(x, df_train[y], label=y, **get_line_arg())\n",
    "\n",
    "plt.tick_params(labelsize=20)\n",
    "plt.xlabel('step', fontsize=20)\n",
    "plt.ylabel('loss', fontsize=20)\n",
    "plt.title('训练集损失函数', fontsize=25)\n",
    "plt.savefig('训练集损失函数.pdf', dpi=120, bbox_inches='tight')\n",
    "\n",
    "plt.legend(fontsize=20)\n",
    "\n",
    "plt.show()"
   ]
  },
  {
   "cell_type": "markdown",
   "id": "76721c02",
   "metadata": {},
   "source": [
    "## 训练集准确率"
   ]
  },
  {
   "cell_type": "code",
   "execution_count": null,
   "id": "094f8bc0",
   "metadata": {},
   "outputs": [],
   "source": [
    "metrics = ['acc_pose']"
   ]
  },
  {
   "cell_type": "code",
   "execution_count": null,
   "id": "3a908813",
   "metadata": {},
   "outputs": [],
   "source": [
    "plt.figure(figsize=(16, 8))\n",
    "\n",
    "x = df_train['step']\n",
    "for y in metrics:\n",
    "    plt.plot(x, df_train[y], label=y, **get_line_arg())\n",
    "\n",
    "plt.tick_params(labelsize=20)\n",
    "plt.xlabel('step', fontsize=20)\n",
    "plt.ylabel('loss', fontsize=20)\n",
    "plt.title('训练集准确率', fontsize=25)\n",
    "plt.savefig('训练集准确率.pdf', dpi=120, bbox_inches='tight')\n",
    "\n",
    "plt.legend(fontsize=20)\n",
    "\n",
    "plt.show()"
   ]
  },
  {
   "cell_type": "markdown",
   "id": "f2dd78f5",
   "metadata": {},
   "source": [
    "## 测试集评估指标-MS COCO Metric"
   ]
  },
  {
   "cell_type": "code",
   "execution_count": null,
   "id": "c7d5543e",
   "metadata": {},
   "outputs": [],
   "source": [
    "df_test.columns"
   ]
  },
  {
   "cell_type": "code",
   "execution_count": null,
   "id": "6ddc2cd7",
   "metadata": {},
   "outputs": [],
   "source": [
    "metrics = ['coco/AP', 'coco/AP .5', 'coco/AP .75', 'coco/AP (M)', 'coco/AP (L)', 'coco/AR', 'coco/AR .5', 'coco/AR .75', 'coco/AR (M)', 'coco/AR (L)', 'PCK', 'AUC']\n"
   ]
  },
  {
   "cell_type": "code",
   "execution_count": null,
   "id": "37d1604d",
   "metadata": {},
   "outputs": [],
   "source": [
    "plt.figure(figsize=(16, 8))\n",
    "\n",
    "x = df_test['step']\n",
    "for y in metrics:\n",
    "    plt.plot(x, df_test[y], label=y, **get_line_arg())\n",
    "\n",
    "plt.tick_params(labelsize=20)\n",
    "# plt.ylim([0, 100])\n",
    "plt.xlabel('Epoch', fontsize=20)\n",
    "plt.ylabel(y, fontsize=20)\n",
    "plt.title('测试集评估指标', fontsize=25)\n",
    "plt.savefig('测试集分类评估指标.pdf', dpi=120, bbox_inches='tight')\n",
    "\n",
    "plt.legend(fontsize=20)\n",
    "\n",
    "plt.show()"
   ]
  },
  {
   "cell_type": "markdown",
   "id": "2fc9bc35",
   "metadata": {},
   "source": [
    "## 测试集评估指标-NME"
   ]
  },
  {
   "cell_type": "code",
   "execution_count": null,
   "id": "f8b04a8f",
   "metadata": {},
   "outputs": [],
   "source": [
    "metrics = ['NME']"
   ]
  },
  {
   "cell_type": "code",
   "execution_count": null,
   "id": "7ff485f3",
   "metadata": {},
   "outputs": [],
   "source": [
    "plt.figure(figsize=(16, 8))\n",
    "\n",
    "x = df_test['step']\n",
    "for y in metrics:\n",
    "    plt.plot(x, df_test[y], label=y, **get_line_arg())\n",
    "\n",
    "plt.tick_params(labelsize=20)\n",
    "# plt.ylim([0, 100])\n",
    "plt.xlabel('Epoch', fontsize=20)\n",
    "plt.ylabel(y, fontsize=20)\n",
    "plt.title('测试集评估指标', fontsize=25)\n",
    "plt.savefig('测试集分类评估指标.pdf', dpi=120, bbox_inches='tight')\n",
    "\n",
    "plt.legend(fontsize=20)\n",
    "\n",
    "plt.show()"
   ]
  },
  {
   "cell_type": "markdown",
   "id": "74b0f1e0",
   "metadata": {},
   "source": [
    "# 模型权重文件精简转换"
   ]
  },
  {
   "cell_type": "code",
   "execution_count": 3,
   "id": "5b9ae68e",
   "metadata": {},
   "outputs": [
    {
     "name": "stdout",
     "output_type": "stream",
     "text": [
      "05/12 15:59:24 - mmengine - \u001b[4m\u001b[37mINFO\u001b[0m - Key `message_hub` will be removed because it is not in save_keys. If you want to keep it, please set --save-keys.\n",
      "05/12 15:59:24 - mmengine - \u001b[4m\u001b[37mINFO\u001b[0m - Key `optimizer` will be removed because it is not in save_keys. If you want to keep it, please set --save-keys.\n",
      "05/12 15:59:24 - mmengine - \u001b[4m\u001b[37mINFO\u001b[0m - Key `param_schedulers` will be removed because it is not in save_keys. If you want to keep it, please set --save-keys.\n",
      "05/12 15:59:24 - mmengine - \u001b[4m\u001b[37mINFO\u001b[0m - Key `ema_state_dict` will be removed because it is not in save_keys. If you want to keep it, please set --save-keys.\n"
     ]
    }
   ],
   "source": [
    "!python tools/misc/publish_model.py \\\n",
    "        work_dirs/rtmpose-s-triangle/epoch_300.pth \\\n",
    "        checkpoint/rtmpose-s-triangle-300.pth"
   ]
  },
  {
   "cell_type": "markdown",
   "id": "3dc42169",
   "metadata": {},
   "source": [
    "# 下载训练好的模型权重"
   ]
  },
  {
   "cell_type": "code",
   "execution_count": null,
   "id": "4fac9e07",
   "metadata": {},
   "outputs": [],
   "source": [
    "# RTMDet-s 三角板目标检测\n",
    "!rm -rf checkpoint/rtmpose-s-triangle-300-32642023_20230524.pth\n",
    "!wget https://zihao-openmmlab.obs.cn-east-3.myhuaweicloud.com/20220610-mmpose/triangle_dataset/ckpt/rtmpose-s-triangle-300-32642023_20230524.pth -P checkpoint"
   ]
  }
 ],
 "metadata": {
  "kernelspec": {
   "display_name": "Python 3 (ipykernel)",
   "language": "python",
   "name": "python3"
  },
  "language_info": {
   "codemirror_mode": {
    "name": "ipython",
    "version": 3
   },
   "file_extension": ".py",
   "mimetype": "text/x-python",
   "name": "python",
   "nbconvert_exporter": "python",
   "pygments_lexer": "ipython3",
   "version": "3.7.10"
  }
 },
 "nbformat": 4,
 "nbformat_minor": 5
}
