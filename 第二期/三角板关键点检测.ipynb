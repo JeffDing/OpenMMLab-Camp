{
 "cells": [
  {
   "cell_type": "markdown",
   "id": "2a449b3a-245d-4703-9c4d-2ca3a6595682",
   "metadata": {},
   "source": [
    "# 三角板关键点检测"
   ]
  },
  {
   "cell_type": "markdown",
   "id": "c61211b3-6d79-4f9b-8cad-9cd42cac4c8d",
   "metadata": {
    "tags": []
   },
   "source": [
    "# 下载config配置文件"
   ]
  },
  {
   "cell_type": "markdown",
   "id": "5bbb24a2-6d24-47cb-93b1-abe14d0523e8",
   "metadata": {
    "tags": []
   },
   "source": [
    "## 进入 mmpose 主目录"
   ]
  },
  {
   "cell_type": "code",
   "execution_count": null,
   "id": "dbbd6d2c-878d-43c3-bec4-d4f4fe94efd4",
   "metadata": {},
   "outputs": [],
   "source": [
    "import os\n",
    "os.chdir('mmpose')"
   ]
  },
  {
   "cell_type": "markdown",
   "id": "4987be2c-d1e5-407a-886c-b1aaa93881df",
   "metadata": {},
   "source": [
    "## 下载config配置文件至`data`目录"
   ]
  },
  {
   "cell_type": "code",
   "execution_count": null,
   "id": "c8c8bd5b-d987-4275-9245-a259ffd4d663",
   "metadata": {},
   "outputs": [],
   "source": [
    "!rm -rf data/rtmpose-s-triangle.py\n",
    "!wget https://zihao-openmmlab.obs.cn-east-3.myhuaweicloud.com/20220610-mmpose/triangle_dataset/rtmpose-s-triangle.py -P data\n"
   ]
  },
  {
   "cell_type": "markdown",
   "id": "4afe22aa-e0d0-44e0-b477-af068c54ea83",
   "metadata": {},
   "source": [
    "# 训练RTMPose"
   ]
  },
  {
   "cell_type": "markdown",
   "id": "fc772057-3a3b-4e85-8d6a-01925ad0464b",
   "metadata": {},
   "source": [
    "## 训练（建议在命令行中运行）"
   ]
  },
  {
   "cell_type": "code",
   "execution_count": null,
   "id": "4b09cf10-8298-408a-b76d-b0975b0d9d40",
   "metadata": {},
   "outputs": [],
   "source": [
    "!python tools/train.py data/rtmpose-s-triangle.py"
   ]
  },
  {
   "cell_type": "markdown",
   "id": "54521938-a141-4162-bb1d-661075033b63",
   "metadata": {},
   "source": [
    "## 测试集上评估模型精度"
   ]
  },
  {
   "cell_type": "code",
   "execution_count": null,
   "id": "130c2048-b34f-4728-b006-d3b11ed6af12",
   "metadata": {},
   "outputs": [],
   "source": [
    "!python tools/test.py data/rtmpose-s-triangle.py \\\n",
    "                      work_dirs/rtmpose-s-triangle/epoch_300.pth"
   ]
  },
  {
   "cell_type": "markdown",
   "id": "ec4f0606-e205-48c6-835f-907bb23edfdf",
   "metadata": {},
   "source": [
    "# 可视化训练日志"
   ]
  },
  {
   "cell_type": "markdown",
   "id": "aa80cfbe-0029-450b-8eb4-32fb5c41d21b",
   "metadata": {},
   "source": [
    "## 导入工具包"
   ]
  },
  {
   "cell_type": "code",
   "execution_count": null,
   "id": "5245a2db-e693-4c0f-be85-33a93122bebd",
   "metadata": {},
   "outputs": [],
   "source": [
    "import pandas as pd\n",
    "from tqdm import tqdm\n",
    "\n",
    "import matplotlib.pyplot as plt\n",
    "%matplotlib inline\n",
    "plt.rcParams['axes.unicode_minus']=False  # 用来正常显示负号"
   ]
  },
  {
   "cell_type": "markdown",
   "id": "46b5a7a2-7ed1-4373-a77e-caf61481304e",
   "metadata": {},
   "source": [
    "## 载入训练日志"
   ]
  },
  {
   "cell_type": "code",
   "execution_count": null,
   "id": "ebe51f25-dd78-4931-8708-e5a0c7898ae9",
   "metadata": {},
   "outputs": [],
   "source": [
    "# 日志文件路径\n",
    "log_path = 'work_dirs/rtmpose-s-triangle/20230512_091723/vis_data/scalars.json'"
   ]
  },
  {
   "cell_type": "code",
   "execution_count": null,
   "id": "639c2f24-7fb7-438e-851a-6b2d43ef6d9e",
   "metadata": {},
   "outputs": [],
   "source": [
    "with open(log_path, \"r\") as f:\n",
    "    json_list = f.readlines()"
   ]
  },
  {
   "cell_type": "code",
   "execution_count": null,
   "id": "465cd7c3-8a34-4e63-87db-d5d595cb379c",
   "metadata": {},
   "outputs": [],
   "source": [
    "len(json_list)"
   ]
  },
  {
   "cell_type": "code",
   "execution_count": null,
   "id": "204cd3ff-c1c8-4ef9-9797-5d6f63bd2b4f",
   "metadata": {},
   "outputs": [],
   "source": [
    "eval(json_list[4])"
   ]
  },
  {
   "cell_type": "code",
   "execution_count": null,
   "id": "10703123-7456-44a5-b41b-ad3256f9fdd1",
   "metadata": {},
   "outputs": [],
   "source": [
    "df_train = pd.DataFrame()\n",
    "df_test = pd.DataFrame()\n",
    "for each in tqdm(json_list):\n",
    "    if 'coco/AP' in each:\n",
    "        df_test = df_test.append(eval(each), ignore_index=True)\n",
    "    else:\n",
    "        df_train = df_train.append(eval(each), ignore_index=True)"
   ]
  },
  {
   "cell_type": "code",
   "execution_count": null,
   "id": "9ef57471-a041-4f74-8b2e-9cb6d112aeac",
   "metadata": {},
   "outputs": [],
   "source": [
    "df_train"
   ]
  },
  {
   "cell_type": "code",
   "execution_count": null,
   "id": "2faf2b47-4a9d-4e89-9e32-eae88c423a1a",
   "metadata": {},
   "outputs": [],
   "source": [
    "df_test"
   ]
  },
  {
   "cell_type": "markdown",
   "id": "fb2d0cab-0738-45b8-9cc8-2a7849f65dd8",
   "metadata": {},
   "source": [
    "## 导出训练日志表格"
   ]
  },
  {
   "cell_type": "code",
   "execution_count": null,
   "id": "41f7af2f-5787-4604-9813-db2f333ea083",
   "metadata": {},
   "outputs": [],
   "source": [
    "df_train.to_csv('训练日志-训练集.csv', index=False)\n",
    "df_test.to_csv('训练日志-测试集.csv', index=False)"
   ]
  },
  {
   "cell_type": "markdown",
   "id": "5d1106df-70c3-495b-9a5f-e6c9100a9427",
   "metadata": {},
   "source": [
    "## 设置Matplotlib中文字体"
   ]
  },
  {
   "cell_type": "code",
   "execution_count": null,
   "id": "70c523df-edd2-4625-aee7-5788d6d3745b",
   "metadata": {},
   "outputs": [],
   "source": [
    "# # windows操作系统\n",
    "# plt.rcParams['font.sans-serif']=['SimHei']  # 用来正常显示中文标签 \n",
    "# plt.rcParams['axes.unicode_minus']=False  # 用来正常显示负号"
   ]
  },
  {
   "cell_type": "code",
   "execution_count": null,
   "id": "aa2a07f6-e57d-4cf5-8fbc-a78063c4ace9",
   "metadata": {},
   "outputs": [],
   "source": [
    "# Mac操作系统，参考 https://www.ngui.cc/51cto/show-727683.html\n",
    "# 下载 simhei.ttf 字体文件\n",
    "# !wget https://zihao-openmmlab.obs.cn-east-3.myhuaweicloud.com/20220716-mmclassification/dataset/SimHei.ttf"
   ]
  },
  {
   "cell_type": "code",
   "execution_count": null,
   "id": "a2d91da7-7c70-464c-bad2-597810e02b48",
   "metadata": {},
   "outputs": [],
   "source": [
    "# Linux操作系统，例如 云GPU平台：https://featurize.cn/?s=d7ce99f842414bfcaea5662a97581bd1\n",
    "# 如果遇到 SSL 相关报错，重新运行本代码块即可\n",
    "!wget https://zihao-openmmlab.obs.cn-east-3.myhuaweicloud.com/20220716-mmclassification/dataset/SimHei.ttf -O /environment/miniconda3/lib/python3.7/site-packages/matplotlib/mpl-data/fonts/ttf/SimHei.ttf\n",
    "!rm -rf /home/featurize/.cache/matplotlib\n",
    "\n",
    "import matplotlib \n",
    "import matplotlib.pyplot as plt\n",
    "matplotlib.rc(\"font\",family='SimHei') # 中文字体\n"
   ]
  },
  {
   "cell_type": "code",
   "execution_count": null,
   "id": "da0ce49d-5ff5-471d-b19e-4037a2e1dd20",
   "metadata": {},
   "outputs": [],
   "source": [
    "plt.plot([1,2,3], [100,500,300])\n",
    "plt.title('matplotlib中文字体测试', fontsize=25)\n",
    "plt.xlabel('X轴', fontsize=15)\n",
    "plt.ylabel('Y轴', fontsize=15)\n",
    "plt.show()"
   ]
  },
  {
   "cell_type": "markdown",
   "id": "87a29bc0-0db4-4dd9-b04c-1d113b47e9bb",
   "metadata": {},
   "source": [
    "## 可视化辅助函数"
   ]
  },
  {
   "cell_type": "code",
   "execution_count": null,
   "id": "3f468a09-d222-4a50-966a-7e592f5ed039",
   "metadata": {},
   "outputs": [],
   "source": [
    "from matplotlib import colors as mcolors\n",
    "import random\n",
    "random.seed(124)\n",
    "colors = ['b', 'g', 'r', 'c', 'm', 'y', 'k', 'tab:blue', 'tab:orange', 'tab:green', 'tab:red', 'tab:purple', 'tab:brown', 'tab:pink', 'tab:gray', 'tab:olive', 'tab:cyan', 'black', 'indianred', 'brown', 'firebrick', 'maroon', 'darkred', 'red', 'sienna', 'chocolate', 'yellow', 'olivedrab', 'yellowgreen', 'darkolivegreen', 'forestgreen', 'limegreen', 'darkgreen', 'green', 'lime', 'seagreen', 'mediumseagreen', 'darkslategray', 'darkslategrey', 'teal', 'darkcyan', 'dodgerblue', 'navy', 'darkblue', 'mediumblue', 'blue', 'slateblue', 'darkslateblue', 'mediumslateblue', 'mediumpurple', 'rebeccapurple', 'blueviolet', 'indigo', 'darkorchid', 'darkviolet', 'mediumorchid', 'purple', 'darkmagenta', 'fuchsia', 'magenta', 'orchid', 'mediumvioletred', 'deeppink', 'hotpink']\n",
    "markers = [\".\",\",\",\"o\",\"v\",\"^\",\"<\",\">\",\"1\",\"2\",\"3\",\"4\",\"8\",\"s\",\"p\",\"P\",\"*\",\"h\",\"H\",\"+\",\"x\",\"X\",\"D\",\"d\",\"|\",\"_\",0,1,2,3,4,5,6,7,8,9,10,11]\n",
    "linestyle = ['--', '-.', '-']\n",
    "\n",
    "def get_line_arg():\n",
    "    '''\n",
    "    随机产生一种绘图线型\n",
    "    '''\n",
    "    line_arg = {}\n",
    "    line_arg['color'] = random.choice(colors)\n",
    "    # line_arg['marker'] = random.choice(markers)\n",
    "    line_arg['linestyle'] = random.choice(linestyle)\n",
    "    line_arg['linewidth'] = random.randint(1, 4)\n",
    "    # line_arg['markersize'] = random.randint(3, 5)\n",
    "    return line_arg"
   ]
  },
  {
   "cell_type": "markdown",
   "id": "c99f5d25-10d5-4221-bf4e-f5679851beae",
   "metadata": {},
   "source": [
    "## 训练集损失函数"
   ]
  },
  {
   "cell_type": "code",
   "execution_count": null,
   "id": "829f3a23-b3e0-4341-9ed3-44a91ad0581b",
   "metadata": {},
   "outputs": [],
   "source": [
    "df_train.columns"
   ]
  },
  {
   "cell_type": "code",
   "execution_count": null,
   "id": "6c8df914-49bf-4aac-aec4-a5882fa20354",
   "metadata": {},
   "outputs": [],
   "source": [
    "metrics = ['loss', 'loss_kpt']"
   ]
  },
  {
   "cell_type": "code",
   "execution_count": null,
   "id": "d9c217a6-7104-430e-bfc3-42b0e7673b53",
   "metadata": {},
   "outputs": [],
   "source": [
    "plt.figure(figsize=(16, 8))\n",
    "\n",
    "x = df_train['step']\n",
    "for y in metrics:\n",
    "    plt.plot(x, df_train[y], label=y, **get_line_arg())\n",
    "\n",
    "plt.tick_params(labelsize=20)\n",
    "plt.xlabel('step', fontsize=20)\n",
    "plt.ylabel('loss', fontsize=20)\n",
    "plt.title('训练集损失函数', fontsize=25)\n",
    "plt.savefig('训练集损失函数.pdf', dpi=120, bbox_inches='tight')\n",
    "\n",
    "plt.legend(fontsize=20)\n",
    "\n",
    "plt.show()"
   ]
  },
  {
   "cell_type": "markdown",
   "id": "460c02c1-2de3-455f-9d22-8f3af53cdb20",
   "metadata": {},
   "source": [
    "## 训练集准确率"
   ]
  },
  {
   "cell_type": "code",
   "execution_count": null,
   "id": "9ec337a1-384a-4f60-b6e0-8bfbb203170b",
   "metadata": {},
   "outputs": [],
   "source": [
    "metrics = ['acc_pose']"
   ]
  },
  {
   "cell_type": "code",
   "execution_count": null,
   "id": "4fba2265-ca28-497f-b0c9-0be37e344e99",
   "metadata": {},
   "outputs": [],
   "source": [
    "plt.figure(figsize=(16, 8))\n",
    "\n",
    "x = df_train['step']\n",
    "for y in metrics:\n",
    "    plt.plot(x, df_train[y], label=y, **get_line_arg())\n",
    "\n",
    "plt.tick_params(labelsize=20)\n",
    "plt.xlabel('step', fontsize=20)\n",
    "plt.ylabel('loss', fontsize=20)\n",
    "plt.title('训练集准确率', fontsize=25)\n",
    "plt.savefig('训练集准确率.pdf', dpi=120, bbox_inches='tight')\n",
    "\n",
    "plt.legend(fontsize=20)\n",
    "\n",
    "plt.show()"
   ]
  },
  {
   "cell_type": "markdown",
   "id": "bc1c66d5-1113-4dd8-a55f-6a814d816e32",
   "metadata": {},
   "source": [
    "## 测试集评估指标-MS COCO Metric"
   ]
  },
  {
   "cell_type": "code",
   "execution_count": null,
   "id": "903eb6b6-4ec7-44fe-b163-48d33643ac1b",
   "metadata": {},
   "outputs": [],
   "source": [
    "df_test.columns"
   ]
  },
  {
   "cell_type": "code",
   "execution_count": null,
   "id": "4209309a-5175-46c1-b465-2bf97f7b868c",
   "metadata": {},
   "outputs": [],
   "source": [
    "metrics = ['coco/AP', 'coco/AP .5', 'coco/AP .75', 'coco/AP (M)', 'coco/AP (L)', 'coco/AR', 'coco/AR .5', 'coco/AR .75', 'coco/AR (M)', 'coco/AR (L)', 'PCK', 'AUC']\n"
   ]
  },
  {
   "cell_type": "code",
   "execution_count": null,
   "id": "8bc4ccd8-746b-4cdf-bf95-434dab3340a8",
   "metadata": {},
   "outputs": [],
   "source": [
    "plt.figure(figsize=(16, 8))\n",
    "\n",
    "x = df_test['step']\n",
    "for y in metrics:\n",
    "    plt.plot(x, df_test[y], label=y, **get_line_arg())\n",
    "\n",
    "plt.tick_params(labelsize=20)\n",
    "# plt.ylim([0, 100])\n",
    "plt.xlabel('Epoch', fontsize=20)\n",
    "plt.ylabel(y, fontsize=20)\n",
    "plt.title('测试集评估指标', fontsize=25)\n",
    "plt.savefig('测试集分类评估指标.pdf', dpi=120, bbox_inches='tight')\n",
    "\n",
    "plt.legend(fontsize=20)\n",
    "\n",
    "plt.show()"
   ]
  },
  {
   "cell_type": "markdown",
   "id": "69200eb2-7070-4489-bb8f-d6164b12291e",
   "metadata": {},
   "source": [
    "## 测试集评估指标-NME"
   ]
  },
  {
   "cell_type": "code",
   "execution_count": null,
   "id": "495bf2dd-0c6b-4642-8811-a100dae97099",
   "metadata": {},
   "outputs": [],
   "source": [
    "metrics = ['NME']"
   ]
  },
  {
   "cell_type": "code",
   "execution_count": null,
   "id": "6351fd44-99a0-4608-a8cd-948fe2cf6113",
   "metadata": {},
   "outputs": [],
   "source": [
    "plt.figure(figsize=(16, 8))\n",
    "\n",
    "x = df_test['step']\n",
    "for y in metrics:\n",
    "    plt.plot(x, df_test[y], label=y, **get_line_arg())\n",
    "\n",
    "plt.tick_params(labelsize=20)\n",
    "# plt.ylim([0, 100])\n",
    "plt.xlabel('Epoch', fontsize=20)\n",
    "plt.ylabel(y, fontsize=20)\n",
    "plt.title('测试集评估指标', fontsize=25)\n",
    "plt.savefig('测试集分类评估指标.pdf', dpi=120, bbox_inches='tight')\n",
    "\n",
    "plt.legend(fontsize=20)\n",
    "\n",
    "plt.show()"
   ]
  },
  {
   "cell_type": "markdown",
   "id": "7baa59f4-54bb-450e-aa60-0e8ef5bacf86",
   "metadata": {},
   "source": [
    "# 模型权重文件精简转换"
   ]
  },
  {
   "cell_type": "code",
   "execution_count": 3,
   "id": "628f1178-e348-4135-a33e-11d932c5db9e",
   "metadata": {},
   "outputs": [
    {
     "name": "stdout",
     "output_type": "stream",
     "text": [
      "05/12 15:59:24 - mmengine - \u001b[4m\u001b[37mINFO\u001b[0m - Key `message_hub` will be removed because it is not in save_keys. If you want to keep it, please set --save-keys.\n",
      "05/12 15:59:24 - mmengine - \u001b[4m\u001b[37mINFO\u001b[0m - Key `optimizer` will be removed because it is not in save_keys. If you want to keep it, please set --save-keys.\n",
      "05/12 15:59:24 - mmengine - \u001b[4m\u001b[37mINFO\u001b[0m - Key `param_schedulers` will be removed because it is not in save_keys. If you want to keep it, please set --save-keys.\n",
      "05/12 15:59:24 - mmengine - \u001b[4m\u001b[37mINFO\u001b[0m - Key `ema_state_dict` will be removed because it is not in save_keys. If you want to keep it, please set --save-keys.\n"
     ]
    }
   ],
   "source": [
    "!python tools/misc/publish_model.py \\\n",
    "        work_dirs/rtmpose-s-triangle/epoch_300.pth \\\n",
    "        checkpoint/rtmpose-s-triangle-300.pth"
   ]
  },
  {
   "cell_type": "markdown",
   "id": "96afa54f-a722-4c98-9190-a6a1f489118e",
   "metadata": {},
   "source": [
    "# 下载训练好的模型权重"
   ]
  },
  {
   "cell_type": "code",
   "execution_count": null,
   "id": "4e4848ab-24ad-4889-804d-2e3d0a9f6ce9",
   "metadata": {},
   "outputs": [],
   "source": [
    "# RTMDet-s 三角板目标检测\n",
    "!rm -rf checkpoint/rtmpose-s-triangle-300-32642023_20230524.pth\n",
    "!wget https://zihao-openmmlab.obs.cn-east-3.myhuaweicloud.com/20220610-mmpose/triangle_dataset/ckpt/rtmpose-s-triangle-300-32642023_20230524.pth -P checkpoint"
   ]
  }
 ],
 "metadata": {
  "kernelspec": {
   "display_name": "Python 3 (ipykernel)",
   "language": "python",
   "name": "python3"
  },
  "language_info": {
   "codemirror_mode": {
    "name": "ipython",
    "version": 3
   },
   "file_extension": ".py",
   "mimetype": "text/x-python",
   "name": "python",
   "nbconvert_exporter": "python",
   "pygments_lexer": "ipython3",
   "version": "3.10.9"
  }
 },
 "nbformat": 4,
 "nbformat_minor": 5
}
