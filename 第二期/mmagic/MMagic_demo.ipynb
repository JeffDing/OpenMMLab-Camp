{
 "cells": [
  {
   "cell_type": "markdown",
   "id": "d57bf2da-6b9c-41a3-8f96-02b0ceeb8f13",
   "metadata": {},
   "source": [
    "# MMagic Demo"
   ]
  },
  {
   "cell_type": "markdown",
   "id": "5e0bcb52-e990-430c-9fc1-3fcb48844e45",
   "metadata": {},
   "source": [
    "## 下载样例图片"
   ]
  },
  {
   "cell_type": "code",
   "execution_count": null,
   "id": "c36282dd-13cd-41ed-9b26-179a9736bb98",
   "metadata": {
    "tags": []
   },
   "outputs": [],
   "source": [
    "!wget https://zihao-openmmlab.obs.cn-east-3.myhuaweicloud.com/20230613-MMagic/data/test_colorization.jpg -O data/test_colorization.jpg"
   ]
  },
  {
   "cell_type": "markdown",
   "id": "8d71f2bb-9f8f-4a90-9997-cc88b3218c60",
   "metadata": {},
   "source": [
    "## 运行预测"
   ]
  },
  {
   "cell_type": "code",
   "execution_count": null,
   "id": "45dfbf81-85cb-4b36-b8d9-3d53d7288425",
   "metadata": {},
   "outputs": [],
   "source": [
    "!python demo/mmagic_inference_demo.py \\\n",
    "        --model-name inst_colorization \\\n",
    "        --img data/test_colorization.jpg \\\n",
    "        --result-out-dir output/out_colorization.png"
   ]
  },
  {
   "cell_type": "markdown",
   "id": "4af953db-2191-4196-8b05-b8903ebb5f20",
   "metadata": {},
   "source": [
    "## 文生图-Stable Diffusion"
   ]
  },
  {
   "cell_type": "markdown",
   "id": "f40a79af-dbe1-46fc-bd5e-5ddad0649de5",
   "metadata": {},
   "source": [
    "## 导入工具包"
   ]
  },
  {
   "cell_type": "code",
   "execution_count": null,
   "id": "b4dd4072-cbc0-4437-bc3d-70581ea58820",
   "metadata": {},
   "outputs": [],
   "source": [
    "from mmagic.apis import MMagicInferencer"
   ]
  },
  {
   "cell_type": "markdown",
   "id": "2c659fd6-d4f5-447e-bcfc-1dc8ce623386",
   "metadata": {},
   "source": [
    "## 载入Stable Diffusion模型"
   ]
  },
  {
   "cell_type": "code",
   "execution_count": null,
   "id": "c2d45526-c3f5-4e40-bf01-421cb48d7610",
   "metadata": {},
   "outputs": [],
   "source": [
    "sd_inferencer = MMagicInferencer(model_name='stable_diffusion')"
   ]
  },
  {
   "cell_type": "markdown",
   "id": "aad9f676-f9d1-4586-8d3f-e8170fbbb55f",
   "metadata": {},
   "source": [
    "## 指定Prompt文本"
   ]
  },
  {
   "cell_type": "code",
   "execution_count": null,
   "id": "f511a2e4-44c1-42b4-b21f-aa9f419c2cb6",
   "metadata": {},
   "outputs": [],
   "source": [
    "text_prompts = 'A panda is having dinner at KFC'\n",
    "\n",
    "text_prompts = 'A Persian cat walking in the streets of New York'"
   ]
  },
  {
   "cell_type": "markdown",
   "id": "9df1b85d-40ca-4a16-bebb-07bc8ed4790c",
   "metadata": {},
   "source": [
    "## 执行预测"
   ]
  },
  {
   "cell_type": "code",
   "execution_count": null,
   "id": "3aeca6dc-2c59-4ec1-94f0-7fa7fcee6452",
   "metadata": {},
   "outputs": [],
   "source": [
    "sd_inferencer.infer(text=text_prompts, result_out_dir='output/sd_res.png')"
   ]
  },
  {
   "cell_type": "markdown",
   "id": "726070bf-50d1-408e-a940-60c25fe277e6",
   "metadata": {},
   "source": [
    "## 文生图-Dreambooth"
   ]
  },
  {
   "cell_type": "markdown",
   "id": "0060f465-cbed-419d-b6f9-ec2f1f3fb413",
   "metadata": {},
   "source": [
    "## 在数据集上训练Dreambooth"
   ]
  },
  {
   "cell_type": "code",
   "execution_count": null,
   "id": "659358c4-16ef-4c76-afd9-a416303e269a",
   "metadata": {},
   "outputs": [],
   "source": [
    "# !bash tools/dist_train.sh configs/dreambooth/dreambooth.py 1\n",
    "\n",
    "!bash tools/dist_train.sh configs/dreambooth/dreambooth-lora.py 1"
   ]
  },
  {
   "cell_type": "markdown",
   "id": "307387a8-cb3d-4f5a-b299-25647213a265",
   "metadata": {},
   "source": [
    "## 用训练好的模型做预测"
   ]
  },
  {
   "cell_type": "code",
   "execution_count": null,
   "id": "03e21ea7-8f3b-4969-aaf4-19eee5ba6276",
   "metadata": {},
   "outputs": [],
   "source": [
    "from mmengine import Config\n",
    "\n",
    "from mmagic.registry import MODELS\n",
    "from mmagic.utils import register_all_modules\n",
    "\n",
    "register_all_modules()"
   ]
  },
  {
   "cell_type": "code",
   "execution_count": null,
   "id": "5943e408-a015-4599-bb6b-91c385f243c6",
   "metadata": {},
   "outputs": [],
   "source": [
    "cfg = Config.fromfile('./mmagic/configs/dreambooth/dreambooth-lora.py')"
   ]
  },
  {
   "cell_type": "code",
   "execution_count": null,
   "id": "bcabe7e1-5a90-4b79-a351-fbc64ba72fd2",
   "metadata": {},
   "outputs": [],
   "source": [
    "dreambooth_lora = MODELS.build(cfg.model)"
   ]
  },
  {
   "cell_type": "code",
   "execution_count": null,
   "id": "80b5f7b9-bee7-4ef1-bfa3-fb4b868f7754",
   "metadata": {},
   "outputs": [],
   "source": [
    "state = torch.load('mmagic/work_dirs/dreambooth-lora/iter_1000.pth')['state_dict']"
   ]
  },
  {
   "cell_type": "code",
   "execution_count": null,
   "id": "d751e8f6-d580-43cc-8f92-52c9d42d1f74",
   "metadata": {},
   "outputs": [],
   "source": [
    "def convert_state_dict(state):\n",
    "    state_dict_new = {}\n",
    "    for k, v in state.items():\n",
    "        if '.module' in k:\n",
    "            k_new = k.replace('.module', '')\n",
    "        else:\n",
    "            k_new = k\n",
    "        if 'vae' in k:\n",
    "            if 'to_q' in k:\n",
    "                k_new = k.replace('to_q', 'query')\n",
    "            elif 'to_k' in k:\n",
    "                k_new = k.replace('to_k', 'key')\n",
    "            elif 'to_v' in k:\n",
    "                k_new = k.replace('to_v', 'value')\n",
    "            elif 'to_out' in k:\n",
    "                k_new = k.replace('to_out.0', 'proj_attn')\n",
    "        state_dict_new[k_new] = v\n",
    "    return state_dict_new"
   ]
  },
  {
   "cell_type": "code",
   "execution_count": null,
   "id": "6ee63e8f-5da1-472a-ad46-74f07dbeee41",
   "metadata": {},
   "outputs": [],
   "source": [
    "dreambooth_lora.load_state_dict(convert_state_dict(state))\n",
    "dreambooth_lora = dreambooth_lora.cuda()"
   ]
  },
  {
   "cell_type": "code",
   "execution_count": null,
   "id": "e99c22e1-47a7-45ca-950d-5e4897e19158",
   "metadata": {},
   "outputs": [],
   "source": [
    "samples = dreambooth_lora.infer('side view of sks dog', guidance_scale=5)"
   ]
  },
  {
   "cell_type": "code",
   "execution_count": null,
   "id": "d229c3ae-e20c-47e4-8808-0cbd4bfacdfb",
   "metadata": {},
   "outputs": [],
   "source": [
    "samples['samples'][0]"
   ]
  },
  {
   "cell_type": "code",
   "execution_count": null,
   "id": "b1b61b67-1395-4947-9936-7be84a0ee9c0",
   "metadata": {},
   "outputs": [],
   "source": [
    "samples = dreambooth_lora.infer('ear close-up of sks dog', guidance_scale=5)"
   ]
  },
  {
   "cell_type": "code",
   "execution_count": null,
   "id": "7b57d1d9-d128-4125-8a42-30fb8fbc6b49",
   "metadata": {},
   "outputs": [],
   "source": [
    "samples['samples'][0]"
   ]
  },
  {
   "cell_type": "markdown",
   "id": "62c11797-62c2-406a-bd85-da60b7fabcf5",
   "metadata": {},
   "source": [
    "## 图生图-ControlNet-Canny"
   ]
  },
  {
   "cell_type": "markdown",
   "id": "3828cac9-dfb0-446a-b479-d29eeb0bdb2b",
   "metadata": {
    "tags": []
   },
   "source": [
    "## 导入工具包"
   ]
  },
  {
   "cell_type": "code",
   "execution_count": null,
   "id": "4b612112-53b4-4368-890d-e85cb0299105",
   "metadata": {},
   "outputs": [],
   "source": [
    "import cv2\n",
    "import numpy as np\n",
    "import mmcv\n",
    "from mmengine import Config\n",
    "from PIL import Image\n",
    "\n",
    "from mmagic.registry import MODELS\n",
    "from mmagic.utils import register_all_modules\n",
    "\n",
    "register_all_modules()"
   ]
  },
  {
   "cell_type": "markdown",
   "id": "65b2e953-990e-4fde-9e6a-4d763c52577b",
   "metadata": {},
   "source": [
    "## 载入ControlNet模型"
   ]
  },
  {
   "cell_type": "code",
   "execution_count": null,
   "id": "c19a124f-1599-4678-a803-9b53c6042670",
   "metadata": {},
   "outputs": [],
   "source": [
    "cfg = Config.fromfile('configs/controlnet/controlnet-canny.py')\n",
    "controlnet = MODELS.build(cfg.model).cuda()"
   ]
  },
  {
   "cell_type": "markdown",
   "id": "68b47397-998d-4195-bebd-aa83abbd0207",
   "metadata": {},
   "source": [
    "## 输入Canny边缘图"
   ]
  },
  {
   "cell_type": "code",
   "execution_count": null,
   "id": "09e565d0-c6ef-4f79-a732-31ee10054b58",
   "metadata": {},
   "outputs": [],
   "source": [
    "control_url = 'https://user-images.githubusercontent.com/28132635/230288866-99603172-04cb-47b3-8adb-d1aa532d1d2c.jpg'\n",
    "control_img = mmcv.imread(control_url)\n",
    "control = cv2.Canny(control_img, 100, 200)\n",
    "control = control[:, :, None]\n",
    "control = np.concatenate([control] * 3, axis=2)\n",
    "control = Image.fromarray(control)"
   ]
  },
  {
   "cell_type": "code",
   "execution_count": null,
   "id": "8438d82a-a4a4-42e1-bda7-bec317c26207",
   "metadata": {},
   "outputs": [],
   "source": [
    "# control"
   ]
  },
  {
   "cell_type": "markdown",
   "id": "4133716a-55b0-4250-9ee9-4e44fa343ad4",
   "metadata": {},
   "source": [
    "## 咒语Prompt"
   ]
  },
  {
   "cell_type": "code",
   "execution_count": null,
   "id": "42ac5924-500c-44ff-8982-1a4430cf2b72",
   "metadata": {},
   "outputs": [],
   "source": [
    "prompt = 'Room with blue walls and a yellow ceiling.'"
   ]
  },
  {
   "cell_type": "markdown",
   "id": "1af43e45-59fd-463d-9589-6c0b50d9d866",
   "metadata": {},
   "source": [
    "## 执行预测"
   ]
  },
  {
   "cell_type": "code",
   "execution_count": null,
   "id": "c6b8ab80-e98b-4f17-b4cb-f90c649ea102",
   "metadata": {},
   "outputs": [],
   "source": [
    "output_dict = controlnet.infer(prompt, control=control)\n",
    "samples = output_dict['samples']\n",
    "for idx, sample in enumerate(samples):\n",
    "    sample.save(f'sample_{idx}.png')\n",
    "controls = output_dict['controls']\n",
    "for idx, control in enumerate(controls):\n",
    "    control.save(f'control_{idx}.png')"
   ]
  },
  {
   "cell_type": "markdown",
   "id": "b6efc0ff-2971-4fce-af0f-7fca9f762d49",
   "metadata": {},
   "source": [
    "## 图生图-ControlNet-Pose"
   ]
  },
  {
   "cell_type": "markdown",
   "id": "05567163-7249-4f00-8c5c-f9937da4e375",
   "metadata": {
    "tags": []
   },
   "source": [
    "## 导入工具包"
   ]
  },
  {
   "cell_type": "code",
   "execution_count": null,
   "id": "d004ffb2-4088-4aa8-a9ca-35d142255e57",
   "metadata": {},
   "outputs": [],
   "source": [
    "import mmcv\n",
    "from mmengine import Config\n",
    "from PIL import Image\n",
    "\n",
    "from mmagic.registry import MODELS\n",
    "from mmagic.utils import register_all_modules\n",
    "\n",
    "register_all_modules()"
   ]
  },
  {
   "cell_type": "markdown",
   "id": "ad79ead0-520c-499a-ba14-370d487f3842",
   "metadata": {},
   "source": [
    "## 载入ControlNet模型"
   ]
  },
  {
   "cell_type": "code",
   "execution_count": null,
   "id": "445bbce9-e7c2-4e9d-aed7-76100a7c1353",
   "metadata": {},
   "outputs": [],
   "source": [
    "cfg = Config.fromfile('configs/controlnet/controlnet-pose.py')\n",
    "# convert ControlNet's weight from SD-v1.5 to Counterfeit-v2.5\n",
    "cfg.model.unet.from_pretrained = 'gsdf/Counterfeit-V2.5'\n",
    "cfg.model.vae.from_pretrained = 'gsdf/Counterfeit-V2.5'\n",
    "cfg.model.init_cfg['type'] = 'convert_from_unet'\n",
    "controlnet = MODELS.build(cfg.model).cuda()\n",
    "# call init_weights manually to convert weight\n",
    "controlnet.init_weights()"
   ]
  },
  {
   "cell_type": "markdown",
   "id": "a31c1005-58e1-4446-81d8-ee5a72acbdb9",
   "metadata": {},
   "source": [
    "## 咒语Prompt"
   ]
  },
  {
   "cell_type": "code",
   "execution_count": null,
   "id": "63b5d697-8efc-43cb-8ffa-ff5095cb0b64",
   "metadata": {},
   "outputs": [],
   "source": [
    "prompt = 'masterpiece, best quality, sky, black hair, skirt, sailor collar, looking at viewer, short hair, building, bangs, neckerchief, long sleeves, cloudy sky, power lines, shirt, cityscape, pleated skirt, scenery, blunt bangs, city, night, black sailor collar, closed mouth'\n"
   ]
  },
  {
   "cell_type": "markdown",
   "id": "e66134c7-61ff-4d60-aa64-9d6ac7096457",
   "metadata": {},
   "source": [
    "## 输入Pose图"
   ]
  },
  {
   "cell_type": "code",
   "execution_count": null,
   "id": "14766416-2152-4ac0-a91e-3ef3e6199375",
   "metadata": {},
   "outputs": [],
   "source": [
    "control_url = 'https://user-images.githubusercontent.com/28132635/230380893-2eae68af-d610-4f7f-aa68-c2f22c2abf7e.png'\n",
    "control_img = mmcv.imread(control_url)\n",
    "control = Image.fromarray(control_img)\n",
    "control.save('control.png')"
   ]
  },
  {
   "cell_type": "code",
   "execution_count": null,
   "id": "6aa02565-6474-42f0-9436-386b0cac3f4d",
   "metadata": {},
   "outputs": [],
   "source": [
    "control"
   ]
  },
  {
   "cell_type": "markdown",
   "id": "54598312-b811-4717-bd38-3ad067720b09",
   "metadata": {},
   "source": [
    "## 执行预测"
   ]
  },
  {
   "cell_type": "code",
   "execution_count": null,
   "id": "845f4371-5987-4569-bcdf-203a44a1e199",
   "metadata": {},
   "outputs": [],
   "source": [
    "output_dict = controlnet.infer(prompt, control=control, width=512, height=512, guidance_scale=7.5)\n",
    "samples = output_dict['samples']\n",
    "for idx, sample in enumerate(samples):\n",
    "    sample.save(f'sample_{idx}.png')\n",
    "controls = output_dict['controls']\n",
    "for idx, control in enumerate(controls):\n",
    "    control.save(f'control_{idx}.png')"
   ]
  },
  {
   "cell_type": "markdown",
   "id": "3c572b36-3194-4008-a260-723bdec8fff5",
   "metadata": {},
   "source": [
    "## 图生图-ControlNet Animation"
   ]
  },
  {
   "cell_type": "markdown",
   "id": "429417d0-0f8c-4774-92c7-afd2d7eb0766",
   "metadata": {},
   "source": [
    "## OpenXLab应用平台在线Demo\n",
    "\n",
    "https://beta.openxlab.org.cn/apps/detail/liuwenran/controlnet_animation"
   ]
  },
  {
   "cell_type": "markdown",
   "id": "8874afde-84b9-4d3e-9bec-c9becddd7d36",
   "metadata": {},
   "source": [
    "## 进入 MMagic 主目录"
   ]
  },
  {
   "cell_type": "code",
   "execution_count": null,
   "id": "ce87b842-f7cb-460c-8b68-3a13a22028ca",
   "metadata": {},
   "outputs": [],
   "source": [
    "import os\n",
    "os.chdir('mmagic')"
   ]
  },
  {
   "cell_type": "markdown",
   "id": "b827b782-b271-4e6f-a0d5-9596b060df79",
   "metadata": {},
   "source": [
    "## 方式一：Gradio命令行"
   ]
  },
  {
   "cell_type": "code",
   "execution_count": null,
   "id": "9712b288-68c1-4f40-b766-af84d1dbae69",
   "metadata": {},
   "outputs": [],
   "source": [
    "!python demo/gradio_controlnet_animation.py"
   ]
  },
  {
   "cell_type": "markdown",
   "id": "b46883e0-476f-43ce-b579-6a7ce62ba550",
   "metadata": {},
   "source": [
    "## 点击URL，打开Gradio在线交互式网站，上传视频，执行预测"
   ]
  },
  {
   "cell_type": "markdown",
   "id": "68a9ad72-b2e9-4a2b-804a-03315ae1b1a3",
   "metadata": {},
   "source": [
    "## 方式二：MMagic API"
   ]
  },
  {
   "cell_type": "code",
   "execution_count": null,
   "id": "e2f951ab-dcf4-4181-a358-1b0e15076e8e",
   "metadata": {},
   "outputs": [],
   "source": [
    "# 导入工具包\n",
    "from mmagic.apis import MMagicInferencer\n",
    "\n",
    "# Create a MMEdit instance and infer\n",
    "editor = MMagicInferencer(model_name='controlnet_animation')"
   ]
  },
  {
   "cell_type": "code",
   "execution_count": null,
   "id": "eda65d8c-fea1-4217-8026-adfe149c8b9a",
   "metadata": {},
   "outputs": [],
   "source": [
    "# 指定 prompt 咒语\n",
    "prompt = 'a girl, black hair, T-shirt, smoking, best quality, extremely detailed'\n",
    "negative_prompt = 'longbody, lowres, bad anatomy, bad hands, missing fingers, extra digit, fewer digits, cropped, worst quality, low quality'"
   ]
  },
  {
   "cell_type": "code",
   "execution_count": null,
   "id": "81c2a886-b9e6-4aa8-8ac3-682051927643",
   "metadata": {},
   "outputs": [],
   "source": [
    "# 待测视频\n",
    "# https://user-images.githubusercontent.com/12782558/227418400-80ad9123-7f8e-4c1a-8e19-0892ebad2a4f.mp4\n",
    "video = '../run_forrest_frames_rename_resized.mp4'\n",
    "save_path = '../output_video.mp4'"
   ]
  },
  {
   "cell_type": "code",
   "execution_count": null,
   "id": "de397e41-183f-4c41-bd11-c6553e9be838",
   "metadata": {},
   "outputs": [],
   "source": [
    "# 执行预测\n",
    "editor.infer(video=video, prompt=prompt, image_width=512, image_height=512, negative_prompt=negative_prompt, save_path=save_path)"
   ]
  },
  {
   "cell_type": "markdown",
   "id": "b09cc5e4-c252-4ee6-8204-02855648cc06",
   "metadata": {},
   "source": [
    "## 训练自己的ControlNet"
   ]
  },
  {
   "cell_type": "markdown",
   "id": "b0424eec-2c8e-4709-96fc-406ab1ee4861",
   "metadata": {},
   "source": [
    "## 下载数据集"
   ]
  },
  {
   "cell_type": "code",
   "execution_count": null,
   "id": "8b386045-6863-4aa6-a7d5-a8c879306673",
   "metadata": {},
   "outputs": [],
   "source": [
    "!rm -rf fill50k.zip fill50k\n",
    "!wget https://huggingface.co/lllyasviel/ControlNet/blob/main/training/fill50k.zip\n",
    "!unzip fill50k.zip >> /dev/null # 解压压缩包\n",
    "!rm -rf fill50k.zip # 删除压缩包"
   ]
  },
  {
   "cell_type": "markdown",
   "id": "b0e8a2de-aaf2-4d57-bb5b-013c720b3c22",
   "metadata": {},
   "source": [
    "## 训练"
   ]
  },
  {
   "cell_type": "code",
   "execution_count": null,
   "id": "581dfa41-7ff7-43d5-84a7-7a99ebf38ff8",
   "metadata": {},
   "outputs": [],
   "source": [
    "!bash tools/dist_train.sh configs/controlnet/controlnet-1xb1-demo_dataset 1"
   ]
  }
 ],
 "metadata": {
  "kernelspec": {
   "display_name": "Python 3 (ipykernel)",
   "language": "python",
   "name": "python3"
  },
  "language_info": {
   "codemirror_mode": {
    "name": "ipython",
    "version": 3
   },
   "file_extension": ".py",
   "mimetype": "text/x-python",
   "name": "python",
   "nbconvert_exporter": "python",
   "pygments_lexer": "ipython3",
   "version": "3.8.10"
  }
 },
 "nbformat": 4,
 "nbformat_minor": 5
}
